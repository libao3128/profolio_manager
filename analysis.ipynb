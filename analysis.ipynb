{
 "cells": [
  {
   "cell_type": "code",
   "execution_count": 1,
   "metadata": {},
   "outputs": [],
   "source": [
    "import pandas as pd\n",
    "import matplotlib.pyplot as plt\n",
    "import numpy as np\n",
    "import plotly.express as px\n",
    "from portfolio import Portfolio\n",
    "import yfinance as yf\n",
    "import datetime\n",
    "from plotly.subplots import make_subplots\n",
    "\n",
    "profolio = Portfolio('Firstrade')\n",
    "profolio.from_csv('data/FT_CSV_87748402.csv')"
   ]
  },
  {
   "cell_type": "code",
   "execution_count": 2,
   "metadata": {},
   "outputs": [
    {
     "data": {
      "application/vnd.plotly.v1+json": {
       "config": {
        "plotlyServerURL": "https://plot.ly"
       },
       "data": [
        {
         "hovertemplate": "<b>%{hovertext}</b><br><br>Earn=True<br>DaysHeld=%{x}<br>ROE=%{y}<br>Cost=%{marker.size}<extra></extra>",
         "hovertext": [
          "NFLX",
          "QCOM",
          "DIS",
          "MSFT",
          "UBER",
          "UBER",
          "FRC"
         ],
         "legendgroup": "True",
         "marker": {
          "color": "#EF553B",
          "size": [
           337,
           128.965,
           104.46,
           248,
           335,
           152.2375,
           135
          ],
          "sizemode": "area",
          "sizeref": 0.8425,
          "symbol": "circle"
         },
         "mode": "markers",
         "name": "True",
         "orientation": "v",
         "showlegend": true,
         "type": "scatter",
         "x": [
          8,
          7,
          9,
          27,
          1,
          2,
          1
         ],
         "xaxis": "x",
         "y": [
          0.05046824925816016,
          0.031287558639941045,
          0.0579169059927246,
          0.04233870967741935,
          0.022388059701492536,
          0.07069545939732318,
          0.05925925925925926
         ],
         "yaxis": "y"
        },
        {
         "hovertemplate": "<b>%{hovertext}</b><br><br>Earn=False<br>DaysHeld=%{x}<br>ROE=%{y}<br>Cost=%{marker.size}<extra></extra>",
         "hovertext": [
          "QCOM",
          "FSLR"
         ],
         "legendgroup": "False",
         "marker": {
          "color": "#00CC96",
          "size": [
           249.804,
           204.8635
          ],
          "sizemode": "area",
          "sizeref": 0.8425,
          "symbol": "circle"
         },
         "mode": "markers",
         "name": "False",
         "orientation": "v",
         "showlegend": true,
         "type": "scatter",
         "x": [
          7,
          5
         ],
         "xaxis": "x",
         "y": [
          -0.03940689500568443,
          -0.04311895481625564
         ],
         "yaxis": "y"
        },
        {
         "hovertemplate": "<b>OLS trendline</b><br>ROE = 0.000285646 * DaysHeld + 0.0258544<br>R<sup>2</sup>=0.002928<br><br>DaysHeld=%{x}<br>ROE=%{y} <b>(trend)</b><extra></extra>",
         "legendgroup": "Overall Trendline",
         "line": {
          "color": "#00cc96"
         },
         "mode": "lines",
         "name": "Overall Trendline",
         "showlegend": true,
         "type": "scatter",
         "x": [
          1,
          1,
          2,
          5,
          7,
          7,
          8,
          9,
          27
         ],
         "xaxis": "x",
         "y": [
          0.026140095923813434,
          0.026140095923813434,
          0.02642574228226273,
          0.02728268135761062,
          0.02785397407450922,
          0.02785397407450922,
          0.028139620432958513,
          0.028425266791407812,
          0.033566901243495165
         ],
         "yaxis": "y"
        }
       ],
       "layout": {
        "legend": {
         "itemsizing": "constant",
         "title": {
          "text": "Earn"
         },
         "tracegroupgap": 0
        },
        "template": {
         "data": {
          "bar": [
           {
            "error_x": {
             "color": "#2a3f5f"
            },
            "error_y": {
             "color": "#2a3f5f"
            },
            "marker": {
             "line": {
              "color": "#E5ECF6",
              "width": 0.5
             },
             "pattern": {
              "fillmode": "overlay",
              "size": 10,
              "solidity": 0.2
             }
            },
            "type": "bar"
           }
          ],
          "barpolar": [
           {
            "marker": {
             "line": {
              "color": "#E5ECF6",
              "width": 0.5
             },
             "pattern": {
              "fillmode": "overlay",
              "size": 10,
              "solidity": 0.2
             }
            },
            "type": "barpolar"
           }
          ],
          "carpet": [
           {
            "aaxis": {
             "endlinecolor": "#2a3f5f",
             "gridcolor": "white",
             "linecolor": "white",
             "minorgridcolor": "white",
             "startlinecolor": "#2a3f5f"
            },
            "baxis": {
             "endlinecolor": "#2a3f5f",
             "gridcolor": "white",
             "linecolor": "white",
             "minorgridcolor": "white",
             "startlinecolor": "#2a3f5f"
            },
            "type": "carpet"
           }
          ],
          "choropleth": [
           {
            "colorbar": {
             "outlinewidth": 0,
             "ticks": ""
            },
            "type": "choropleth"
           }
          ],
          "contour": [
           {
            "colorbar": {
             "outlinewidth": 0,
             "ticks": ""
            },
            "colorscale": [
             [
              0,
              "#0d0887"
             ],
             [
              0.1111111111111111,
              "#46039f"
             ],
             [
              0.2222222222222222,
              "#7201a8"
             ],
             [
              0.3333333333333333,
              "#9c179e"
             ],
             [
              0.4444444444444444,
              "#bd3786"
             ],
             [
              0.5555555555555556,
              "#d8576b"
             ],
             [
              0.6666666666666666,
              "#ed7953"
             ],
             [
              0.7777777777777778,
              "#fb9f3a"
             ],
             [
              0.8888888888888888,
              "#fdca26"
             ],
             [
              1,
              "#f0f921"
             ]
            ],
            "type": "contour"
           }
          ],
          "contourcarpet": [
           {
            "colorbar": {
             "outlinewidth": 0,
             "ticks": ""
            },
            "type": "contourcarpet"
           }
          ],
          "heatmap": [
           {
            "colorbar": {
             "outlinewidth": 0,
             "ticks": ""
            },
            "colorscale": [
             [
              0,
              "#0d0887"
             ],
             [
              0.1111111111111111,
              "#46039f"
             ],
             [
              0.2222222222222222,
              "#7201a8"
             ],
             [
              0.3333333333333333,
              "#9c179e"
             ],
             [
              0.4444444444444444,
              "#bd3786"
             ],
             [
              0.5555555555555556,
              "#d8576b"
             ],
             [
              0.6666666666666666,
              "#ed7953"
             ],
             [
              0.7777777777777778,
              "#fb9f3a"
             ],
             [
              0.8888888888888888,
              "#fdca26"
             ],
             [
              1,
              "#f0f921"
             ]
            ],
            "type": "heatmap"
           }
          ],
          "heatmapgl": [
           {
            "colorbar": {
             "outlinewidth": 0,
             "ticks": ""
            },
            "colorscale": [
             [
              0,
              "#0d0887"
             ],
             [
              0.1111111111111111,
              "#46039f"
             ],
             [
              0.2222222222222222,
              "#7201a8"
             ],
             [
              0.3333333333333333,
              "#9c179e"
             ],
             [
              0.4444444444444444,
              "#bd3786"
             ],
             [
              0.5555555555555556,
              "#d8576b"
             ],
             [
              0.6666666666666666,
              "#ed7953"
             ],
             [
              0.7777777777777778,
              "#fb9f3a"
             ],
             [
              0.8888888888888888,
              "#fdca26"
             ],
             [
              1,
              "#f0f921"
             ]
            ],
            "type": "heatmapgl"
           }
          ],
          "histogram": [
           {
            "marker": {
             "pattern": {
              "fillmode": "overlay",
              "size": 10,
              "solidity": 0.2
             }
            },
            "type": "histogram"
           }
          ],
          "histogram2d": [
           {
            "colorbar": {
             "outlinewidth": 0,
             "ticks": ""
            },
            "colorscale": [
             [
              0,
              "#0d0887"
             ],
             [
              0.1111111111111111,
              "#46039f"
             ],
             [
              0.2222222222222222,
              "#7201a8"
             ],
             [
              0.3333333333333333,
              "#9c179e"
             ],
             [
              0.4444444444444444,
              "#bd3786"
             ],
             [
              0.5555555555555556,
              "#d8576b"
             ],
             [
              0.6666666666666666,
              "#ed7953"
             ],
             [
              0.7777777777777778,
              "#fb9f3a"
             ],
             [
              0.8888888888888888,
              "#fdca26"
             ],
             [
              1,
              "#f0f921"
             ]
            ],
            "type": "histogram2d"
           }
          ],
          "histogram2dcontour": [
           {
            "colorbar": {
             "outlinewidth": 0,
             "ticks": ""
            },
            "colorscale": [
             [
              0,
              "#0d0887"
             ],
             [
              0.1111111111111111,
              "#46039f"
             ],
             [
              0.2222222222222222,
              "#7201a8"
             ],
             [
              0.3333333333333333,
              "#9c179e"
             ],
             [
              0.4444444444444444,
              "#bd3786"
             ],
             [
              0.5555555555555556,
              "#d8576b"
             ],
             [
              0.6666666666666666,
              "#ed7953"
             ],
             [
              0.7777777777777778,
              "#fb9f3a"
             ],
             [
              0.8888888888888888,
              "#fdca26"
             ],
             [
              1,
              "#f0f921"
             ]
            ],
            "type": "histogram2dcontour"
           }
          ],
          "mesh3d": [
           {
            "colorbar": {
             "outlinewidth": 0,
             "ticks": ""
            },
            "type": "mesh3d"
           }
          ],
          "parcoords": [
           {
            "line": {
             "colorbar": {
              "outlinewidth": 0,
              "ticks": ""
             }
            },
            "type": "parcoords"
           }
          ],
          "pie": [
           {
            "automargin": true,
            "type": "pie"
           }
          ],
          "scatter": [
           {
            "fillpattern": {
             "fillmode": "overlay",
             "size": 10,
             "solidity": 0.2
            },
            "type": "scatter"
           }
          ],
          "scatter3d": [
           {
            "line": {
             "colorbar": {
              "outlinewidth": 0,
              "ticks": ""
             }
            },
            "marker": {
             "colorbar": {
              "outlinewidth": 0,
              "ticks": ""
             }
            },
            "type": "scatter3d"
           }
          ],
          "scattercarpet": [
           {
            "marker": {
             "colorbar": {
              "outlinewidth": 0,
              "ticks": ""
             }
            },
            "type": "scattercarpet"
           }
          ],
          "scattergeo": [
           {
            "marker": {
             "colorbar": {
              "outlinewidth": 0,
              "ticks": ""
             }
            },
            "type": "scattergeo"
           }
          ],
          "scattergl": [
           {
            "marker": {
             "colorbar": {
              "outlinewidth": 0,
              "ticks": ""
             }
            },
            "type": "scattergl"
           }
          ],
          "scattermapbox": [
           {
            "marker": {
             "colorbar": {
              "outlinewidth": 0,
              "ticks": ""
             }
            },
            "type": "scattermapbox"
           }
          ],
          "scatterpolar": [
           {
            "marker": {
             "colorbar": {
              "outlinewidth": 0,
              "ticks": ""
             }
            },
            "type": "scatterpolar"
           }
          ],
          "scatterpolargl": [
           {
            "marker": {
             "colorbar": {
              "outlinewidth": 0,
              "ticks": ""
             }
            },
            "type": "scatterpolargl"
           }
          ],
          "scatterternary": [
           {
            "marker": {
             "colorbar": {
              "outlinewidth": 0,
              "ticks": ""
             }
            },
            "type": "scatterternary"
           }
          ],
          "surface": [
           {
            "colorbar": {
             "outlinewidth": 0,
             "ticks": ""
            },
            "colorscale": [
             [
              0,
              "#0d0887"
             ],
             [
              0.1111111111111111,
              "#46039f"
             ],
             [
              0.2222222222222222,
              "#7201a8"
             ],
             [
              0.3333333333333333,
              "#9c179e"
             ],
             [
              0.4444444444444444,
              "#bd3786"
             ],
             [
              0.5555555555555556,
              "#d8576b"
             ],
             [
              0.6666666666666666,
              "#ed7953"
             ],
             [
              0.7777777777777778,
              "#fb9f3a"
             ],
             [
              0.8888888888888888,
              "#fdca26"
             ],
             [
              1,
              "#f0f921"
             ]
            ],
            "type": "surface"
           }
          ],
          "table": [
           {
            "cells": {
             "fill": {
              "color": "#EBF0F8"
             },
             "line": {
              "color": "white"
             }
            },
            "header": {
             "fill": {
              "color": "#C8D4E3"
             },
             "line": {
              "color": "white"
             }
            },
            "type": "table"
           }
          ]
         },
         "layout": {
          "annotationdefaults": {
           "arrowcolor": "#2a3f5f",
           "arrowhead": 0,
           "arrowwidth": 1
          },
          "autotypenumbers": "strict",
          "coloraxis": {
           "colorbar": {
            "outlinewidth": 0,
            "ticks": ""
           }
          },
          "colorscale": {
           "diverging": [
            [
             0,
             "#8e0152"
            ],
            [
             0.1,
             "#c51b7d"
            ],
            [
             0.2,
             "#de77ae"
            ],
            [
             0.3,
             "#f1b6da"
            ],
            [
             0.4,
             "#fde0ef"
            ],
            [
             0.5,
             "#f7f7f7"
            ],
            [
             0.6,
             "#e6f5d0"
            ],
            [
             0.7,
             "#b8e186"
            ],
            [
             0.8,
             "#7fbc41"
            ],
            [
             0.9,
             "#4d9221"
            ],
            [
             1,
             "#276419"
            ]
           ],
           "sequential": [
            [
             0,
             "#0d0887"
            ],
            [
             0.1111111111111111,
             "#46039f"
            ],
            [
             0.2222222222222222,
             "#7201a8"
            ],
            [
             0.3333333333333333,
             "#9c179e"
            ],
            [
             0.4444444444444444,
             "#bd3786"
            ],
            [
             0.5555555555555556,
             "#d8576b"
            ],
            [
             0.6666666666666666,
             "#ed7953"
            ],
            [
             0.7777777777777778,
             "#fb9f3a"
            ],
            [
             0.8888888888888888,
             "#fdca26"
            ],
            [
             1,
             "#f0f921"
            ]
           ],
           "sequentialminus": [
            [
             0,
             "#0d0887"
            ],
            [
             0.1111111111111111,
             "#46039f"
            ],
            [
             0.2222222222222222,
             "#7201a8"
            ],
            [
             0.3333333333333333,
             "#9c179e"
            ],
            [
             0.4444444444444444,
             "#bd3786"
            ],
            [
             0.5555555555555556,
             "#d8576b"
            ],
            [
             0.6666666666666666,
             "#ed7953"
            ],
            [
             0.7777777777777778,
             "#fb9f3a"
            ],
            [
             0.8888888888888888,
             "#fdca26"
            ],
            [
             1,
             "#f0f921"
            ]
           ]
          },
          "colorway": [
           "#636efa",
           "#EF553B",
           "#00cc96",
           "#ab63fa",
           "#FFA15A",
           "#19d3f3",
           "#FF6692",
           "#B6E880",
           "#FF97FF",
           "#FECB52"
          ],
          "font": {
           "color": "#2a3f5f"
          },
          "geo": {
           "bgcolor": "white",
           "lakecolor": "white",
           "landcolor": "#E5ECF6",
           "showlakes": true,
           "showland": true,
           "subunitcolor": "white"
          },
          "hoverlabel": {
           "align": "left"
          },
          "hovermode": "closest",
          "mapbox": {
           "style": "light"
          },
          "paper_bgcolor": "white",
          "plot_bgcolor": "#E5ECF6",
          "polar": {
           "angularaxis": {
            "gridcolor": "white",
            "linecolor": "white",
            "ticks": ""
           },
           "bgcolor": "#E5ECF6",
           "radialaxis": {
            "gridcolor": "white",
            "linecolor": "white",
            "ticks": ""
           }
          },
          "scene": {
           "xaxis": {
            "backgroundcolor": "#E5ECF6",
            "gridcolor": "white",
            "gridwidth": 2,
            "linecolor": "white",
            "showbackground": true,
            "ticks": "",
            "zerolinecolor": "white"
           },
           "yaxis": {
            "backgroundcolor": "#E5ECF6",
            "gridcolor": "white",
            "gridwidth": 2,
            "linecolor": "white",
            "showbackground": true,
            "ticks": "",
            "zerolinecolor": "white"
           },
           "zaxis": {
            "backgroundcolor": "#E5ECF6",
            "gridcolor": "white",
            "gridwidth": 2,
            "linecolor": "white",
            "showbackground": true,
            "ticks": "",
            "zerolinecolor": "white"
           }
          },
          "shapedefaults": {
           "line": {
            "color": "#2a3f5f"
           }
          },
          "ternary": {
           "aaxis": {
            "gridcolor": "white",
            "linecolor": "white",
            "ticks": ""
           },
           "baxis": {
            "gridcolor": "white",
            "linecolor": "white",
            "ticks": ""
           },
           "bgcolor": "#E5ECF6",
           "caxis": {
            "gridcolor": "white",
            "linecolor": "white",
            "ticks": ""
           }
          },
          "title": {
           "x": 0.05
          },
          "xaxis": {
           "automargin": true,
           "gridcolor": "white",
           "linecolor": "white",
           "ticks": "",
           "title": {
            "standoff": 15
           },
           "zerolinecolor": "white",
           "zerolinewidth": 2
          },
          "yaxis": {
           "automargin": true,
           "gridcolor": "white",
           "linecolor": "white",
           "ticks": "",
           "title": {
            "standoff": 15
           },
           "zerolinecolor": "white",
           "zerolinewidth": 2
          }
         }
        },
        "title": {
         "text": "ROE and Day Held"
        },
        "xaxis": {
         "anchor": "y",
         "domain": [
          0,
          1
         ],
         "title": {
          "text": "DaysHeld"
         }
        },
        "yaxis": {
         "anchor": "x",
         "domain": [
          0,
          1
         ],
         "tickformat": ".2%",
         "title": {
          "text": "ROE"
         }
        }
       }
      }
     },
     "metadata": {},
     "output_type": "display_data"
    },
    {
     "name": "stderr",
     "output_type": "stream",
     "text": [
      "c:\\Users\\USER\\OneDrive - 國立陽明交通大學\\文件\\stock\\chart.py:42: FutureWarning:\n",
      "\n",
      "The default value of numeric_only in DataFrameGroupBy.mean is deprecated. In a future version, numeric_only will default to False. Either specify numeric_only or select only columns which should be valid for the function.\n",
      "\n",
      "c:\\Users\\USER\\OneDrive - 國立陽明交通大學\\文件\\stock\\chart.py:43: FutureWarning:\n",
      "\n",
      "The default value of numeric_only in DataFrameGroupBy.mean is deprecated. In a future version, numeric_only will default to False. Either specify numeric_only or select only columns which should be valid for the function.\n",
      "\n"
     ]
    },
    {
     "data": {
      "application/vnd.plotly.v1+json": {
       "config": {
        "plotlyServerURL": "https://plot.ly"
       },
       "data": [
        {
         "hovertemplate": "<b>%{hovertext}</b><br><br>Symbol=DIS<br>gain_lose_ratio=%{x}<br>win_rate=%{y}<br>count=%{text}<extra></extra>",
         "hovertext": [
          "DIS"
         ],
         "legendgroup": "DIS",
         "marker": {
          "color": "#636efa",
          "size": [
           1
          ],
          "sizemode": "area",
          "sizeref": 0.0005555555555555556,
          "symbol": "circle"
         },
         "mode": "markers+text",
         "name": "DIS",
         "orientation": "v",
         "showlegend": true,
         "text": [
          1
         ],
         "type": "scatter",
         "x": [
          0
         ],
         "xaxis": "x",
         "y": [
          1
         ],
         "yaxis": "y"
        },
        {
         "hovertemplate": "<b>%{hovertext}</b><br><br>Symbol=FRC<br>gain_lose_ratio=%{x}<br>win_rate=%{y}<br>count=%{text}<extra></extra>",
         "hovertext": [
          "FRC"
         ],
         "legendgroup": "FRC",
         "marker": {
          "color": "#EF553B",
          "size": [
           1
          ],
          "sizemode": "area",
          "sizeref": 0.0005555555555555556,
          "symbol": "circle"
         },
         "mode": "markers+text",
         "name": "FRC",
         "orientation": "v",
         "showlegend": true,
         "text": [
          1
         ],
         "type": "scatter",
         "x": [
          0
         ],
         "xaxis": "x",
         "y": [
          1
         ],
         "yaxis": "y"
        },
        {
         "hovertemplate": "<b>%{hovertext}</b><br><br>Symbol=FSLR<br>gain_lose_ratio=%{x}<br>win_rate=%{y}<br>count=%{text}<extra></extra>",
         "hovertext": [
          "FSLR"
         ],
         "legendgroup": "FSLR",
         "marker": {
          "color": "#00cc96",
          "size": [
           1
          ],
          "sizemode": "area",
          "sizeref": 0.0005555555555555556,
          "symbol": "circle"
         },
         "mode": "markers+text",
         "name": "FSLR",
         "orientation": "v",
         "showlegend": true,
         "text": [
          1
         ],
         "type": "scatter",
         "x": [
          0
         ],
         "xaxis": "x",
         "y": [
          0
         ],
         "yaxis": "y"
        },
        {
         "hovertemplate": "<b>%{hovertext}</b><br><br>Symbol=MSFT<br>gain_lose_ratio=%{x}<br>win_rate=%{y}<br>count=%{text}<extra></extra>",
         "hovertext": [
          "MSFT"
         ],
         "legendgroup": "MSFT",
         "marker": {
          "color": "#ab63fa",
          "size": [
           1
          ],
          "sizemode": "area",
          "sizeref": 0.0005555555555555556,
          "symbol": "circle"
         },
         "mode": "markers+text",
         "name": "MSFT",
         "orientation": "v",
         "showlegend": true,
         "text": [
          1
         ],
         "type": "scatter",
         "x": [
          0
         ],
         "xaxis": "x",
         "y": [
          1
         ],
         "yaxis": "y"
        },
        {
         "hovertemplate": "<b>%{hovertext}</b><br><br>Symbol=NFLX<br>gain_lose_ratio=%{x}<br>win_rate=%{y}<br>count=%{text}<extra></extra>",
         "hovertext": [
          "NFLX"
         ],
         "legendgroup": "NFLX",
         "marker": {
          "color": "#FFA15A",
          "size": [
           1
          ],
          "sizemode": "area",
          "sizeref": 0.0005555555555555556,
          "symbol": "circle"
         },
         "mode": "markers+text",
         "name": "NFLX",
         "orientation": "v",
         "showlegend": true,
         "text": [
          1
         ],
         "type": "scatter",
         "x": [
          0
         ],
         "xaxis": "x",
         "y": [
          1
         ],
         "yaxis": "y"
        },
        {
         "hovertemplate": "<b>%{hovertext}</b><br><br>Symbol=QCOM<br>gain_lose_ratio=%{x}<br>win_rate=%{y}<br>count=%{text}<extra></extra>",
         "hovertext": [
          "QCOM"
         ],
         "legendgroup": "QCOM",
         "marker": {
          "color": "#19d3f3",
          "size": [
           2
          ],
          "sizemode": "area",
          "sizeref": 0.0005555555555555556,
          "symbol": "circle"
         },
         "mode": "markers+text",
         "name": "QCOM",
         "orientation": "v",
         "showlegend": true,
         "text": [
          2
         ],
         "type": "scatter",
         "x": [
          0.4098943518894757
         ],
         "xaxis": "x",
         "y": [
          0.5
         ],
         "yaxis": "y"
        },
        {
         "hovertemplate": "<b>%{hovertext}</b><br><br>Symbol=UBER<br>gain_lose_ratio=%{x}<br>win_rate=%{y}<br>count=%{text}<extra></extra>",
         "hovertext": [
          "UBER"
         ],
         "legendgroup": "UBER",
         "marker": {
          "color": "#FF6692",
          "size": [
           2
          ],
          "sizemode": "area",
          "sizeref": 0.0005555555555555556,
          "symbol": "circle"
         },
         "mode": "markers+text",
         "name": "UBER",
         "orientation": "v",
         "showlegend": true,
         "text": [
          2
         ],
         "type": "scatter",
         "x": [
          0
         ],
         "xaxis": "x",
         "y": [
          1
         ],
         "yaxis": "y"
        }
       ],
       "layout": {
        "legend": {
         "itemsizing": "constant",
         "title": {
          "text": "Symbol"
         },
         "tracegroupgap": 0
        },
        "template": {
         "data": {
          "bar": [
           {
            "error_x": {
             "color": "#2a3f5f"
            },
            "error_y": {
             "color": "#2a3f5f"
            },
            "marker": {
             "line": {
              "color": "#E5ECF6",
              "width": 0.5
             },
             "pattern": {
              "fillmode": "overlay",
              "size": 10,
              "solidity": 0.2
             }
            },
            "type": "bar"
           }
          ],
          "barpolar": [
           {
            "marker": {
             "line": {
              "color": "#E5ECF6",
              "width": 0.5
             },
             "pattern": {
              "fillmode": "overlay",
              "size": 10,
              "solidity": 0.2
             }
            },
            "type": "barpolar"
           }
          ],
          "carpet": [
           {
            "aaxis": {
             "endlinecolor": "#2a3f5f",
             "gridcolor": "white",
             "linecolor": "white",
             "minorgridcolor": "white",
             "startlinecolor": "#2a3f5f"
            },
            "baxis": {
             "endlinecolor": "#2a3f5f",
             "gridcolor": "white",
             "linecolor": "white",
             "minorgridcolor": "white",
             "startlinecolor": "#2a3f5f"
            },
            "type": "carpet"
           }
          ],
          "choropleth": [
           {
            "colorbar": {
             "outlinewidth": 0,
             "ticks": ""
            },
            "type": "choropleth"
           }
          ],
          "contour": [
           {
            "colorbar": {
             "outlinewidth": 0,
             "ticks": ""
            },
            "colorscale": [
             [
              0,
              "#0d0887"
             ],
             [
              0.1111111111111111,
              "#46039f"
             ],
             [
              0.2222222222222222,
              "#7201a8"
             ],
             [
              0.3333333333333333,
              "#9c179e"
             ],
             [
              0.4444444444444444,
              "#bd3786"
             ],
             [
              0.5555555555555556,
              "#d8576b"
             ],
             [
              0.6666666666666666,
              "#ed7953"
             ],
             [
              0.7777777777777778,
              "#fb9f3a"
             ],
             [
              0.8888888888888888,
              "#fdca26"
             ],
             [
              1,
              "#f0f921"
             ]
            ],
            "type": "contour"
           }
          ],
          "contourcarpet": [
           {
            "colorbar": {
             "outlinewidth": 0,
             "ticks": ""
            },
            "type": "contourcarpet"
           }
          ],
          "heatmap": [
           {
            "colorbar": {
             "outlinewidth": 0,
             "ticks": ""
            },
            "colorscale": [
             [
              0,
              "#0d0887"
             ],
             [
              0.1111111111111111,
              "#46039f"
             ],
             [
              0.2222222222222222,
              "#7201a8"
             ],
             [
              0.3333333333333333,
              "#9c179e"
             ],
             [
              0.4444444444444444,
              "#bd3786"
             ],
             [
              0.5555555555555556,
              "#d8576b"
             ],
             [
              0.6666666666666666,
              "#ed7953"
             ],
             [
              0.7777777777777778,
              "#fb9f3a"
             ],
             [
              0.8888888888888888,
              "#fdca26"
             ],
             [
              1,
              "#f0f921"
             ]
            ],
            "type": "heatmap"
           }
          ],
          "heatmapgl": [
           {
            "colorbar": {
             "outlinewidth": 0,
             "ticks": ""
            },
            "colorscale": [
             [
              0,
              "#0d0887"
             ],
             [
              0.1111111111111111,
              "#46039f"
             ],
             [
              0.2222222222222222,
              "#7201a8"
             ],
             [
              0.3333333333333333,
              "#9c179e"
             ],
             [
              0.4444444444444444,
              "#bd3786"
             ],
             [
              0.5555555555555556,
              "#d8576b"
             ],
             [
              0.6666666666666666,
              "#ed7953"
             ],
             [
              0.7777777777777778,
              "#fb9f3a"
             ],
             [
              0.8888888888888888,
              "#fdca26"
             ],
             [
              1,
              "#f0f921"
             ]
            ],
            "type": "heatmapgl"
           }
          ],
          "histogram": [
           {
            "marker": {
             "pattern": {
              "fillmode": "overlay",
              "size": 10,
              "solidity": 0.2
             }
            },
            "type": "histogram"
           }
          ],
          "histogram2d": [
           {
            "colorbar": {
             "outlinewidth": 0,
             "ticks": ""
            },
            "colorscale": [
             [
              0,
              "#0d0887"
             ],
             [
              0.1111111111111111,
              "#46039f"
             ],
             [
              0.2222222222222222,
              "#7201a8"
             ],
             [
              0.3333333333333333,
              "#9c179e"
             ],
             [
              0.4444444444444444,
              "#bd3786"
             ],
             [
              0.5555555555555556,
              "#d8576b"
             ],
             [
              0.6666666666666666,
              "#ed7953"
             ],
             [
              0.7777777777777778,
              "#fb9f3a"
             ],
             [
              0.8888888888888888,
              "#fdca26"
             ],
             [
              1,
              "#f0f921"
             ]
            ],
            "type": "histogram2d"
           }
          ],
          "histogram2dcontour": [
           {
            "colorbar": {
             "outlinewidth": 0,
             "ticks": ""
            },
            "colorscale": [
             [
              0,
              "#0d0887"
             ],
             [
              0.1111111111111111,
              "#46039f"
             ],
             [
              0.2222222222222222,
              "#7201a8"
             ],
             [
              0.3333333333333333,
              "#9c179e"
             ],
             [
              0.4444444444444444,
              "#bd3786"
             ],
             [
              0.5555555555555556,
              "#d8576b"
             ],
             [
              0.6666666666666666,
              "#ed7953"
             ],
             [
              0.7777777777777778,
              "#fb9f3a"
             ],
             [
              0.8888888888888888,
              "#fdca26"
             ],
             [
              1,
              "#f0f921"
             ]
            ],
            "type": "histogram2dcontour"
           }
          ],
          "mesh3d": [
           {
            "colorbar": {
             "outlinewidth": 0,
             "ticks": ""
            },
            "type": "mesh3d"
           }
          ],
          "parcoords": [
           {
            "line": {
             "colorbar": {
              "outlinewidth": 0,
              "ticks": ""
             }
            },
            "type": "parcoords"
           }
          ],
          "pie": [
           {
            "automargin": true,
            "type": "pie"
           }
          ],
          "scatter": [
           {
            "fillpattern": {
             "fillmode": "overlay",
             "size": 10,
             "solidity": 0.2
            },
            "type": "scatter"
           }
          ],
          "scatter3d": [
           {
            "line": {
             "colorbar": {
              "outlinewidth": 0,
              "ticks": ""
             }
            },
            "marker": {
             "colorbar": {
              "outlinewidth": 0,
              "ticks": ""
             }
            },
            "type": "scatter3d"
           }
          ],
          "scattercarpet": [
           {
            "marker": {
             "colorbar": {
              "outlinewidth": 0,
              "ticks": ""
             }
            },
            "type": "scattercarpet"
           }
          ],
          "scattergeo": [
           {
            "marker": {
             "colorbar": {
              "outlinewidth": 0,
              "ticks": ""
             }
            },
            "type": "scattergeo"
           }
          ],
          "scattergl": [
           {
            "marker": {
             "colorbar": {
              "outlinewidth": 0,
              "ticks": ""
             }
            },
            "type": "scattergl"
           }
          ],
          "scattermapbox": [
           {
            "marker": {
             "colorbar": {
              "outlinewidth": 0,
              "ticks": ""
             }
            },
            "type": "scattermapbox"
           }
          ],
          "scatterpolar": [
           {
            "marker": {
             "colorbar": {
              "outlinewidth": 0,
              "ticks": ""
             }
            },
            "type": "scatterpolar"
           }
          ],
          "scatterpolargl": [
           {
            "marker": {
             "colorbar": {
              "outlinewidth": 0,
              "ticks": ""
             }
            },
            "type": "scatterpolargl"
           }
          ],
          "scatterternary": [
           {
            "marker": {
             "colorbar": {
              "outlinewidth": 0,
              "ticks": ""
             }
            },
            "type": "scatterternary"
           }
          ],
          "surface": [
           {
            "colorbar": {
             "outlinewidth": 0,
             "ticks": ""
            },
            "colorscale": [
             [
              0,
              "#0d0887"
             ],
             [
              0.1111111111111111,
              "#46039f"
             ],
             [
              0.2222222222222222,
              "#7201a8"
             ],
             [
              0.3333333333333333,
              "#9c179e"
             ],
             [
              0.4444444444444444,
              "#bd3786"
             ],
             [
              0.5555555555555556,
              "#d8576b"
             ],
             [
              0.6666666666666666,
              "#ed7953"
             ],
             [
              0.7777777777777778,
              "#fb9f3a"
             ],
             [
              0.8888888888888888,
              "#fdca26"
             ],
             [
              1,
              "#f0f921"
             ]
            ],
            "type": "surface"
           }
          ],
          "table": [
           {
            "cells": {
             "fill": {
              "color": "#EBF0F8"
             },
             "line": {
              "color": "white"
             }
            },
            "header": {
             "fill": {
              "color": "#C8D4E3"
             },
             "line": {
              "color": "white"
             }
            },
            "type": "table"
           }
          ]
         },
         "layout": {
          "annotationdefaults": {
           "arrowcolor": "#2a3f5f",
           "arrowhead": 0,
           "arrowwidth": 1
          },
          "autotypenumbers": "strict",
          "coloraxis": {
           "colorbar": {
            "outlinewidth": 0,
            "ticks": ""
           }
          },
          "colorscale": {
           "diverging": [
            [
             0,
             "#8e0152"
            ],
            [
             0.1,
             "#c51b7d"
            ],
            [
             0.2,
             "#de77ae"
            ],
            [
             0.3,
             "#f1b6da"
            ],
            [
             0.4,
             "#fde0ef"
            ],
            [
             0.5,
             "#f7f7f7"
            ],
            [
             0.6,
             "#e6f5d0"
            ],
            [
             0.7,
             "#b8e186"
            ],
            [
             0.8,
             "#7fbc41"
            ],
            [
             0.9,
             "#4d9221"
            ],
            [
             1,
             "#276419"
            ]
           ],
           "sequential": [
            [
             0,
             "#0d0887"
            ],
            [
             0.1111111111111111,
             "#46039f"
            ],
            [
             0.2222222222222222,
             "#7201a8"
            ],
            [
             0.3333333333333333,
             "#9c179e"
            ],
            [
             0.4444444444444444,
             "#bd3786"
            ],
            [
             0.5555555555555556,
             "#d8576b"
            ],
            [
             0.6666666666666666,
             "#ed7953"
            ],
            [
             0.7777777777777778,
             "#fb9f3a"
            ],
            [
             0.8888888888888888,
             "#fdca26"
            ],
            [
             1,
             "#f0f921"
            ]
           ],
           "sequentialminus": [
            [
             0,
             "#0d0887"
            ],
            [
             0.1111111111111111,
             "#46039f"
            ],
            [
             0.2222222222222222,
             "#7201a8"
            ],
            [
             0.3333333333333333,
             "#9c179e"
            ],
            [
             0.4444444444444444,
             "#bd3786"
            ],
            [
             0.5555555555555556,
             "#d8576b"
            ],
            [
             0.6666666666666666,
             "#ed7953"
            ],
            [
             0.7777777777777778,
             "#fb9f3a"
            ],
            [
             0.8888888888888888,
             "#fdca26"
            ],
            [
             1,
             "#f0f921"
            ]
           ]
          },
          "colorway": [
           "#636efa",
           "#EF553B",
           "#00cc96",
           "#ab63fa",
           "#FFA15A",
           "#19d3f3",
           "#FF6692",
           "#B6E880",
           "#FF97FF",
           "#FECB52"
          ],
          "font": {
           "color": "#2a3f5f"
          },
          "geo": {
           "bgcolor": "white",
           "lakecolor": "white",
           "landcolor": "#E5ECF6",
           "showlakes": true,
           "showland": true,
           "subunitcolor": "white"
          },
          "hoverlabel": {
           "align": "left"
          },
          "hovermode": "closest",
          "mapbox": {
           "style": "light"
          },
          "paper_bgcolor": "white",
          "plot_bgcolor": "#E5ECF6",
          "polar": {
           "angularaxis": {
            "gridcolor": "white",
            "linecolor": "white",
            "ticks": ""
           },
           "bgcolor": "#E5ECF6",
           "radialaxis": {
            "gridcolor": "white",
            "linecolor": "white",
            "ticks": ""
           }
          },
          "scene": {
           "xaxis": {
            "backgroundcolor": "#E5ECF6",
            "gridcolor": "white",
            "gridwidth": 2,
            "linecolor": "white",
            "showbackground": true,
            "ticks": "",
            "zerolinecolor": "white"
           },
           "yaxis": {
            "backgroundcolor": "#E5ECF6",
            "gridcolor": "white",
            "gridwidth": 2,
            "linecolor": "white",
            "showbackground": true,
            "ticks": "",
            "zerolinecolor": "white"
           },
           "zaxis": {
            "backgroundcolor": "#E5ECF6",
            "gridcolor": "white",
            "gridwidth": 2,
            "linecolor": "white",
            "showbackground": true,
            "ticks": "",
            "zerolinecolor": "white"
           }
          },
          "shapedefaults": {
           "line": {
            "color": "#2a3f5f"
           }
          },
          "ternary": {
           "aaxis": {
            "gridcolor": "white",
            "linecolor": "white",
            "ticks": ""
           },
           "baxis": {
            "gridcolor": "white",
            "linecolor": "white",
            "ticks": ""
           },
           "bgcolor": "#E5ECF6",
           "caxis": {
            "gridcolor": "white",
            "linecolor": "white",
            "ticks": ""
           }
          },
          "title": {
           "x": 0.05
          },
          "xaxis": {
           "automargin": true,
           "gridcolor": "white",
           "linecolor": "white",
           "ticks": "",
           "title": {
            "standoff": 15
           },
           "zerolinecolor": "white",
           "zerolinewidth": 2
          },
          "yaxis": {
           "automargin": true,
           "gridcolor": "white",
           "linecolor": "white",
           "ticks": "",
           "title": {
            "standoff": 15
           },
           "zerolinecolor": "white",
           "zerolinewidth": 2
          }
         }
        },
        "title": {
         "text": "Win Rate and Gain Lose Ratio"
        },
        "xaxis": {
         "anchor": "y",
         "domain": [
          0,
          1
         ],
         "title": {
          "text": "gain_lose_ratio"
         }
        },
        "yaxis": {
         "anchor": "x",
         "domain": [
          0,
          1
         ],
         "tickformat": ".2%",
         "title": {
          "text": "win_rate"
         }
        }
       }
      }
     },
     "metadata": {},
     "output_type": "display_data"
    },
    {
     "name": "stdout",
     "output_type": "stream",
     "text": [
      "Successfully connected to SQLite database\n",
      "[*********************100%***********************]  1 of 1 completed\n",
      "[*********************100%***********************]  1 of 1 completed\n",
      "[*********************100%***********************]  1 of 1 completed\n",
      "Successfully created table\n",
      "Successfully inserted data into table: ('2023-04-04', 'MSFT', 287.2300109863281, 290.44989013671875, 286.3299865722656, 288.3999938964844, 288.3999938964844, 13587517.0)\n",
      "[*********************100%***********************]  3 of 3 completed\n",
      "Successfully connected to SQLite database\n",
      "[*********************100%***********************]  1 of 1 completed\n",
      "[*********************100%***********************]  1 of 1 completed\n",
      "value    TradeDate  Amount\n",
      "0 2022-02-22  3981.0\n"
     ]
    },
    {
     "data": {
      "application/vnd.plotly.v1+json": {
       "config": {
        "plotlyServerURL": "https://plot.ly"
       },
       "data": [
        {
         "line": {
          "color": "#EF553B"
         },
         "mode": "lines",
         "name": "portfolio",
         "type": "scatter",
         "x": [
          "2022-02-22T00:00:00",
          "2022-02-23T00:00:00",
          "2022-02-24T00:00:00",
          "2022-02-25T00:00:00",
          "2022-02-28T00:00:00",
          "2022-03-01T00:00:00",
          "2022-03-02T00:00:00",
          "2022-03-03T00:00:00",
          "2022-03-04T00:00:00",
          "2022-03-07T00:00:00",
          "2022-03-08T00:00:00",
          "2022-03-09T00:00:00",
          "2022-03-10T00:00:00",
          "2022-03-11T00:00:00",
          "2022-03-14T00:00:00",
          "2022-03-15T00:00:00",
          "2022-03-16T00:00:00",
          "2022-03-17T00:00:00",
          "2022-03-18T00:00:00",
          "2022-03-21T00:00:00",
          "2022-03-22T00:00:00",
          "2022-03-23T00:00:00",
          "2022-03-24T00:00:00",
          "2022-03-25T00:00:00",
          "2022-03-28T00:00:00",
          "2022-03-29T00:00:00",
          "2022-03-30T00:00:00",
          "2022-03-31T00:00:00",
          "2022-04-01T00:00:00",
          "2022-04-04T00:00:00",
          "2022-04-05T00:00:00",
          "2022-04-06T00:00:00",
          "2022-04-07T00:00:00",
          "2022-04-08T00:00:00",
          "2022-04-11T00:00:00",
          "2022-04-12T00:00:00",
          "2022-04-13T00:00:00",
          "2022-04-14T00:00:00",
          "2022-04-18T00:00:00",
          "2022-04-19T00:00:00",
          "2022-04-20T00:00:00",
          "2022-04-21T00:00:00",
          "2022-04-22T00:00:00",
          "2022-04-25T00:00:00",
          "2022-04-26T00:00:00",
          "2022-04-27T00:00:00",
          "2022-04-28T00:00:00",
          "2022-04-29T00:00:00",
          "2022-05-02T00:00:00",
          "2022-05-03T00:00:00",
          "2022-05-04T00:00:00",
          "2022-05-05T00:00:00",
          "2022-05-06T00:00:00",
          "2022-05-09T00:00:00",
          "2022-05-10T00:00:00",
          "2022-05-11T00:00:00",
          "2022-05-12T00:00:00",
          "2022-05-13T00:00:00",
          "2022-05-16T00:00:00",
          "2022-05-17T00:00:00",
          "2022-05-18T00:00:00",
          "2022-05-19T00:00:00",
          "2022-05-20T00:00:00",
          "2022-05-23T00:00:00",
          "2022-05-24T00:00:00",
          "2022-05-25T00:00:00",
          "2022-05-26T00:00:00",
          "2022-05-27T00:00:00",
          "2022-05-31T00:00:00",
          "2022-06-01T00:00:00",
          "2022-06-02T00:00:00",
          "2022-06-03T00:00:00",
          "2022-06-06T00:00:00",
          "2022-06-07T00:00:00",
          "2022-06-08T00:00:00",
          "2022-06-09T00:00:00",
          "2022-06-10T00:00:00",
          "2022-06-13T00:00:00",
          "2022-06-14T00:00:00",
          "2022-06-15T00:00:00",
          "2022-06-16T00:00:00",
          "2022-06-17T00:00:00",
          "2022-06-21T00:00:00",
          "2022-06-22T00:00:00",
          "2022-06-23T00:00:00",
          "2022-06-24T00:00:00",
          "2022-06-27T00:00:00",
          "2022-06-28T00:00:00",
          "2022-06-29T00:00:00",
          "2022-06-30T00:00:00",
          "2022-07-01T00:00:00",
          "2022-07-05T00:00:00",
          "2022-07-06T00:00:00",
          "2022-07-07T00:00:00",
          "2022-07-08T00:00:00",
          "2022-07-11T00:00:00",
          "2022-07-12T00:00:00",
          "2022-07-13T00:00:00",
          "2022-07-14T00:00:00",
          "2022-07-15T00:00:00",
          "2022-07-18T00:00:00",
          "2022-07-19T00:00:00",
          "2022-07-20T00:00:00",
          "2022-07-21T00:00:00",
          "2022-07-22T00:00:00",
          "2022-07-25T00:00:00",
          "2022-07-26T00:00:00",
          "2022-07-27T00:00:00",
          "2022-07-28T00:00:00",
          "2022-07-29T00:00:00",
          "2022-08-01T00:00:00",
          "2022-08-02T00:00:00",
          "2022-08-03T00:00:00",
          "2022-08-04T00:00:00",
          "2022-08-05T00:00:00",
          "2022-08-08T00:00:00",
          "2022-08-09T00:00:00",
          "2022-08-10T00:00:00",
          "2022-08-11T00:00:00",
          "2022-08-12T00:00:00",
          "2022-08-15T00:00:00",
          "2022-08-16T00:00:00",
          "2022-08-17T00:00:00",
          "2022-08-18T00:00:00",
          "2022-08-19T00:00:00",
          "2022-08-22T00:00:00",
          "2022-08-23T00:00:00",
          "2022-08-24T00:00:00",
          "2022-08-25T00:00:00",
          "2022-08-26T00:00:00",
          "2022-08-29T00:00:00",
          "2022-08-30T00:00:00",
          "2022-08-31T00:00:00",
          "2022-09-01T00:00:00",
          "2022-09-02T00:00:00",
          "2022-09-06T00:00:00",
          "2022-09-07T00:00:00",
          "2022-09-08T00:00:00",
          "2022-09-09T00:00:00",
          "2022-09-12T00:00:00",
          "2022-09-13T00:00:00",
          "2022-09-14T00:00:00",
          "2022-09-15T00:00:00",
          "2022-09-16T00:00:00",
          "2022-09-19T00:00:00",
          "2022-09-20T00:00:00",
          "2022-09-21T00:00:00",
          "2022-09-22T00:00:00",
          "2022-09-23T00:00:00",
          "2022-09-26T00:00:00",
          "2022-09-27T00:00:00",
          "2022-09-28T00:00:00",
          "2022-09-29T00:00:00",
          "2022-09-30T00:00:00",
          "2022-10-03T00:00:00",
          "2022-10-04T00:00:00",
          "2022-10-05T00:00:00",
          "2022-10-06T00:00:00",
          "2022-10-07T00:00:00",
          "2022-10-10T00:00:00",
          "2022-10-11T00:00:00",
          "2022-10-12T00:00:00",
          "2022-10-13T00:00:00",
          "2022-10-14T00:00:00",
          "2022-10-17T00:00:00",
          "2022-10-18T00:00:00",
          "2022-10-19T00:00:00",
          "2022-10-20T00:00:00",
          "2022-10-21T00:00:00",
          "2022-10-24T00:00:00",
          "2022-10-25T00:00:00",
          "2022-10-26T00:00:00",
          "2022-10-27T00:00:00",
          "2022-10-28T00:00:00",
          "2022-10-31T00:00:00",
          "2022-11-01T00:00:00",
          "2022-11-02T00:00:00",
          "2022-11-03T00:00:00",
          "2022-11-04T00:00:00",
          "2022-11-07T00:00:00",
          "2022-11-08T00:00:00",
          "2022-11-09T00:00:00",
          "2022-11-10T00:00:00",
          "2022-11-11T00:00:00",
          "2022-11-14T00:00:00",
          "2022-11-15T00:00:00",
          "2022-11-16T00:00:00",
          "2022-11-17T00:00:00",
          "2022-11-18T00:00:00",
          "2022-11-21T00:00:00",
          "2022-11-22T00:00:00",
          "2022-11-23T00:00:00",
          "2022-11-25T00:00:00",
          "2022-11-28T00:00:00",
          "2022-11-29T00:00:00",
          "2022-11-30T00:00:00",
          "2022-12-01T00:00:00",
          "2022-12-02T00:00:00",
          "2022-12-05T00:00:00",
          "2022-12-06T00:00:00",
          "2022-12-07T00:00:00",
          "2022-12-08T00:00:00",
          "2022-12-09T00:00:00",
          "2022-12-12T00:00:00",
          "2022-12-13T00:00:00",
          "2022-12-14T00:00:00",
          "2022-12-15T00:00:00",
          "2022-12-16T00:00:00",
          "2022-12-19T00:00:00",
          "2022-12-20T00:00:00",
          "2022-12-21T00:00:00",
          "2022-12-22T00:00:00",
          "2022-12-23T00:00:00",
          "2022-12-27T00:00:00",
          "2022-12-28T00:00:00",
          "2022-12-29T00:00:00",
          "2022-12-30T00:00:00",
          "2023-01-03T00:00:00",
          "2023-01-04T00:00:00",
          "2023-01-05T00:00:00",
          "2023-01-06T00:00:00",
          "2023-01-09T00:00:00",
          "2023-01-10T00:00:00",
          "2023-01-11T00:00:00",
          "2023-01-12T00:00:00",
          "2023-01-13T00:00:00",
          "2023-01-17T00:00:00",
          "2023-01-18T00:00:00",
          "2023-01-19T00:00:00",
          "2023-01-20T00:00:00",
          "2023-01-23T00:00:00",
          "2023-01-24T00:00:00",
          "2023-01-25T00:00:00",
          "2023-01-26T00:00:00",
          "2023-01-27T00:00:00",
          "2023-01-30T00:00:00",
          "2023-01-31T00:00:00",
          "2023-02-01T00:00:00",
          "2023-02-02T00:00:00",
          "2023-02-03T00:00:00",
          "2023-02-06T00:00:00",
          "2023-02-07T00:00:00",
          "2023-02-08T00:00:00",
          "2023-02-09T00:00:00",
          "2023-02-10T00:00:00",
          "2023-02-13T00:00:00",
          "2023-02-14T00:00:00",
          "2023-02-15T00:00:00",
          "2023-02-16T00:00:00",
          "2023-02-17T00:00:00",
          "2023-02-21T00:00:00",
          "2023-02-22T00:00:00",
          "2023-02-23T00:00:00",
          "2023-02-24T00:00:00",
          "2023-02-27T00:00:00",
          "2023-02-28T00:00:00",
          "2023-03-01T00:00:00",
          "2023-03-02T00:00:00",
          "2023-03-03T00:00:00",
          "2023-03-06T00:00:00",
          "2023-03-07T00:00:00",
          "2023-03-08T00:00:00",
          "2023-03-09T00:00:00",
          "2023-03-10T00:00:00",
          "2023-03-13T00:00:00",
          "2023-03-14T00:00:00",
          "2023-03-15T00:00:00",
          "2023-03-16T00:00:00",
          "2023-03-17T00:00:00",
          "2023-03-20T00:00:00",
          "2023-03-21T00:00:00",
          "2023-03-22T00:00:00",
          "2023-03-23T00:00:00",
          "2023-03-24T00:00:00",
          "2023-03-27T00:00:00",
          "2023-03-28T00:00:00",
          "2023-03-29T00:00:00",
          "2023-03-30T00:00:00",
          "2023-03-31T00:00:00",
          "2023-04-03T00:00:00"
         ],
         "xaxis": "x",
         "y": [
          1,
          1,
          1,
          1,
          1.002074848204754,
          0.999050487986883,
          1.0026978176857653,
          1.0016829874766469,
          1.0000552606570663,
          0.9941622634270598,
          0.9927003326837635,
          0.9978246641027302,
          0.9969454880163197,
          0.9944385851103288,
          0.9930218519657827,
          0.9972469228836975,
          1.0016528559485682,
          1.0041145459241947,
          1.0063652422247864,
          1.0070660659494906,
          1.0114493897894883,
          1.0066390268325327,
          1.0098115977651658,
          1.0104169818846553,
          1.0131223218736263,
          1.0181499675337737,
          1.0163338305069196,
          1.0113501743143212,
          1.0135280147840917,
          1.0155903085432172,
          1.0115862888392717,
          1.0083509157818487,
          1.0105262495326925,
          1.0099208769119137,
          1.0042589731031972,
          1.0051507287790835,
          1.0088784191339528,
          1.0046282235332185,
          1.0038872148810365,
          1.0116164182209244,
          1.0137038366628695,
          1.0084237590407463,
          0.9974164802649009,
          1.0002373707974206,
          0.9872381397085375,
          0.9899610727248376,
          1.0026362739798713,
          0.9906895313775591,
          0.986961814192365,
          0.9856531114345878,
          0.9987201734177285,
          0.9848141118432673,
          0.9844674755442356,
          0.9739073049683753,
          0.9739901953407103,
          0.9697048481814499,
          0.967939206960602,
          0.9774142212128706,
          0.9768490333662535,
          0.9831690658803144,
          0.9575749826936739,
          0.955166033470999,
          0.9566882596201587,
          0.9638171312207106,
          0.9642240552597986,
          0.9645229872411534,
          0.9730082729697018,
          0.9898934856645728,
          0.9875423251288347,
          0.9811369031893192,
          0.9933976295852566,
          0.9849675913285862,
          0.9887078651058349,
          0.994271807565428,
          0.9881401584283158,
          0.9752137678386399,
          0.9634805318395926,
          0.9403305609328638,
          0.9377256928448461,
          0.9448269208550184,
          0.9242441573057963,
          0.9308354769843035,
          0.9517648973769204,
          0.9506747027016023,
          0.9593735290695993,
          0.9776352773329566,
          0.973900028492272,
          0.9594865556461553,
          0.9575775032877114,
          0.9491725762986982,
          0.9564491290907201,
          0.9577829617440656,
          0.9613976255223788,
          0.9687902481857182,
          0.9666525976262001,
          0.9599708597527711,
          0.9567430298495492,
          0.955853794307752,
          0.9544169767485645,
          0.9607219363693855,
          0.9569791400049895,
          0.9719778818927258,
          0.977039449515938,
          0.9831434346716238,
          0.9771122823493381,
          0.9768058187124927,
          0.9708023092906639,
          0.986637526802728,
          0.9992876282888152,
          1.0100211150977396,
          1.0121210709672213,
          1.008840490728789,
          1.0146631484291597,
          1.014675705021214,
          1.0142285929883255,
          1.00936549119487,
          1.0061552428202665,
          1.0165169628979842,
          1.013922370042492,
          1.0242614989866416,
          1.031488333239504,
          1.0317194184583804,
          1.028077107946707,
          1.0319856634381968,
          1.0242313392483928,
          1.010465960566107,
          1.011201960456578,
          1.0130984734710333,
          1.0237214385058766,
          0.9978987762826798,
          0.9923574364553652,
          0.9851080149018385,
          0.978820644475443,
          0.978406167699895,
          0.9694888351658907,
          0.9655651742014806,
          0.977614918421094,
          0.9777329833493764,
          0.986431796302211,
          0.9927116101592428,
          0.9656681681529747,
          0.9662182933018755,
          0.9600811226678777,
          0.957091924970637,
          0.9641931607232745,
          0.9599128250854156,
          0.9549643338665057,
          0.9508723969372097,
          0.9423996543855532,
          0.9395687005647432,
          0.9358209008813594,
          0.9456953132665809,
          0.9314270346707898,
          0.9219118209260099,
          0.9368344686853621,
          0.9507229257337835,
          0.9496226926840482,
          0.9426646446260608,
          0.926580753122314,
          0.925932678123001,
          0.9248751666163179,
          0.9231143029334409,
          0.9350007568374709,
          0.9194368264898528,
          0.9328957549887847,
          0.9385777432121426,
          0.9338125922273255,
          0.9289746246989485,
          0.940687766202818,
          0.9471961830520536,
          0.9588088354069036,
          0.9535990810245764,
          0.9527123819067084,
          0.970172831976363,
          0.9637121472333552,
          0.9625340180846204,
          0.9463697592173053,
          0.9408635910712605,
          0.948000004254523,
          0.9503612271203256,
          0.9551389241567123,
          0.9443853241863698,
          0.9678244198087892,
          0.9684674794537973,
          0.9634461132395481,
          0.9685654331371133,
          0.9682639997262388,
          0.9674551708352713,
          0.9729864339591332,
          0.9739886922445828,
          0.9815923200816673,
          0.9851316251431361,
          0.9843353260138982,
          0.9755310392209677,
          0.9711175619286828,
          0.9954958423575216,
          0.9918309617932495,
          0.9946543513788887,
          0.9849482552040406,
          0.9783142388963545,
          0.9806076279932219,
          0.9930793672287115,
          0.9849407139662911,
          0.9948226484247442,
          0.996666430268507,
          0.9926799805944694,
          0.9785729769812371,
          0.974646813207462,
          0.9695174530190279,
          0.9674375853970913,
          0.9767769282785861,
          0.9678716349253191,
          0.9706232112452362,
          0.9677445329840056,
          0.9597113851831356,
          0.9685458388435155,
          0.9658078391432793,
          0.9594250025879766,
          0.9612311127391242,
          0.9558153790778415,
          0.9680936831694936,
          0.9699776319260874,
          0.9725398110507333,
          0.9792793280288402,
          0.9792491860752638,
          0.9853632345192399,
          0.9869457589872697,
          0.9708166440126735,
          0.965041705961594,
          0.9757324750603698,
          0.9937555925742493,
          0.9990808716280262,
          1.0007915175667184,
          1.0047025836100383,
          1.0044337974151636,
          0.9967523137245667,
          1.0076013573630018,
          1.0199901985603492,
          1.0375737279543653,
          1.0339113349445022,
          1.0327030906725159,
          1.0396159181343316,
          1.0326076341258676,
          1.0277219067027121,
          1.028583520425022,
          1.0365488675732435,
          1.0392165205379853,
          1.0376239740237074,
          1.0247304741773915,
          1.0270791318271066,
          1.0163129867634204,
          1.0147606014126183,
          1.0259035534756893,
          1.0163657513570319,
          1.0178779111515786,
          1.0151399129078456,
          1.0105405608739904,
          1.0186013429512843,
          1.0280311346909294,
          1.0294453808176731,
          1.0197970549318247,
          1.0249992307055928,
          1.0156638937295908,
          1.0070128080918543,
          1.0095699580637425,
          1.0246289786458824,
          1.0253750244232616,
          1.037341863245558,
          1.0297256930748204,
          1.0349228803246084,
          1.0385702119399423,
          1.0339457467219784,
          1.0392308523469882,
          1.0432800811483944,
          1.0433654806927144,
          1.043553864069663,
          1.0516046303866708,
          1.0563320780574184,
          1.0629560483248803,
          1.0673519191746736
         ],
         "yaxis": "y"
        },
        {
         "line": {
          "color": "rgb(251,180,174)"
         },
         "mode": "lines",
         "name": "^DJI",
         "type": "scatter",
         "x": [
          "2022-02-22T00:00:00",
          "2022-02-23T00:00:00",
          "2022-02-24T00:00:00",
          "2022-02-25T00:00:00",
          "2022-02-28T00:00:00",
          "2022-03-01T00:00:00",
          "2022-03-02T00:00:00",
          "2022-03-03T00:00:00",
          "2022-03-04T00:00:00",
          "2022-03-07T00:00:00",
          "2022-03-08T00:00:00",
          "2022-03-09T00:00:00",
          "2022-03-10T00:00:00",
          "2022-03-11T00:00:00",
          "2022-03-14T00:00:00",
          "2022-03-15T00:00:00",
          "2022-03-16T00:00:00",
          "2022-03-17T00:00:00",
          "2022-03-18T00:00:00",
          "2022-03-21T00:00:00",
          "2022-03-22T00:00:00",
          "2022-03-23T00:00:00",
          "2022-03-24T00:00:00",
          "2022-03-25T00:00:00",
          "2022-03-28T00:00:00",
          "2022-03-29T00:00:00",
          "2022-03-30T00:00:00",
          "2022-03-31T00:00:00",
          "2022-04-01T00:00:00",
          "2022-04-04T00:00:00",
          "2022-04-05T00:00:00",
          "2022-04-06T00:00:00",
          "2022-04-07T00:00:00",
          "2022-04-08T00:00:00",
          "2022-04-11T00:00:00",
          "2022-04-12T00:00:00",
          "2022-04-13T00:00:00",
          "2022-04-14T00:00:00",
          "2022-04-18T00:00:00",
          "2022-04-19T00:00:00",
          "2022-04-20T00:00:00",
          "2022-04-21T00:00:00",
          "2022-04-22T00:00:00",
          "2022-04-25T00:00:00",
          "2022-04-26T00:00:00",
          "2022-04-27T00:00:00",
          "2022-04-28T00:00:00",
          "2022-04-29T00:00:00",
          "2022-05-02T00:00:00",
          "2022-05-03T00:00:00",
          "2022-05-04T00:00:00",
          "2022-05-05T00:00:00",
          "2022-05-06T00:00:00",
          "2022-05-09T00:00:00",
          "2022-05-10T00:00:00",
          "2022-05-11T00:00:00",
          "2022-05-12T00:00:00",
          "2022-05-13T00:00:00",
          "2022-05-16T00:00:00",
          "2022-05-17T00:00:00",
          "2022-05-18T00:00:00",
          "2022-05-19T00:00:00",
          "2022-05-20T00:00:00",
          "2022-05-23T00:00:00",
          "2022-05-24T00:00:00",
          "2022-05-25T00:00:00",
          "2022-05-26T00:00:00",
          "2022-05-27T00:00:00",
          "2022-05-31T00:00:00",
          "2022-06-01T00:00:00",
          "2022-06-02T00:00:00",
          "2022-06-03T00:00:00",
          "2022-06-06T00:00:00",
          "2022-06-07T00:00:00",
          "2022-06-08T00:00:00",
          "2022-06-09T00:00:00",
          "2022-06-10T00:00:00",
          "2022-06-13T00:00:00",
          "2022-06-14T00:00:00",
          "2022-06-15T00:00:00",
          "2022-06-16T00:00:00",
          "2022-06-17T00:00:00",
          "2022-06-21T00:00:00",
          "2022-06-22T00:00:00",
          "2022-06-23T00:00:00",
          "2022-06-24T00:00:00",
          "2022-06-27T00:00:00",
          "2022-06-28T00:00:00",
          "2022-06-29T00:00:00",
          "2022-06-30T00:00:00",
          "2022-07-01T00:00:00",
          "2022-07-05T00:00:00",
          "2022-07-06T00:00:00",
          "2022-07-07T00:00:00",
          "2022-07-08T00:00:00",
          "2022-07-11T00:00:00",
          "2022-07-12T00:00:00",
          "2022-07-13T00:00:00",
          "2022-07-14T00:00:00",
          "2022-07-15T00:00:00",
          "2022-07-18T00:00:00",
          "2022-07-19T00:00:00",
          "2022-07-20T00:00:00",
          "2022-07-21T00:00:00",
          "2022-07-22T00:00:00",
          "2022-07-25T00:00:00",
          "2022-07-26T00:00:00",
          "2022-07-27T00:00:00",
          "2022-07-28T00:00:00",
          "2022-07-29T00:00:00",
          "2022-08-01T00:00:00",
          "2022-08-02T00:00:00",
          "2022-08-03T00:00:00",
          "2022-08-04T00:00:00",
          "2022-08-05T00:00:00",
          "2022-08-08T00:00:00",
          "2022-08-09T00:00:00",
          "2022-08-10T00:00:00",
          "2022-08-11T00:00:00",
          "2022-08-12T00:00:00",
          "2022-08-15T00:00:00",
          "2022-08-16T00:00:00",
          "2022-08-17T00:00:00",
          "2022-08-18T00:00:00",
          "2022-08-19T00:00:00",
          "2022-08-22T00:00:00",
          "2022-08-23T00:00:00",
          "2022-08-24T00:00:00",
          "2022-08-25T00:00:00",
          "2022-08-26T00:00:00",
          "2022-08-29T00:00:00",
          "2022-08-30T00:00:00",
          "2022-08-31T00:00:00",
          "2022-09-01T00:00:00",
          "2022-09-02T00:00:00",
          "2022-09-06T00:00:00",
          "2022-09-07T00:00:00",
          "2022-09-08T00:00:00",
          "2022-09-09T00:00:00",
          "2022-09-12T00:00:00",
          "2022-09-13T00:00:00",
          "2022-09-14T00:00:00",
          "2022-09-15T00:00:00",
          "2022-09-16T00:00:00",
          "2022-09-19T00:00:00",
          "2022-09-20T00:00:00",
          "2022-09-21T00:00:00",
          "2022-09-22T00:00:00",
          "2022-09-23T00:00:00",
          "2022-09-26T00:00:00",
          "2022-09-27T00:00:00",
          "2022-09-28T00:00:00",
          "2022-09-29T00:00:00",
          "2022-09-30T00:00:00",
          "2022-10-03T00:00:00",
          "2022-10-04T00:00:00",
          "2022-10-05T00:00:00",
          "2022-10-06T00:00:00",
          "2022-10-07T00:00:00",
          "2022-10-10T00:00:00",
          "2022-10-11T00:00:00",
          "2022-10-12T00:00:00",
          "2022-10-13T00:00:00",
          "2022-10-14T00:00:00",
          "2022-10-17T00:00:00",
          "2022-10-18T00:00:00",
          "2022-10-19T00:00:00",
          "2022-10-20T00:00:00",
          "2022-10-21T00:00:00",
          "2022-10-24T00:00:00",
          "2022-10-25T00:00:00",
          "2022-10-26T00:00:00",
          "2022-10-27T00:00:00",
          "2022-10-28T00:00:00",
          "2022-10-31T00:00:00",
          "2022-11-01T00:00:00",
          "2022-11-02T00:00:00",
          "2022-11-03T00:00:00",
          "2022-11-04T00:00:00",
          "2022-11-07T00:00:00",
          "2022-11-08T00:00:00",
          "2022-11-09T00:00:00",
          "2022-11-10T00:00:00",
          "2022-11-11T00:00:00",
          "2022-11-14T00:00:00",
          "2022-11-15T00:00:00",
          "2022-11-16T00:00:00",
          "2022-11-17T00:00:00",
          "2022-11-18T00:00:00",
          "2022-11-21T00:00:00",
          "2022-11-22T00:00:00",
          "2022-11-23T00:00:00",
          "2022-11-25T00:00:00",
          "2022-11-28T00:00:00",
          "2022-11-29T00:00:00",
          "2022-11-30T00:00:00",
          "2022-12-01T00:00:00",
          "2022-12-02T00:00:00",
          "2022-12-05T00:00:00",
          "2022-12-06T00:00:00",
          "2022-12-07T00:00:00",
          "2022-12-08T00:00:00",
          "2022-12-09T00:00:00",
          "2022-12-12T00:00:00",
          "2022-12-13T00:00:00",
          "2022-12-14T00:00:00",
          "2022-12-15T00:00:00",
          "2022-12-16T00:00:00",
          "2022-12-19T00:00:00",
          "2022-12-20T00:00:00",
          "2022-12-21T00:00:00",
          "2022-12-22T00:00:00",
          "2022-12-23T00:00:00",
          "2022-12-27T00:00:00",
          "2022-12-28T00:00:00",
          "2022-12-29T00:00:00",
          "2022-12-30T00:00:00",
          "2023-01-03T00:00:00",
          "2023-01-04T00:00:00",
          "2023-01-05T00:00:00",
          "2023-01-06T00:00:00",
          "2023-01-09T00:00:00",
          "2023-01-10T00:00:00",
          "2023-01-11T00:00:00",
          "2023-01-12T00:00:00",
          "2023-01-13T00:00:00",
          "2023-01-17T00:00:00",
          "2023-01-18T00:00:00",
          "2023-01-19T00:00:00",
          "2023-01-20T00:00:00",
          "2023-01-23T00:00:00",
          "2023-01-24T00:00:00",
          "2023-01-25T00:00:00",
          "2023-01-26T00:00:00",
          "2023-01-27T00:00:00",
          "2023-01-30T00:00:00",
          "2023-01-31T00:00:00",
          "2023-02-01T00:00:00",
          "2023-02-02T00:00:00",
          "2023-02-03T00:00:00",
          "2023-02-06T00:00:00",
          "2023-02-07T00:00:00",
          "2023-02-08T00:00:00",
          "2023-02-09T00:00:00",
          "2023-02-10T00:00:00",
          "2023-02-13T00:00:00",
          "2023-02-14T00:00:00",
          "2023-02-15T00:00:00",
          "2023-02-16T00:00:00",
          "2023-02-17T00:00:00",
          "2023-02-21T00:00:00",
          "2023-02-22T00:00:00",
          "2023-02-23T00:00:00",
          "2023-02-24T00:00:00",
          "2023-02-27T00:00:00",
          "2023-02-28T00:00:00",
          "2023-03-01T00:00:00",
          "2023-03-02T00:00:00",
          "2023-03-03T00:00:00",
          "2023-03-06T00:00:00",
          "2023-03-07T00:00:00",
          "2023-03-08T00:00:00",
          "2023-03-09T00:00:00",
          "2023-03-10T00:00:00",
          "2023-03-13T00:00:00",
          "2023-03-14T00:00:00",
          "2023-03-15T00:00:00",
          "2023-03-16T00:00:00",
          "2023-03-17T00:00:00",
          "2023-03-20T00:00:00",
          "2023-03-21T00:00:00",
          "2023-03-22T00:00:00",
          "2023-03-23T00:00:00",
          "2023-03-24T00:00:00",
          "2023-03-27T00:00:00",
          "2023-03-28T00:00:00",
          "2023-03-29T00:00:00",
          "2023-03-30T00:00:00",
          "2023-03-31T00:00:00",
          "2023-04-03T00:00:00"
         ],
         "xaxis": "x",
         "y": [
          1,
          0.9861638521000305,
          0.9889042002471418,
          1.0137555733628254,
          1.0088101803427894,
          0.9910211130866535,
          1.0087729742073117,
          1.0058949633589327,
          1.000541465540375,
          0.9768062764890244,
          0.9713075584729299,
          0.9907621816375629,
          0.9874231635167797,
          0.9805808389332443,
          0.9806119990717069,
          0.9984442021911624,
          1.0138850972219573,
          1.026316713507641,
          1.0344772979788233,
          1.028466530523216,
          1.0360408858222765,
          1.022677604650395,
          1.033078696092379,
          1.0376415635320342,
          1.0404588818719152,
          1.0505283736314537,
          1.0485822602076196,
          1.0321979571041162,
          1.036362602624986,
          1.0394465261793997,
          1.031091539650346,
          1.0267855108146609,
          1.0293768018815144,
          1.0334709882833228,
          1.0211768021605603,
          1.0185658616034077,
          1.028811849968119,
          1.0254377185569787,
          1.0242608419841475,
          1.0391286462594114,
          1.0465576650917618,
          1.0356033649228926,
          1.0063931767668148,
          1.0134790852685562,
          0.9893909030068604,
          0.9912288860994622,
          1.0095182596086008,
          0.9815636622557243,
          0.9840725184786597,
          0.9860753712590975,
          1.0138242884442858,
          0.982181516643002,
          0.9792467664380194,
          0.9597902829666126,
          0.9572614865804445,
          0.947539348976343,
          0.9444494956940874,
          0.9583306397641503,
          0.959127141736308,
          0.9719608749580849,
          0.9372990578011267,
          0.9302465766867285,
          0.9305076009809398,
          0.9489124297792327,
          0.9503524234913958,
          0.9560571704826984,
          0.9714429539253171,
          0.9885807394068319,
          0.9819479318737057,
          0.9766827986269075,
          0.9896320452724257,
          0.9792565330485824,
          0.9797352132353385,
          0.9876038458121936,
          0.9795898767686285,
          0.9605966096839199,
          0.9344034903075692,
          0.9083279772000802,
          0.9038063853169707,
          0.9128459647388153,
          0.8907765059997219,
          0.8896367774277817,
          0.9087300941361736,
          0.9073275972324216,
          0.9131087912052137,
          0.9376148448759942,
          0.9357569216201598,
          0.9211343290315289,
          0.9235845855910869,
          0.9160278450717916,
          0.9256070878618239,
          0.921754334398514,
          0.9238336922950279,
          0.934158278620936,
          0.9327771752450837,
          0.9278864868711175,
          0.9221564513346073,
          0.9159492471105948,
          0.9117042014563411,
          0.9312921853628272,
          0.9248733712432848,
          0.9473292505800669,
          0.9487516876470514,
          0.9535754049771578,
          0.9494794164031619,
          0.9521805818388481,
          0.9453793002735116,
          0.9583583118274119,
          0.9682414822366282,
          0.9776322526966309,
          0.9762413245756292,
          0.9642690296593359,
          0.9766610562914877,
          0.9741108082428332,
          0.9763922419626608,
          0.9772575171508657,
          0.975527315581976,
          0.9914545645649696,
          0.9922629841273976,
          1.0048945833912741,
          1.0094007114743258,
          1.0165314998769872,
          1.011421120899942,
          1.0119782827787216,
          1.003277976804765,
          0.9841353038322784,
          0.9795509265955502,
          0.9813261243345334,
          0.9909268187870521,
          0.9609124548933742,
          0.9554235034878427,
          0.9462523073617455,
          0.9379050527327208,
          0.9422504386835912,
          0.9321904809962687,
          0.9270370242904906,
          0.9400138848646836,
          0.9457656627366136,
          0.9569927303862044,
          0.9638276137426443,
          0.9258366032100523,
          0.9267330966713065,
          0.9215757449482207,
          0.9174265050928223,
          0.923297923944148,
          0.9139681366655769,
          0.8984174254005357,
          0.8952296153397176,
          0.8807558472929978,
          0.8709453451171365,
          0.8672003150429521,
          0.8835338085176936,
          0.8698975854613304,
          0.8550121664063012,
          0.8777936575631005,
          0.9023624965874998,
          0.9010989413459226,
          0.890772610982414,
          0.8720162423384428,
          0.8692210732760886,
          0.8703017952425445,
          0.8694582623897594,
          0.8940997696475137,
          0.8820780021979524,
          0.8984781760436205,
          0.9085381337309429,
          0.9055619335656546,
          0.9028765226029598,
          0.9251695669624399,
          0.9375832777954248,
          0.9476176562646064,
          0.9476881735182541,
          0.9534676234534456,
          0.9781284895285657,
          0.9742932345758477,
          0.971919483132366,
          0.9568751241173425,
          0.9525142743664144,
          0.9644788955172653,
          0.9770926474630299,
          0.9870290110190622,
          0.9677744289672089,
          1.0035349316779083,
          1.0045019423928103,
          0.9982167796880544,
          0.9998902419003406,
          0.9987266200132733,
          0.99850315066206,
          1.004437413001591,
          1.0030857838611875,
          1.014926869015335,
          1.0177830212591208,
          1.0223362383573864,
          1.0075261035921128,
          1.00761749116238,
          1.0295613210596493,
          1.0237643726138659,
          1.0248021912553489,
          1.0104323678496203,
          0.9999919774270376,
          1.0000390664422516,
          1.0055026711679889,
          0.996423792765546,
          1.0121568722290148,
          1.0152405632450818,
          1.011005342335978,
          0.9882609991800698,
          0.9798745037050335,
          0.9750251490221995,
          0.9777694503212052,
          0.9934478832731911,
          0.9830601627861443,
          0.988311925078005,
          0.9894319460250592,
          0.9785425240549293,
          0.9888140916377816,
          0.9866248593724348,
          0.9863010497246049,
          0.9902716419951232,
          0.9801607584098656,
          1.0010120068849955,
          0.9976497349295386,
          1.0031994951127416,
          1.0112035812765705,
          1.0176612874346045,
          1.021014025317845,
          1.009353389920765,
          0.9910809917109381,
          0.9835682590737626,
          0.9934183509031557,
          1.0009807304773595,
          1.0040882566739668,
          1.0043823014134146,
          1.0105010829310808,
          1.0113543823944287,
          1.0035860901141902,
          1.0145678298079746,
          1.0147738587831827,
          1.0136124460104095,
          1.0098046305826063,
          1.0087630913275754,
          1.016670790346682,
          1.0104892234753973,
          1.0030738081363306,
          1.0081157045702622,
          1.019326959612275,
          1.01466398441435,
          1.0158183047675478,
          1.0029836995269705,
          1.0068483705805507,
          0.9860992064396379,
          0.9835840716813407,
          0.9868230983130273,
          0.9767926729957404,
          0.9789407459737148,
          0.9720236603117037,
          0.972176670543856,
          0.9823482466376118,
          0.9938791256372133,
          0.9950837905424794,
          0.9779695495685716,
          0.9762413245756292,
          0.9600629341781607,
          0.9497875297125873,
          0.9470938055039967,
          0.9571025466204505,
          0.948743665074089,
          0.9598156296464069,
          0.9483689295283239,
          0.9597569718484427,
          0.96916326424309,
          0.9533732710192574,
          0.9556098248381649,
          0.9595471059905134,
          0.9653378921701083,
          0.9642118833606256,
          0.973836354859098,
          0.9780460546846478,
          0.9904019797384688,
          1.0001351047794536
         ],
         "yaxis": "y"
        },
        {
         "line": {
          "color": "rgb(179,205,227)"
         },
         "mode": "lines",
         "name": "^GSPC",
         "type": "scatter",
         "x": [
          "2022-02-22T00:00:00",
          "2022-02-23T00:00:00",
          "2022-02-24T00:00:00",
          "2022-02-25T00:00:00",
          "2022-02-28T00:00:00",
          "2022-03-01T00:00:00",
          "2022-03-02T00:00:00",
          "2022-03-03T00:00:00",
          "2022-03-04T00:00:00",
          "2022-03-07T00:00:00",
          "2022-03-08T00:00:00",
          "2022-03-09T00:00:00",
          "2022-03-10T00:00:00",
          "2022-03-11T00:00:00",
          "2022-03-14T00:00:00",
          "2022-03-15T00:00:00",
          "2022-03-16T00:00:00",
          "2022-03-17T00:00:00",
          "2022-03-18T00:00:00",
          "2022-03-21T00:00:00",
          "2022-03-22T00:00:00",
          "2022-03-23T00:00:00",
          "2022-03-24T00:00:00",
          "2022-03-25T00:00:00",
          "2022-03-28T00:00:00",
          "2022-03-29T00:00:00",
          "2022-03-30T00:00:00",
          "2022-03-31T00:00:00",
          "2022-04-01T00:00:00",
          "2022-04-04T00:00:00",
          "2022-04-05T00:00:00",
          "2022-04-06T00:00:00",
          "2022-04-07T00:00:00",
          "2022-04-08T00:00:00",
          "2022-04-11T00:00:00",
          "2022-04-12T00:00:00",
          "2022-04-13T00:00:00",
          "2022-04-14T00:00:00",
          "2022-04-18T00:00:00",
          "2022-04-19T00:00:00",
          "2022-04-20T00:00:00",
          "2022-04-21T00:00:00",
          "2022-04-22T00:00:00",
          "2022-04-25T00:00:00",
          "2022-04-26T00:00:00",
          "2022-04-27T00:00:00",
          "2022-04-28T00:00:00",
          "2022-04-29T00:00:00",
          "2022-05-02T00:00:00",
          "2022-05-03T00:00:00",
          "2022-05-04T00:00:00",
          "2022-05-05T00:00:00",
          "2022-05-06T00:00:00",
          "2022-05-09T00:00:00",
          "2022-05-10T00:00:00",
          "2022-05-11T00:00:00",
          "2022-05-12T00:00:00",
          "2022-05-13T00:00:00",
          "2022-05-16T00:00:00",
          "2022-05-17T00:00:00",
          "2022-05-18T00:00:00",
          "2022-05-19T00:00:00",
          "2022-05-20T00:00:00",
          "2022-05-23T00:00:00",
          "2022-05-24T00:00:00",
          "2022-05-25T00:00:00",
          "2022-05-26T00:00:00",
          "2022-05-27T00:00:00",
          "2022-05-31T00:00:00",
          "2022-06-01T00:00:00",
          "2022-06-02T00:00:00",
          "2022-06-03T00:00:00",
          "2022-06-06T00:00:00",
          "2022-06-07T00:00:00",
          "2022-06-08T00:00:00",
          "2022-06-09T00:00:00",
          "2022-06-10T00:00:00",
          "2022-06-13T00:00:00",
          "2022-06-14T00:00:00",
          "2022-06-15T00:00:00",
          "2022-06-16T00:00:00",
          "2022-06-17T00:00:00",
          "2022-06-21T00:00:00",
          "2022-06-22T00:00:00",
          "2022-06-23T00:00:00",
          "2022-06-24T00:00:00",
          "2022-06-27T00:00:00",
          "2022-06-28T00:00:00",
          "2022-06-29T00:00:00",
          "2022-06-30T00:00:00",
          "2022-07-01T00:00:00",
          "2022-07-05T00:00:00",
          "2022-07-06T00:00:00",
          "2022-07-07T00:00:00",
          "2022-07-08T00:00:00",
          "2022-07-11T00:00:00",
          "2022-07-12T00:00:00",
          "2022-07-13T00:00:00",
          "2022-07-14T00:00:00",
          "2022-07-15T00:00:00",
          "2022-07-18T00:00:00",
          "2022-07-19T00:00:00",
          "2022-07-20T00:00:00",
          "2022-07-21T00:00:00",
          "2022-07-22T00:00:00",
          "2022-07-25T00:00:00",
          "2022-07-26T00:00:00",
          "2022-07-27T00:00:00",
          "2022-07-28T00:00:00",
          "2022-07-29T00:00:00",
          "2022-08-01T00:00:00",
          "2022-08-02T00:00:00",
          "2022-08-03T00:00:00",
          "2022-08-04T00:00:00",
          "2022-08-05T00:00:00",
          "2022-08-08T00:00:00",
          "2022-08-09T00:00:00",
          "2022-08-10T00:00:00",
          "2022-08-11T00:00:00",
          "2022-08-12T00:00:00",
          "2022-08-15T00:00:00",
          "2022-08-16T00:00:00",
          "2022-08-17T00:00:00",
          "2022-08-18T00:00:00",
          "2022-08-19T00:00:00",
          "2022-08-22T00:00:00",
          "2022-08-23T00:00:00",
          "2022-08-24T00:00:00",
          "2022-08-25T00:00:00",
          "2022-08-26T00:00:00",
          "2022-08-29T00:00:00",
          "2022-08-30T00:00:00",
          "2022-08-31T00:00:00",
          "2022-09-01T00:00:00",
          "2022-09-02T00:00:00",
          "2022-09-06T00:00:00",
          "2022-09-07T00:00:00",
          "2022-09-08T00:00:00",
          "2022-09-09T00:00:00",
          "2022-09-12T00:00:00",
          "2022-09-13T00:00:00",
          "2022-09-14T00:00:00",
          "2022-09-15T00:00:00",
          "2022-09-16T00:00:00",
          "2022-09-19T00:00:00",
          "2022-09-20T00:00:00",
          "2022-09-21T00:00:00",
          "2022-09-22T00:00:00",
          "2022-09-23T00:00:00",
          "2022-09-26T00:00:00",
          "2022-09-27T00:00:00",
          "2022-09-28T00:00:00",
          "2022-09-29T00:00:00",
          "2022-09-30T00:00:00",
          "2022-10-03T00:00:00",
          "2022-10-04T00:00:00",
          "2022-10-05T00:00:00",
          "2022-10-06T00:00:00",
          "2022-10-07T00:00:00",
          "2022-10-10T00:00:00",
          "2022-10-11T00:00:00",
          "2022-10-12T00:00:00",
          "2022-10-13T00:00:00",
          "2022-10-14T00:00:00",
          "2022-10-17T00:00:00",
          "2022-10-18T00:00:00",
          "2022-10-19T00:00:00",
          "2022-10-20T00:00:00",
          "2022-10-21T00:00:00",
          "2022-10-24T00:00:00",
          "2022-10-25T00:00:00",
          "2022-10-26T00:00:00",
          "2022-10-27T00:00:00",
          "2022-10-28T00:00:00",
          "2022-10-31T00:00:00",
          "2022-11-01T00:00:00",
          "2022-11-02T00:00:00",
          "2022-11-03T00:00:00",
          "2022-11-04T00:00:00",
          "2022-11-07T00:00:00",
          "2022-11-08T00:00:00",
          "2022-11-09T00:00:00",
          "2022-11-10T00:00:00",
          "2022-11-11T00:00:00",
          "2022-11-14T00:00:00",
          "2022-11-15T00:00:00",
          "2022-11-16T00:00:00",
          "2022-11-17T00:00:00",
          "2022-11-18T00:00:00",
          "2022-11-21T00:00:00",
          "2022-11-22T00:00:00",
          "2022-11-23T00:00:00",
          "2022-11-25T00:00:00",
          "2022-11-28T00:00:00",
          "2022-11-29T00:00:00",
          "2022-11-30T00:00:00",
          "2022-12-01T00:00:00",
          "2022-12-02T00:00:00",
          "2022-12-05T00:00:00",
          "2022-12-06T00:00:00",
          "2022-12-07T00:00:00",
          "2022-12-08T00:00:00",
          "2022-12-09T00:00:00",
          "2022-12-12T00:00:00",
          "2022-12-13T00:00:00",
          "2022-12-14T00:00:00",
          "2022-12-15T00:00:00",
          "2022-12-16T00:00:00",
          "2022-12-19T00:00:00",
          "2022-12-20T00:00:00",
          "2022-12-21T00:00:00",
          "2022-12-22T00:00:00",
          "2022-12-23T00:00:00",
          "2022-12-27T00:00:00",
          "2022-12-28T00:00:00",
          "2022-12-29T00:00:00",
          "2022-12-30T00:00:00",
          "2023-01-03T00:00:00",
          "2023-01-04T00:00:00",
          "2023-01-05T00:00:00",
          "2023-01-06T00:00:00",
          "2023-01-09T00:00:00",
          "2023-01-10T00:00:00",
          "2023-01-11T00:00:00",
          "2023-01-12T00:00:00",
          "2023-01-13T00:00:00",
          "2023-01-17T00:00:00",
          "2023-01-18T00:00:00",
          "2023-01-19T00:00:00",
          "2023-01-20T00:00:00",
          "2023-01-23T00:00:00",
          "2023-01-24T00:00:00",
          "2023-01-25T00:00:00",
          "2023-01-26T00:00:00",
          "2023-01-27T00:00:00",
          "2023-01-30T00:00:00",
          "2023-01-31T00:00:00",
          "2023-02-01T00:00:00",
          "2023-02-02T00:00:00",
          "2023-02-03T00:00:00",
          "2023-02-06T00:00:00",
          "2023-02-07T00:00:00",
          "2023-02-08T00:00:00",
          "2023-02-09T00:00:00",
          "2023-02-10T00:00:00",
          "2023-02-13T00:00:00",
          "2023-02-14T00:00:00",
          "2023-02-15T00:00:00",
          "2023-02-16T00:00:00",
          "2023-02-17T00:00:00",
          "2023-02-21T00:00:00",
          "2023-02-22T00:00:00",
          "2023-02-23T00:00:00",
          "2023-02-24T00:00:00",
          "2023-02-27T00:00:00",
          "2023-02-28T00:00:00",
          "2023-03-01T00:00:00",
          "2023-03-02T00:00:00",
          "2023-03-03T00:00:00",
          "2023-03-06T00:00:00",
          "2023-03-07T00:00:00",
          "2023-03-08T00:00:00",
          "2023-03-09T00:00:00",
          "2023-03-10T00:00:00",
          "2023-03-13T00:00:00",
          "2023-03-14T00:00:00",
          "2023-03-15T00:00:00",
          "2023-03-16T00:00:00",
          "2023-03-17T00:00:00",
          "2023-03-20T00:00:00",
          "2023-03-21T00:00:00",
          "2023-03-22T00:00:00",
          "2023-03-23T00:00:00",
          "2023-03-24T00:00:00",
          "2023-03-27T00:00:00",
          "2023-03-28T00:00:00",
          "2023-03-29T00:00:00",
          "2023-03-30T00:00:00",
          "2023-03-31T00:00:00",
          "2023-04-03T00:00:00"
         ],
         "xaxis": "x",
         "y": [
          1,
          0.9815878771545123,
          0.9962693457505477,
          1.0185585586811836,
          1.016070624041248,
          1.0003484515005874,
          1.018997639331826,
          1.0136431466440898,
          1.0056008587877607,
          0.9759173734379232,
          0.9688578277043444,
          0.9937557763322485,
          0.989490761724962,
          0.9766654325676021,
          0.9694175959840965,
          0.9901714444902694,
          1.012335205806436,
          1.0248353362488924,
          1.036787268090327,
          1.036336617760954,
          1.0480514846166376,
          1.0351890644304065,
          1.0500377262269192,
          1.0553573964502412,
          1.062897877848693,
          1.0759253360991672,
          1.0691537846233978,
          1.0524188114809325,
          1.0560077938800483,
          1.0645518881942544,
          1.0511899301146033,
          1.0409756052189687,
          1.0454032758978185,
          1.042631884128987,
          1.0250350833493267,
          1.0215320795431293,
          1.0329472690340498,
          1.0204030150129058,
          1.020193966798198,
          1.0365758378829393,
          1.0359347415674056,
          1.0206516496773874,
          0.9923387175442154,
          0.9979930010249374,
          0.9699031822061064,
          0.9719380845239894,
          0.9959905391787888,
          0.9598515133820349,
          0.9652989037842831,
          0.9699681765777979,
          0.998933774705234,
          0.9633220767164979,
          0.9578559706574798,
          0.9271690425342224,
          0.9294479289594503,
          0.9141462348408852,
          0.9129615337673551,
          0.9347536475113621,
          0.9310647348479177,
          0.9498439681366511,
          0.9114747733363823,
          0.9061574283916286,
          0.906289855841803,
          0.9231061003059386,
          0.9156097424861742,
          0.9242629547507596,
          0.9426403118459445,
          0.9659633663137234,
          0.9599025560823162,
          0.9527198272987251,
          0.9702794236212913,
          0.9544179612229741,
          0.9574123528779236,
          0.9665301671432921,
          0.9560974929186761,
          0.9333436212731456,
          0.9061737053416072,
          0.87104277287541,
          0.8677557364055141,
          0.8804184662054222,
          0.8517943437428682,
          0.8536690286959793,
          0.8745644923383773,
          0.8734261834079918,
          0.8817518716791052,
          0.9087011130030939,
          0.9059994795913136,
          0.8877498993891664,
          0.8871180474737946,
          0.8793475336394081,
          0.8886280039763398,
          0.8900357049359879,
          0.893215948734073,
          0.9065825573708608,
          0.9058298476840453,
          0.8953879290592671,
          0.8871110716380896,
          0.8831573040742964,
          0.8805090386413659,
          0.8974159122555565,
          0.88991031003563,
          0.9144970116200408,
          0.919888708764871,
          0.9289600741729834,
          0.9202905849584195,
          0.9215009208103131,
          0.910863848928126,
          0.9346886531396705,
          0.946029547144626,
          0.9594705079814904,
          0.9567618420198934,
          0.950387516180536,
          0.9652501296484587,
          0.9644998019543229,
          0.96293177020168,
          0.9617400932924447,
          0.9576539549925887,
          0.9780430183340842,
          0.9773530344545033,
          0.9942831041402662,
          0.9982299525824657,
          1.0001023122570083,
          0.9928637767877763,
          0.9951171418628635,
          0.9822801295985503,
          0.9612592710557945,
          0.9591081048094927,
          0.961905017928465,
          0.9754598039869566,
          0.9425984568317138,
          0.9363147601424114,
          0.9259889353037177,
          0.918750456548597,
          0.9215032460888815,
          0.911609526065125,
          0.9078764331088816,
          0.9245278096511084,
          0.9306396058686855,
          0.9448518219068011,
          0.9548523913164797,
          0.9135678076184747,
          0.9166620728236413,
          0.9062875305632346,
          0.8997784519951344,
          0.9059483234628094,
          0.8957363805598545,
          0.8804045145340119,
          0.8729848341928924,
          0.8579410191389709,
          0.8490694575454042,
          0.8472691247923696,
          0.8639367215704636,
          0.845684816089748,
          0.8329431402467381,
          0.8545029529903536,
          0.8806368155344034,
          0.8788597355670527,
          0.8698557465233115,
          0.8454966386680441,
          0.8391617858502376,
          0.8336911426623056,
          0.8309476542362946,
          0.8525237439298886,
          0.8323507613529174,
          0.8543914530472946,
          0.864155070899445,
          0.8583893441897754,
          0.8515643680210451,
          0.8717675792194051,
          0.8821259012439446,
          0.8964751385752598,
          0.8898522347855322,
          0.8844396101335867,
          0.9062201541988633,
          0.8994648229589612,
          0.8957759102955168,
          0.8733797345507358,
          0.8641341433923296,
          0.8759025483691971,
          0.8843234596333909,
          0.8892738075631217,
          0.8707965769177196,
          0.9190687361419069,
          0.9275616176134974,
          0.919273133799478,
          0.9272828677558498,
          0.9196308864143388,
          0.916789849716679,
          0.9211524693097257,
          0.917574999875229,
          0.9300356572961344,
          0.9355365291054552,
          0.9352717309192178,
          0.9208272138807108,
          0.9193613809568533,
          0.9478136596617933,
          0.9469913050461494,
          0.9458599719514691,
          0.9289345528228428,
          0.9155586430717815,
          0.9138535333118274,
          0.9207273403304935,
          0.9139603826977496,
          0.9270110937339073,
          0.9337686935382664,
          0.9281168487643356,
          0.9049866222753974,
          0.8949071068226169,
          0.8868462167377408,
          0.8877661763391449,
          0.9009654783472328,
          0.8879449959324639,
          0.8931555482054068,
          0.8895386057493591,
          0.8788457838956424,
          0.8941916015928952,
          0.8919196910033724,
          0.8883515226831491,
          0.8950487786729533,
          0.8846254622767222,
          0.9048309987536507,
          0.9041364210310444,
          0.9104456957845989,
          0.9221443991185266,
          0.9252943575811113,
          0.9289926280729407,
          0.9271063167269878,
          0.9126781333525708,
          0.9057067780622557,
          0.9228413021197013,
          0.9338058979953603,
          0.9331414921800315,
          0.9329719169868745,
          0.9432419351399274,
          0.9455951737652317,
          0.9333319948803037,
          0.9469982808818546,
          0.9568965947486362,
          0.9709623749510558,
          0.9609084375625273,
          0.9550080148382264,
          0.9673013656304318,
          0.956582965712463,
          0.9481365330981286,
          0.9502179409873791,
          0.9610966149842312,
          0.9608271095267457,
          0.9634916519096549,
          0.9502063145945372,
          0.9475767081042651,
          0.9285861013222555,
          0.9271249189555347,
          0.9320659657709921,
          0.9222442726687438,
          0.9250783335306985,
          0.9222697940188844,
          0.9179118249829744,
          0.924871610594559,
          0.9398061942698784,
          0.9404519978566603,
          0.9260377661536535,
          0.9273479188416528,
          0.9102296717341859,
          0.897051240519102,
          0.8956969075383036,
          0.9104549968988724,
          0.9040992165739504,
          0.9199770126363578,
          0.9098393652193679,
          0.9179536799972051,
          0.9298707326601141,
          0.9145620627058438,
          0.9172915994604446,
          0.9224649472762935,
          0.9239842048931121,
          0.9225299983620965,
          0.9356643059984928,
          0.9410118795646353,
          0.9545968375304045,
          0.9581277446794223
         ],
         "yaxis": "y"
        },
        {
         "line": {
          "color": "rgb(204,235,197)"
         },
         "mode": "lines",
         "name": "^IXIC",
         "type": "scatter",
         "x": [
          "2022-02-22T00:00:00",
          "2022-02-23T00:00:00",
          "2022-02-24T00:00:00",
          "2022-02-25T00:00:00",
          "2022-02-28T00:00:00",
          "2022-03-01T00:00:00",
          "2022-03-02T00:00:00",
          "2022-03-03T00:00:00",
          "2022-03-04T00:00:00",
          "2022-03-07T00:00:00",
          "2022-03-08T00:00:00",
          "2022-03-09T00:00:00",
          "2022-03-10T00:00:00",
          "2022-03-11T00:00:00",
          "2022-03-14T00:00:00",
          "2022-03-15T00:00:00",
          "2022-03-16T00:00:00",
          "2022-03-17T00:00:00",
          "2022-03-18T00:00:00",
          "2022-03-21T00:00:00",
          "2022-03-22T00:00:00",
          "2022-03-23T00:00:00",
          "2022-03-24T00:00:00",
          "2022-03-25T00:00:00",
          "2022-03-28T00:00:00",
          "2022-03-29T00:00:00",
          "2022-03-30T00:00:00",
          "2022-03-31T00:00:00",
          "2022-04-01T00:00:00",
          "2022-04-04T00:00:00",
          "2022-04-05T00:00:00",
          "2022-04-06T00:00:00",
          "2022-04-07T00:00:00",
          "2022-04-08T00:00:00",
          "2022-04-11T00:00:00",
          "2022-04-12T00:00:00",
          "2022-04-13T00:00:00",
          "2022-04-14T00:00:00",
          "2022-04-18T00:00:00",
          "2022-04-19T00:00:00",
          "2022-04-20T00:00:00",
          "2022-04-21T00:00:00",
          "2022-04-22T00:00:00",
          "2022-04-25T00:00:00",
          "2022-04-26T00:00:00",
          "2022-04-27T00:00:00",
          "2022-04-28T00:00:00",
          "2022-04-29T00:00:00",
          "2022-05-02T00:00:00",
          "2022-05-03T00:00:00",
          "2022-05-04T00:00:00",
          "2022-05-05T00:00:00",
          "2022-05-06T00:00:00",
          "2022-05-09T00:00:00",
          "2022-05-10T00:00:00",
          "2022-05-11T00:00:00",
          "2022-05-12T00:00:00",
          "2022-05-13T00:00:00",
          "2022-05-16T00:00:00",
          "2022-05-17T00:00:00",
          "2022-05-18T00:00:00",
          "2022-05-19T00:00:00",
          "2022-05-20T00:00:00",
          "2022-05-23T00:00:00",
          "2022-05-24T00:00:00",
          "2022-05-25T00:00:00",
          "2022-05-26T00:00:00",
          "2022-05-27T00:00:00",
          "2022-05-31T00:00:00",
          "2022-06-01T00:00:00",
          "2022-06-02T00:00:00",
          "2022-06-03T00:00:00",
          "2022-06-06T00:00:00",
          "2022-06-07T00:00:00",
          "2022-06-08T00:00:00",
          "2022-06-09T00:00:00",
          "2022-06-10T00:00:00",
          "2022-06-13T00:00:00",
          "2022-06-14T00:00:00",
          "2022-06-15T00:00:00",
          "2022-06-16T00:00:00",
          "2022-06-17T00:00:00",
          "2022-06-21T00:00:00",
          "2022-06-22T00:00:00",
          "2022-06-23T00:00:00",
          "2022-06-24T00:00:00",
          "2022-06-27T00:00:00",
          "2022-06-28T00:00:00",
          "2022-06-29T00:00:00",
          "2022-06-30T00:00:00",
          "2022-07-01T00:00:00",
          "2022-07-05T00:00:00",
          "2022-07-06T00:00:00",
          "2022-07-07T00:00:00",
          "2022-07-08T00:00:00",
          "2022-07-11T00:00:00",
          "2022-07-12T00:00:00",
          "2022-07-13T00:00:00",
          "2022-07-14T00:00:00",
          "2022-07-15T00:00:00",
          "2022-07-18T00:00:00",
          "2022-07-19T00:00:00",
          "2022-07-20T00:00:00",
          "2022-07-21T00:00:00",
          "2022-07-22T00:00:00",
          "2022-07-25T00:00:00",
          "2022-07-26T00:00:00",
          "2022-07-27T00:00:00",
          "2022-07-28T00:00:00",
          "2022-07-29T00:00:00",
          "2022-08-01T00:00:00",
          "2022-08-02T00:00:00",
          "2022-08-03T00:00:00",
          "2022-08-04T00:00:00",
          "2022-08-05T00:00:00",
          "2022-08-08T00:00:00",
          "2022-08-09T00:00:00",
          "2022-08-10T00:00:00",
          "2022-08-11T00:00:00",
          "2022-08-12T00:00:00",
          "2022-08-15T00:00:00",
          "2022-08-16T00:00:00",
          "2022-08-17T00:00:00",
          "2022-08-18T00:00:00",
          "2022-08-19T00:00:00",
          "2022-08-22T00:00:00",
          "2022-08-23T00:00:00",
          "2022-08-24T00:00:00",
          "2022-08-25T00:00:00",
          "2022-08-26T00:00:00",
          "2022-08-29T00:00:00",
          "2022-08-30T00:00:00",
          "2022-08-31T00:00:00",
          "2022-09-01T00:00:00",
          "2022-09-02T00:00:00",
          "2022-09-06T00:00:00",
          "2022-09-07T00:00:00",
          "2022-09-08T00:00:00",
          "2022-09-09T00:00:00",
          "2022-09-12T00:00:00",
          "2022-09-13T00:00:00",
          "2022-09-14T00:00:00",
          "2022-09-15T00:00:00",
          "2022-09-16T00:00:00",
          "2022-09-19T00:00:00",
          "2022-09-20T00:00:00",
          "2022-09-21T00:00:00",
          "2022-09-22T00:00:00",
          "2022-09-23T00:00:00",
          "2022-09-26T00:00:00",
          "2022-09-27T00:00:00",
          "2022-09-28T00:00:00",
          "2022-09-29T00:00:00",
          "2022-09-30T00:00:00",
          "2022-10-03T00:00:00",
          "2022-10-04T00:00:00",
          "2022-10-05T00:00:00",
          "2022-10-06T00:00:00",
          "2022-10-07T00:00:00",
          "2022-10-10T00:00:00",
          "2022-10-11T00:00:00",
          "2022-10-12T00:00:00",
          "2022-10-13T00:00:00",
          "2022-10-14T00:00:00",
          "2022-10-17T00:00:00",
          "2022-10-18T00:00:00",
          "2022-10-19T00:00:00",
          "2022-10-20T00:00:00",
          "2022-10-21T00:00:00",
          "2022-10-24T00:00:00",
          "2022-10-25T00:00:00",
          "2022-10-26T00:00:00",
          "2022-10-27T00:00:00",
          "2022-10-28T00:00:00",
          "2022-10-31T00:00:00",
          "2022-11-01T00:00:00",
          "2022-11-02T00:00:00",
          "2022-11-03T00:00:00",
          "2022-11-04T00:00:00",
          "2022-11-07T00:00:00",
          "2022-11-08T00:00:00",
          "2022-11-09T00:00:00",
          "2022-11-10T00:00:00",
          "2022-11-11T00:00:00",
          "2022-11-14T00:00:00",
          "2022-11-15T00:00:00",
          "2022-11-16T00:00:00",
          "2022-11-17T00:00:00",
          "2022-11-18T00:00:00",
          "2022-11-21T00:00:00",
          "2022-11-22T00:00:00",
          "2022-11-23T00:00:00",
          "2022-11-25T00:00:00",
          "2022-11-28T00:00:00",
          "2022-11-29T00:00:00",
          "2022-11-30T00:00:00",
          "2022-12-01T00:00:00",
          "2022-12-02T00:00:00",
          "2022-12-05T00:00:00",
          "2022-12-06T00:00:00",
          "2022-12-07T00:00:00",
          "2022-12-08T00:00:00",
          "2022-12-09T00:00:00",
          "2022-12-12T00:00:00",
          "2022-12-13T00:00:00",
          "2022-12-14T00:00:00",
          "2022-12-15T00:00:00",
          "2022-12-16T00:00:00",
          "2022-12-19T00:00:00",
          "2022-12-20T00:00:00",
          "2022-12-21T00:00:00",
          "2022-12-22T00:00:00",
          "2022-12-23T00:00:00",
          "2022-12-27T00:00:00",
          "2022-12-28T00:00:00",
          "2022-12-29T00:00:00",
          "2022-12-30T00:00:00",
          "2023-01-03T00:00:00",
          "2023-01-04T00:00:00",
          "2023-01-05T00:00:00",
          "2023-01-06T00:00:00",
          "2023-01-09T00:00:00",
          "2023-01-10T00:00:00",
          "2023-01-11T00:00:00",
          "2023-01-12T00:00:00",
          "2023-01-13T00:00:00",
          "2023-01-17T00:00:00",
          "2023-01-18T00:00:00",
          "2023-01-19T00:00:00",
          "2023-01-20T00:00:00",
          "2023-01-23T00:00:00",
          "2023-01-24T00:00:00",
          "2023-01-25T00:00:00",
          "2023-01-26T00:00:00",
          "2023-01-27T00:00:00",
          "2023-01-30T00:00:00",
          "2023-01-31T00:00:00",
          "2023-02-01T00:00:00",
          "2023-02-02T00:00:00",
          "2023-02-03T00:00:00",
          "2023-02-06T00:00:00",
          "2023-02-07T00:00:00",
          "2023-02-08T00:00:00",
          "2023-02-09T00:00:00",
          "2023-02-10T00:00:00",
          "2023-02-13T00:00:00",
          "2023-02-14T00:00:00",
          "2023-02-15T00:00:00",
          "2023-02-16T00:00:00",
          "2023-02-17T00:00:00",
          "2023-02-21T00:00:00",
          "2023-02-22T00:00:00",
          "2023-02-23T00:00:00",
          "2023-02-24T00:00:00",
          "2023-02-27T00:00:00",
          "2023-02-28T00:00:00",
          "2023-03-01T00:00:00",
          "2023-03-02T00:00:00",
          "2023-03-03T00:00:00",
          "2023-03-06T00:00:00",
          "2023-03-07T00:00:00",
          "2023-03-08T00:00:00",
          "2023-03-09T00:00:00",
          "2023-03-10T00:00:00",
          "2023-03-13T00:00:00",
          "2023-03-14T00:00:00",
          "2023-03-15T00:00:00",
          "2023-03-16T00:00:00",
          "2023-03-17T00:00:00",
          "2023-03-20T00:00:00",
          "2023-03-21T00:00:00",
          "2023-03-22T00:00:00",
          "2023-03-23T00:00:00",
          "2023-03-24T00:00:00",
          "2023-03-27T00:00:00",
          "2023-03-28T00:00:00",
          "2023-03-29T00:00:00",
          "2023-03-30T00:00:00",
          "2023-03-31T00:00:00",
          "2023-04-03T00:00:00"
         ],
         "xaxis": "x",
         "y": [
          1,
          0.9742907151858513,
          1.006880407885292,
          1.023397984452088,
          1.0276411702356532,
          1.0112797675432157,
          1.0276874385703931,
          1.011689322581954,
          0.9949124535966551,
          0.958856722584698,
          0.956210524134118,
          0.9905862913200312,
          0.9812009712555416,
          0.9598169729766652,
          0.9401936526850667,
          0.9676494576679767,
          1.0041124084084014,
          1.0174315586240235,
          1.0382856604067703,
          1.0341471257147143,
          1.0543511355008321,
          1.0404348756403494,
          1.0605551791489487,
          1.058870763637701,
          1.072740682184998,
          1.0925246280361587,
          1.079269771831429,
          1.062698410149959,
          1.065760877656306,
          1.0860164102252727,
          1.0614766050076643,
          1.037910551194526,
          1.0385442230408133,
          1.0246220519262077,
          1.0022748111390798,
          0.9992564955925397,
          1.0195844957583469,
          0.9977252618393663,
          0.9963263380087218,
          1.0177962319184954,
          1.0053469847787395,
          0.984540683878098,
          0.9594792287287535,
          0.9718514836080193,
          0.9334321266882469,
          0.9332968246494334,
          0.961888539143741,
          0.9217667410365683,
          0.9368158453137183,
          0.9388888710497132,
          0.9688630892243237,
          0.9205001271284529,
          0.9075695871375781,
          0.8686046433557941,
          0.877155235955371,
          0.8492488620470922,
          0.8497510267337562,
          0.8821868078906631,
          0.8715594676543472,
          0.895602289654955,
          0.8532775641779752,
          0.8510617926016787,
          0.848529951375921,
          0.8620298692021908,
          0.8417915595464711,
          0.8545173220179766,
          0.8773779661724469,
          0.9065584707687754,
          0.9028413866021499,
          0.8963451372564016,
          0.9204410875656697,
          0.8977104910019036,
          0.90134532845993,
          0.9098541044099707,
          0.9032060598966216,
          0.8783928044419936,
          0.8474388506303441,
          0.8077730218535416,
          0.8092017938685845,
          0.829438716933831,
          0.7955822643693831,
          0.8069598960086336,
          0.8272079847761123,
          0.8259958857671305,
          0.8393807895625642,
          0.8674366233281733,
          0.8612287848008666,
          0.8355956894843022,
          0.8353228960532965,
          0.824176970979975,
          0.8315834075037606,
          0.8461102050431609,
          0.8490702108113772,
          0.8684626272999522,
          0.8695058541849782,
          0.8498735575445263,
          0.8418125043604622,
          0.8405308568924785,
          0.8408006582071998,
          0.8558385238036716,
          0.8489357115354694,
          0.8753228931341586,
          0.8891105649728563,
          0.9012138213003066,
          0.8843622223863427,
          0.8805180827452973,
          0.864070054637503,
          0.8991818824293882,
          0.9089094714054393,
          0.925955411921,
          0.92433302808882,
          0.922821936386732,
          0.9466907047937206,
          0.9506080418160657,
          0.9458977939783441,
          0.9449195908886702,
          0.9336704742927586,
          0.960638272407521,
          0.9550417743220375,
          0.9750156100895913,
          0.98105822541524,
          0.9791526122342818,
          0.9668647934169938,
          0.9688989216412911,
          0.9494601638395304,
          0.9252738662141614,
          0.9252536511846299,
          0.9290073705311284,
          0.9445317104483825,
          0.9073491192523271,
          0.898079615981579,
          0.8880261782443079,
          0.8830237976874006,
          0.8807019154506754,
          0.8691733643851756,
          0.8627503124207272,
          0.8812078750165296,
          0.8864561199578826,
          0.9051520301581968,
          0.9166679559525454,
          0.86937587957272,
          0.8758108270238602,
          0.8633070649849708,
          0.8555381445200922,
          0.8620111867200246,
          0.8537931568986963,
          0.8384840304185839,
          0.8270218897389094,
          0.812159610283422,
          0.8073014351357355,
          0.8092877624779277,
          0.8258882425593366,
          0.8024133388252046,
          0.7903153369458638,
          0.808236289028508,
          0.8352123337076641,
          0.8331370456398444,
          0.8275076342752321,
          0.7960531213027294,
          0.78781035178822,
          0.7791484670585512,
          0.7784691107050915,
          0.7958102490345681,
          0.7713167121516994,
          0.7978017578464236,
          0.805020712742533,
          0.798153732891298,
          0.7932462243141413,
          0.81154608048822,
          0.8184877902681199,
          0.836909447468509,
          0.8198613175995696,
          0.806535453366919,
          0.8296853111027365,
          0.8211436948520129,
          0.8138724144101488,
          0.7865175386180042,
          0.7729272004971875,
          0.7828146852483413,
          0.7894857909506143,
          0.7933478832893662,
          0.7736916497186389,
          0.8305596658638065,
          0.8461916489888545,
          0.8366927014840021,
          0.8488131807246994,
          0.8357541256904856,
          0.8328620628554597,
          0.8329442365856129,
          0.8238608283520679,
          0.8350628738503341,
          0.8433511819151237,
          0.8389451082401714,
          0.825728346784234,
          0.8208171163063331,
          0.8570028219305484,
          0.8580826839954473,
          0.8565170773942258,
          0.8399599465097183,
          0.8231419176808967,
          0.8189316451764604,
          0.8281570694658474,
          0.822374476343161,
          0.8327709127764533,
          0.8412205761852648,
          0.8347997865526412,
          0.8078701561651169,
          0.8000145373064356,
          0.7881040900332169,
          0.7881848041944508,
          0.8003104649048113,
          0.7828797090436934,
          0.7845043552076981,
          0.7736961743822885,
          0.7632384360543882,
          0.7830269065691986,
          0.782159338803603,
          0.7762183094747332,
          0.7815823712098279,
          0.7701098675908268,
          0.7898422906591384,
          0.7948013949975903,
          0.8027959648173831,
          0.8169229134513579,
          0.8221113890454682,
          0.82794484814499,
          0.8291368051028865,
          0.8188165581671785,
          0.8109893279239763,
          0.8325235158446423,
          0.8492615602966895,
          0.8470091535405201,
          0.8454466120340289,
          0.8603215897391138,
          0.8684895563465121,
          0.8514585764123738,
          0.8657125805207684,
          0.8830327740362539,
          0.9117664316079575,
          0.8972785315802548,
          0.8883483051047839,
          0.9052626654822752,
          0.8900722749337429,
          0.881034478228924,
          0.8756942804456589,
          0.8886726213186388,
          0.8937811855144207,
          0.9020343179682567,
          0.8859853360029822,
          0.8808618112257781,
          0.8588187446014195,
          0.8599225435965938,
          0.8661497943905263,
          0.8515430854527977,
          0.8569266324329642,
          0.85607168993852,
          0.8503877636747742,
          0.8566277127183041,
          0.8735188659499794,
          0.8725272348262485,
          0.8616607442225154,
          0.8650736542263715,
          0.8473140574877491,
          0.8324084288353604,
          0.8361412033678677,
          0.8540248634646255,
          0.8544657262566815,
          0.8756315189821317,
          0.8691471651230752,
          0.8725122742448264,
          0.8863052005316334,
          0.8720952754045999,
          0.880871590337537,
          0.8836036844190143,
          0.8794845619935843,
          0.8755418284720444,
          0.8912470819568382,
          0.8977657356854968,
          0.9133424741269516,
          0.9109167435616226
         ],
         "yaxis": "y"
        }
       ],
       "layout": {
        "annotations": [
         {
          "font": {
           "size": 16
          },
          "showarrow": false,
          "text": "ROI Comparison",
          "x": 0.5,
          "xanchor": "center",
          "xref": "paper",
          "y": 0.9999999999999999,
          "yanchor": "bottom",
          "yref": "paper"
         }
        ],
        "hovermode": "x",
        "legend": {
         "title": {
          "text": "ROI"
         }
        },
        "template": {
         "data": {
          "bar": [
           {
            "error_x": {
             "color": "#2a3f5f"
            },
            "error_y": {
             "color": "#2a3f5f"
            },
            "marker": {
             "line": {
              "color": "#E5ECF6",
              "width": 0.5
             },
             "pattern": {
              "fillmode": "overlay",
              "size": 10,
              "solidity": 0.2
             }
            },
            "type": "bar"
           }
          ],
          "barpolar": [
           {
            "marker": {
             "line": {
              "color": "#E5ECF6",
              "width": 0.5
             },
             "pattern": {
              "fillmode": "overlay",
              "size": 10,
              "solidity": 0.2
             }
            },
            "type": "barpolar"
           }
          ],
          "carpet": [
           {
            "aaxis": {
             "endlinecolor": "#2a3f5f",
             "gridcolor": "white",
             "linecolor": "white",
             "minorgridcolor": "white",
             "startlinecolor": "#2a3f5f"
            },
            "baxis": {
             "endlinecolor": "#2a3f5f",
             "gridcolor": "white",
             "linecolor": "white",
             "minorgridcolor": "white",
             "startlinecolor": "#2a3f5f"
            },
            "type": "carpet"
           }
          ],
          "choropleth": [
           {
            "colorbar": {
             "outlinewidth": 0,
             "ticks": ""
            },
            "type": "choropleth"
           }
          ],
          "contour": [
           {
            "colorbar": {
             "outlinewidth": 0,
             "ticks": ""
            },
            "colorscale": [
             [
              0,
              "#0d0887"
             ],
             [
              0.1111111111111111,
              "#46039f"
             ],
             [
              0.2222222222222222,
              "#7201a8"
             ],
             [
              0.3333333333333333,
              "#9c179e"
             ],
             [
              0.4444444444444444,
              "#bd3786"
             ],
             [
              0.5555555555555556,
              "#d8576b"
             ],
             [
              0.6666666666666666,
              "#ed7953"
             ],
             [
              0.7777777777777778,
              "#fb9f3a"
             ],
             [
              0.8888888888888888,
              "#fdca26"
             ],
             [
              1,
              "#f0f921"
             ]
            ],
            "type": "contour"
           }
          ],
          "contourcarpet": [
           {
            "colorbar": {
             "outlinewidth": 0,
             "ticks": ""
            },
            "type": "contourcarpet"
           }
          ],
          "heatmap": [
           {
            "colorbar": {
             "outlinewidth": 0,
             "ticks": ""
            },
            "colorscale": [
             [
              0,
              "#0d0887"
             ],
             [
              0.1111111111111111,
              "#46039f"
             ],
             [
              0.2222222222222222,
              "#7201a8"
             ],
             [
              0.3333333333333333,
              "#9c179e"
             ],
             [
              0.4444444444444444,
              "#bd3786"
             ],
             [
              0.5555555555555556,
              "#d8576b"
             ],
             [
              0.6666666666666666,
              "#ed7953"
             ],
             [
              0.7777777777777778,
              "#fb9f3a"
             ],
             [
              0.8888888888888888,
              "#fdca26"
             ],
             [
              1,
              "#f0f921"
             ]
            ],
            "type": "heatmap"
           }
          ],
          "heatmapgl": [
           {
            "colorbar": {
             "outlinewidth": 0,
             "ticks": ""
            },
            "colorscale": [
             [
              0,
              "#0d0887"
             ],
             [
              0.1111111111111111,
              "#46039f"
             ],
             [
              0.2222222222222222,
              "#7201a8"
             ],
             [
              0.3333333333333333,
              "#9c179e"
             ],
             [
              0.4444444444444444,
              "#bd3786"
             ],
             [
              0.5555555555555556,
              "#d8576b"
             ],
             [
              0.6666666666666666,
              "#ed7953"
             ],
             [
              0.7777777777777778,
              "#fb9f3a"
             ],
             [
              0.8888888888888888,
              "#fdca26"
             ],
             [
              1,
              "#f0f921"
             ]
            ],
            "type": "heatmapgl"
           }
          ],
          "histogram": [
           {
            "marker": {
             "pattern": {
              "fillmode": "overlay",
              "size": 10,
              "solidity": 0.2
             }
            },
            "type": "histogram"
           }
          ],
          "histogram2d": [
           {
            "colorbar": {
             "outlinewidth": 0,
             "ticks": ""
            },
            "colorscale": [
             [
              0,
              "#0d0887"
             ],
             [
              0.1111111111111111,
              "#46039f"
             ],
             [
              0.2222222222222222,
              "#7201a8"
             ],
             [
              0.3333333333333333,
              "#9c179e"
             ],
             [
              0.4444444444444444,
              "#bd3786"
             ],
             [
              0.5555555555555556,
              "#d8576b"
             ],
             [
              0.6666666666666666,
              "#ed7953"
             ],
             [
              0.7777777777777778,
              "#fb9f3a"
             ],
             [
              0.8888888888888888,
              "#fdca26"
             ],
             [
              1,
              "#f0f921"
             ]
            ],
            "type": "histogram2d"
           }
          ],
          "histogram2dcontour": [
           {
            "colorbar": {
             "outlinewidth": 0,
             "ticks": ""
            },
            "colorscale": [
             [
              0,
              "#0d0887"
             ],
             [
              0.1111111111111111,
              "#46039f"
             ],
             [
              0.2222222222222222,
              "#7201a8"
             ],
             [
              0.3333333333333333,
              "#9c179e"
             ],
             [
              0.4444444444444444,
              "#bd3786"
             ],
             [
              0.5555555555555556,
              "#d8576b"
             ],
             [
              0.6666666666666666,
              "#ed7953"
             ],
             [
              0.7777777777777778,
              "#fb9f3a"
             ],
             [
              0.8888888888888888,
              "#fdca26"
             ],
             [
              1,
              "#f0f921"
             ]
            ],
            "type": "histogram2dcontour"
           }
          ],
          "mesh3d": [
           {
            "colorbar": {
             "outlinewidth": 0,
             "ticks": ""
            },
            "type": "mesh3d"
           }
          ],
          "parcoords": [
           {
            "line": {
             "colorbar": {
              "outlinewidth": 0,
              "ticks": ""
             }
            },
            "type": "parcoords"
           }
          ],
          "pie": [
           {
            "automargin": true,
            "type": "pie"
           }
          ],
          "scatter": [
           {
            "fillpattern": {
             "fillmode": "overlay",
             "size": 10,
             "solidity": 0.2
            },
            "type": "scatter"
           }
          ],
          "scatter3d": [
           {
            "line": {
             "colorbar": {
              "outlinewidth": 0,
              "ticks": ""
             }
            },
            "marker": {
             "colorbar": {
              "outlinewidth": 0,
              "ticks": ""
             }
            },
            "type": "scatter3d"
           }
          ],
          "scattercarpet": [
           {
            "marker": {
             "colorbar": {
              "outlinewidth": 0,
              "ticks": ""
             }
            },
            "type": "scattercarpet"
           }
          ],
          "scattergeo": [
           {
            "marker": {
             "colorbar": {
              "outlinewidth": 0,
              "ticks": ""
             }
            },
            "type": "scattergeo"
           }
          ],
          "scattergl": [
           {
            "marker": {
             "colorbar": {
              "outlinewidth": 0,
              "ticks": ""
             }
            },
            "type": "scattergl"
           }
          ],
          "scattermapbox": [
           {
            "marker": {
             "colorbar": {
              "outlinewidth": 0,
              "ticks": ""
             }
            },
            "type": "scattermapbox"
           }
          ],
          "scatterpolar": [
           {
            "marker": {
             "colorbar": {
              "outlinewidth": 0,
              "ticks": ""
             }
            },
            "type": "scatterpolar"
           }
          ],
          "scatterpolargl": [
           {
            "marker": {
             "colorbar": {
              "outlinewidth": 0,
              "ticks": ""
             }
            },
            "type": "scatterpolargl"
           }
          ],
          "scatterternary": [
           {
            "marker": {
             "colorbar": {
              "outlinewidth": 0,
              "ticks": ""
             }
            },
            "type": "scatterternary"
           }
          ],
          "surface": [
           {
            "colorbar": {
             "outlinewidth": 0,
             "ticks": ""
            },
            "colorscale": [
             [
              0,
              "#0d0887"
             ],
             [
              0.1111111111111111,
              "#46039f"
             ],
             [
              0.2222222222222222,
              "#7201a8"
             ],
             [
              0.3333333333333333,
              "#9c179e"
             ],
             [
              0.4444444444444444,
              "#bd3786"
             ],
             [
              0.5555555555555556,
              "#d8576b"
             ],
             [
              0.6666666666666666,
              "#ed7953"
             ],
             [
              0.7777777777777778,
              "#fb9f3a"
             ],
             [
              0.8888888888888888,
              "#fdca26"
             ],
             [
              1,
              "#f0f921"
             ]
            ],
            "type": "surface"
           }
          ],
          "table": [
           {
            "cells": {
             "fill": {
              "color": "#EBF0F8"
             },
             "line": {
              "color": "white"
             }
            },
            "header": {
             "fill": {
              "color": "#C8D4E3"
             },
             "line": {
              "color": "white"
             }
            },
            "type": "table"
           }
          ]
         },
         "layout": {
          "annotationdefaults": {
           "arrowcolor": "#2a3f5f",
           "arrowhead": 0,
           "arrowwidth": 1
          },
          "autotypenumbers": "strict",
          "coloraxis": {
           "colorbar": {
            "outlinewidth": 0,
            "ticks": ""
           }
          },
          "colorscale": {
           "diverging": [
            [
             0,
             "#8e0152"
            ],
            [
             0.1,
             "#c51b7d"
            ],
            [
             0.2,
             "#de77ae"
            ],
            [
             0.3,
             "#f1b6da"
            ],
            [
             0.4,
             "#fde0ef"
            ],
            [
             0.5,
             "#f7f7f7"
            ],
            [
             0.6,
             "#e6f5d0"
            ],
            [
             0.7,
             "#b8e186"
            ],
            [
             0.8,
             "#7fbc41"
            ],
            [
             0.9,
             "#4d9221"
            ],
            [
             1,
             "#276419"
            ]
           ],
           "sequential": [
            [
             0,
             "#0d0887"
            ],
            [
             0.1111111111111111,
             "#46039f"
            ],
            [
             0.2222222222222222,
             "#7201a8"
            ],
            [
             0.3333333333333333,
             "#9c179e"
            ],
            [
             0.4444444444444444,
             "#bd3786"
            ],
            [
             0.5555555555555556,
             "#d8576b"
            ],
            [
             0.6666666666666666,
             "#ed7953"
            ],
            [
             0.7777777777777778,
             "#fb9f3a"
            ],
            [
             0.8888888888888888,
             "#fdca26"
            ],
            [
             1,
             "#f0f921"
            ]
           ],
           "sequentialminus": [
            [
             0,
             "#0d0887"
            ],
            [
             0.1111111111111111,
             "#46039f"
            ],
            [
             0.2222222222222222,
             "#7201a8"
            ],
            [
             0.3333333333333333,
             "#9c179e"
            ],
            [
             0.4444444444444444,
             "#bd3786"
            ],
            [
             0.5555555555555556,
             "#d8576b"
            ],
            [
             0.6666666666666666,
             "#ed7953"
            ],
            [
             0.7777777777777778,
             "#fb9f3a"
            ],
            [
             0.8888888888888888,
             "#fdca26"
            ],
            [
             1,
             "#f0f921"
            ]
           ]
          },
          "colorway": [
           "#636efa",
           "#EF553B",
           "#00cc96",
           "#ab63fa",
           "#FFA15A",
           "#19d3f3",
           "#FF6692",
           "#B6E880",
           "#FF97FF",
           "#FECB52"
          ],
          "font": {
           "color": "#2a3f5f"
          },
          "geo": {
           "bgcolor": "white",
           "lakecolor": "white",
           "landcolor": "#E5ECF6",
           "showlakes": true,
           "showland": true,
           "subunitcolor": "white"
          },
          "hoverlabel": {
           "align": "left"
          },
          "hovermode": "closest",
          "mapbox": {
           "style": "light"
          },
          "paper_bgcolor": "white",
          "plot_bgcolor": "#E5ECF6",
          "polar": {
           "angularaxis": {
            "gridcolor": "white",
            "linecolor": "white",
            "ticks": ""
           },
           "bgcolor": "#E5ECF6",
           "radialaxis": {
            "gridcolor": "white",
            "linecolor": "white",
            "ticks": ""
           }
          },
          "scene": {
           "xaxis": {
            "backgroundcolor": "#E5ECF6",
            "gridcolor": "white",
            "gridwidth": 2,
            "linecolor": "white",
            "showbackground": true,
            "ticks": "",
            "zerolinecolor": "white"
           },
           "yaxis": {
            "backgroundcolor": "#E5ECF6",
            "gridcolor": "white",
            "gridwidth": 2,
            "linecolor": "white",
            "showbackground": true,
            "ticks": "",
            "zerolinecolor": "white"
           },
           "zaxis": {
            "backgroundcolor": "#E5ECF6",
            "gridcolor": "white",
            "gridwidth": 2,
            "linecolor": "white",
            "showbackground": true,
            "ticks": "",
            "zerolinecolor": "white"
           }
          },
          "shapedefaults": {
           "line": {
            "color": "#2a3f5f"
           }
          },
          "ternary": {
           "aaxis": {
            "gridcolor": "white",
            "linecolor": "white",
            "ticks": ""
           },
           "baxis": {
            "gridcolor": "white",
            "linecolor": "white",
            "ticks": ""
           },
           "bgcolor": "#E5ECF6",
           "caxis": {
            "gridcolor": "white",
            "linecolor": "white",
            "ticks": ""
           }
          },
          "title": {
           "x": 0.05
          },
          "xaxis": {
           "automargin": true,
           "gridcolor": "white",
           "linecolor": "white",
           "ticks": "",
           "title": {
            "standoff": 15
           },
           "zerolinecolor": "white",
           "zerolinewidth": 2
          },
          "yaxis": {
           "automargin": true,
           "gridcolor": "white",
           "linecolor": "white",
           "ticks": "",
           "title": {
            "standoff": 15
           },
           "zerolinecolor": "white",
           "zerolinewidth": 2
          }
         }
        },
        "xaxis": {
         "anchor": "y",
         "domain": [
          0,
          1
         ],
         "matches": "x2",
         "showticklabels": false,
         "title": {
          "text": "x"
         },
         "visible": false
        },
        "xaxis2": {
         "anchor": "y2",
         "domain": [
          0,
          1
         ]
        },
        "yaxis": {
         "anchor": "x",
         "domain": [
          0.33499999999999996,
          0.9999999999999999
         ],
         "tickformat": ".2%",
         "title": {
          "text": "ROI"
         }
        },
        "yaxis2": {
         "anchor": "x2",
         "domain": [
          0,
          0.285
         ]
        }
       }
      }
     },
     "metadata": {},
     "output_type": "display_data"
    },
    {
     "name": "stdout",
     "output_type": "stream",
     "text": [
      "Successfully connected to SQLite database\n",
      "[*********************100%***********************]  1 of 1 completed\n",
      "[*********************100%***********************]  1 of 1 completed\n",
      "Successfully created table\n",
      "Successfully inserted data into table: ('2023-04-04', 'AMD', 97.03800201416016, 97.2699966430664, 95.7300033569336, 96.16000366210938, 96.16000366210938, 23370084.0)\n"
     ]
    },
    {
     "data": {
      "application/vnd.plotly.v1+json": {
       "config": {
        "plotlyServerURL": "https://plot.ly"
       },
       "data": [
        {
         "connectgaps": true,
         "customdata": [
          [
           "margin"
          ],
          [
           "margin"
          ],
          [
           "margin"
          ],
          [
           "margin"
          ],
          [
           "margin"
          ],
          [
           "margin"
          ],
          [
           "margin"
          ],
          [
           "margin"
          ],
          [
           "margin"
          ],
          [
           "margin"
          ],
          [
           "margin"
          ],
          [
           "margin"
          ],
          [
           "margin"
          ],
          [
           "margin"
          ],
          [
           "margin"
          ],
          [
           "margin"
          ],
          [
           "margin"
          ],
          [
           "margin"
          ],
          [
           "margin"
          ],
          [
           "margin"
          ],
          [
           "margin"
          ],
          [
           "margin"
          ],
          [
           "margin"
          ],
          [
           "margin"
          ],
          [
           "margin"
          ],
          [
           "margin"
          ],
          [
           "margin"
          ],
          [
           "margin"
          ],
          [
           "margin"
          ],
          [
           "margin"
          ],
          [
           "margin"
          ],
          [
           "margin"
          ],
          [
           "margin"
          ],
          [
           "margin"
          ],
          [
           "margin"
          ],
          [
           "margin"
          ],
          [
           "margin"
          ],
          [
           "margin"
          ],
          [
           "margin"
          ],
          [
           "margin"
          ],
          [
           "margin"
          ],
          [
           "margin"
          ],
          [
           "margin"
          ],
          [
           "margin"
          ],
          [
           "margin"
          ],
          [
           "margin"
          ],
          [
           "margin"
          ],
          [
           "margin"
          ],
          [
           "margin"
          ],
          [
           "margin"
          ],
          [
           "margin"
          ],
          [
           "margin"
          ],
          [
           "margin"
          ],
          [
           "margin"
          ],
          [
           "margin"
          ],
          [
           "margin"
          ],
          [
           "margin"
          ],
          [
           "margin"
          ],
          [
           "margin"
          ],
          [
           "margin"
          ],
          [
           "margin"
          ],
          [
           "margin"
          ],
          [
           "margin"
          ],
          [
           "margin"
          ],
          [
           "margin"
          ],
          [
           "margin"
          ],
          [
           "margin"
          ],
          [
           "margin"
          ],
          [
           "margin"
          ],
          [
           "margin"
          ],
          [
           "margin"
          ],
          [
           "margin"
          ],
          [
           "margin"
          ],
          [
           "margin"
          ],
          [
           "margin"
          ],
          [
           "margin"
          ],
          [
           "margin"
          ],
          [
           "margin"
          ],
          [
           "margin"
          ],
          [
           "margin"
          ],
          [
           "margin"
          ],
          [
           "margin"
          ],
          [
           "margin"
          ],
          [
           "margin"
          ],
          [
           "margin"
          ],
          [
           "margin"
          ],
          [
           "margin"
          ],
          [
           "margin"
          ],
          [
           "margin"
          ],
          [
           "margin"
          ],
          [
           "margin"
          ],
          [
           "margin"
          ],
          [
           "margin"
          ],
          [
           "margin"
          ],
          [
           "margin"
          ],
          [
           "margin"
          ],
          [
           "margin"
          ],
          [
           "margin"
          ],
          [
           "margin"
          ],
          [
           "margin"
          ],
          [
           "margin"
          ],
          [
           "margin"
          ],
          [
           "margin"
          ],
          [
           "margin"
          ],
          [
           "margin"
          ],
          [
           "margin"
          ],
          [
           "margin"
          ],
          [
           "margin"
          ],
          [
           "margin"
          ],
          [
           "margin"
          ],
          [
           "margin"
          ],
          [
           "margin"
          ],
          [
           "margin"
          ],
          [
           "margin"
          ],
          [
           "margin"
          ],
          [
           "margin"
          ],
          [
           "margin"
          ],
          [
           "margin"
          ],
          [
           "margin"
          ],
          [
           "margin"
          ],
          [
           "margin"
          ],
          [
           "margin"
          ],
          [
           "margin"
          ],
          [
           "margin"
          ],
          [
           "margin"
          ],
          [
           "margin"
          ],
          [
           "margin"
          ],
          [
           "margin"
          ],
          [
           "margin"
          ],
          [
           "margin"
          ],
          [
           "margin"
          ],
          [
           "margin"
          ],
          [
           "margin"
          ],
          [
           "margin"
          ],
          [
           "margin"
          ],
          [
           "margin"
          ],
          [
           "margin"
          ],
          [
           "margin"
          ],
          [
           "margin"
          ],
          [
           "margin"
          ],
          [
           "margin"
          ],
          [
           "margin"
          ],
          [
           "margin"
          ],
          [
           "margin"
          ],
          [
           "margin"
          ],
          [
           "margin"
          ],
          [
           "margin"
          ],
          [
           "margin"
          ],
          [
           "margin"
          ],
          [
           "margin"
          ],
          [
           "margin"
          ],
          [
           "margin"
          ],
          [
           "margin"
          ],
          [
           "margin"
          ],
          [
           "margin"
          ],
          [
           "margin"
          ],
          [
           "margin"
          ],
          [
           "margin"
          ],
          [
           "margin"
          ],
          [
           "margin"
          ],
          [
           "margin"
          ],
          [
           "margin"
          ],
          [
           "margin"
          ],
          [
           "margin"
          ],
          [
           "margin"
          ],
          [
           "margin"
          ],
          [
           "margin"
          ],
          [
           "margin"
          ],
          [
           "margin"
          ],
          [
           "margin"
          ],
          [
           "margin"
          ],
          [
           "margin"
          ],
          [
           "margin"
          ],
          [
           "margin"
          ],
          [
           "margin"
          ],
          [
           "margin"
          ],
          [
           "margin"
          ],
          [
           "margin"
          ],
          [
           "margin"
          ],
          [
           "margin"
          ],
          [
           "margin"
          ],
          [
           "margin"
          ],
          [
           "margin"
          ],
          [
           "margin"
          ],
          [
           "margin"
          ],
          [
           "margin"
          ],
          [
           "margin"
          ],
          [
           "margin"
          ],
          [
           "margin"
          ],
          [
           "margin"
          ],
          [
           "margin"
          ],
          [
           "margin"
          ],
          [
           "margin"
          ],
          [
           "margin"
          ],
          [
           "margin"
          ],
          [
           "margin"
          ],
          [
           "margin"
          ],
          [
           "margin"
          ],
          [
           "margin"
          ],
          [
           "margin"
          ],
          [
           "margin"
          ],
          [
           "margin"
          ],
          [
           "margin"
          ],
          [
           "margin"
          ],
          [
           "margin"
          ],
          [
           "margin"
          ],
          [
           "margin"
          ],
          [
           "margin"
          ],
          [
           "margin"
          ],
          [
           "margin"
          ],
          [
           "margin"
          ],
          [
           "margin"
          ],
          [
           "margin"
          ],
          [
           "margin"
          ],
          [
           "margin"
          ],
          [
           "margin"
          ],
          [
           "margin"
          ],
          [
           "margin"
          ],
          [
           "margin"
          ],
          [
           "margin"
          ],
          [
           "margin"
          ],
          [
           "margin"
          ],
          [
           "margin"
          ],
          [
           "margin"
          ],
          [
           "margin"
          ],
          [
           "margin"
          ],
          [
           "margin"
          ],
          [
           "margin"
          ],
          [
           "margin"
          ],
          [
           "margin"
          ],
          [
           "margin"
          ],
          [
           "margin"
          ],
          [
           "margin"
          ],
          [
           "margin"
          ],
          [
           "margin"
          ],
          [
           "margin"
          ],
          [
           "margin"
          ],
          [
           "margin"
          ],
          [
           "margin"
          ],
          [
           "margin"
          ],
          [
           "margin"
          ],
          [
           "margin"
          ],
          [
           "margin"
          ],
          [
           "margin"
          ],
          [
           "margin"
          ],
          [
           "margin"
          ],
          [
           "margin"
          ],
          [
           "margin"
          ],
          [
           "margin"
          ],
          [
           "margin"
          ],
          [
           "margin"
          ],
          [
           "margin"
          ],
          [
           "margin"
          ],
          [
           "margin"
          ],
          [
           "margin"
          ],
          [
           "margin"
          ],
          [
           "margin"
          ],
          [
           "margin"
          ],
          [
           "margin"
          ],
          [
           "margin"
          ],
          [
           "margin"
          ],
          [
           "margin"
          ],
          [
           "margin"
          ],
          [
           "margin"
          ],
          [
           "margin"
          ],
          [
           "margin"
          ],
          [
           "margin"
          ],
          [
           "margin"
          ],
          [
           "margin"
          ],
          [
           "margin"
          ],
          [
           "margin"
          ],
          [
           "margin"
          ],
          [
           "margin"
          ],
          [
           "margin"
          ],
          [
           "margin"
          ],
          [
           "margin"
          ],
          [
           "margin"
          ],
          [
           "margin"
          ],
          [
           "margin"
          ],
          [
           "margin"
          ],
          [
           "margin"
          ],
          [
           "margin"
          ]
         ],
         "fillpattern": {
          "shape": ""
         },
         "hovertemplate": "<b>%{hovertext}</b><br><br>Value=%{y:.1f}<extra></extra>",
         "hovertext": [
          "margin",
          "margin",
          "margin",
          "margin",
          "margin",
          "margin",
          "margin",
          "margin",
          "margin",
          "margin",
          "margin",
          "margin",
          "margin",
          "margin",
          "margin",
          "margin",
          "margin",
          "margin",
          "margin",
          "margin",
          "margin",
          "margin",
          "margin",
          "margin",
          "margin",
          "margin",
          "margin",
          "margin",
          "margin",
          "margin",
          "margin",
          "margin",
          "margin",
          "margin",
          "margin",
          "margin",
          "margin",
          "margin",
          "margin",
          "margin",
          "margin",
          "margin",
          "margin",
          "margin",
          "margin",
          "margin",
          "margin",
          "margin",
          "margin",
          "margin",
          "margin",
          "margin",
          "margin",
          "margin",
          "margin",
          "margin",
          "margin",
          "margin",
          "margin",
          "margin",
          "margin",
          "margin",
          "margin",
          "margin",
          "margin",
          "margin",
          "margin",
          "margin",
          "margin",
          "margin",
          "margin",
          "margin",
          "margin",
          "margin",
          "margin",
          "margin",
          "margin",
          "margin",
          "margin",
          "margin",
          "margin",
          "margin",
          "margin",
          "margin",
          "margin",
          "margin",
          "margin",
          "margin",
          "margin",
          "margin",
          "margin",
          "margin",
          "margin",
          "margin",
          "margin",
          "margin",
          "margin",
          "margin",
          "margin",
          "margin",
          "margin",
          "margin",
          "margin",
          "margin",
          "margin",
          "margin",
          "margin",
          "margin",
          "margin",
          "margin",
          "margin",
          "margin",
          "margin",
          "margin",
          "margin",
          "margin",
          "margin",
          "margin",
          "margin",
          "margin",
          "margin",
          "margin",
          "margin",
          "margin",
          "margin",
          "margin",
          "margin",
          "margin",
          "margin",
          "margin",
          "margin",
          "margin",
          "margin",
          "margin",
          "margin",
          "margin",
          "margin",
          "margin",
          "margin",
          "margin",
          "margin",
          "margin",
          "margin",
          "margin",
          "margin",
          "margin",
          "margin",
          "margin",
          "margin",
          "margin",
          "margin",
          "margin",
          "margin",
          "margin",
          "margin",
          "margin",
          "margin",
          "margin",
          "margin",
          "margin",
          "margin",
          "margin",
          "margin",
          "margin",
          "margin",
          "margin",
          "margin",
          "margin",
          "margin",
          "margin",
          "margin",
          "margin",
          "margin",
          "margin",
          "margin",
          "margin",
          "margin",
          "margin",
          "margin",
          "margin",
          "margin",
          "margin",
          "margin",
          "margin",
          "margin",
          "margin",
          "margin",
          "margin",
          "margin",
          "margin",
          "margin",
          "margin",
          "margin",
          "margin",
          "margin",
          "margin",
          "margin",
          "margin",
          "margin",
          "margin",
          "margin",
          "margin",
          "margin",
          "margin",
          "margin",
          "margin",
          "margin",
          "margin",
          "margin",
          "margin",
          "margin",
          "margin",
          "margin",
          "margin",
          "margin",
          "margin",
          "margin",
          "margin",
          "margin",
          "margin",
          "margin",
          "margin",
          "margin",
          "margin",
          "margin",
          "margin",
          "margin",
          "margin",
          "margin",
          "margin",
          "margin",
          "margin",
          "margin",
          "margin",
          "margin",
          "margin",
          "margin",
          "margin",
          "margin",
          "margin",
          "margin",
          "margin",
          "margin",
          "margin",
          "margin",
          "margin",
          "margin",
          "margin",
          "margin",
          "margin",
          "margin",
          "margin",
          "margin",
          "margin",
          "margin",
          "margin",
          "margin",
          "margin",
          "margin",
          "margin",
          "margin",
          "margin",
          "margin",
          "margin",
          "margin",
          "margin",
          "margin",
          "margin",
          "margin",
          "margin",
          "margin",
          "margin",
          "margin",
          "margin",
          "margin",
          "margin",
          "margin",
          "margin",
          "margin",
          "margin",
          "margin",
          "margin"
         ],
         "legendgroup": "margin",
         "line": {
          "color": "#636efa"
         },
         "marker": {
          "symbol": "circle"
         },
         "mode": "lines",
         "name": "margin",
         "orientation": "v",
         "showlegend": true,
         "stackgroup": "1",
         "type": "scatter",
         "x": [
          "2022-02-22T00:00:00",
          "2022-02-23T00:00:00",
          "2022-02-24T00:00:00",
          "2022-02-25T00:00:00",
          "2022-02-28T00:00:00",
          "2022-03-01T00:00:00",
          "2022-03-02T00:00:00",
          "2022-03-03T00:00:00",
          "2022-03-04T00:00:00",
          "2022-03-07T00:00:00",
          "2022-03-08T00:00:00",
          "2022-03-09T00:00:00",
          "2022-03-10T00:00:00",
          "2022-03-11T00:00:00",
          "2022-03-14T00:00:00",
          "2022-03-15T00:00:00",
          "2022-03-16T00:00:00",
          "2022-03-17T00:00:00",
          "2022-03-18T00:00:00",
          "2022-03-21T00:00:00",
          "2022-03-22T00:00:00",
          "2022-03-23T00:00:00",
          "2022-03-24T00:00:00",
          "2022-03-25T00:00:00",
          "2022-03-28T00:00:00",
          "2022-03-29T00:00:00",
          "2022-03-30T00:00:00",
          "2022-03-31T00:00:00",
          "2022-04-01T00:00:00",
          "2022-04-04T00:00:00",
          "2022-04-05T00:00:00",
          "2022-04-06T00:00:00",
          "2022-04-07T00:00:00",
          "2022-04-08T00:00:00",
          "2022-04-11T00:00:00",
          "2022-04-12T00:00:00",
          "2022-04-13T00:00:00",
          "2022-04-14T00:00:00",
          "2022-04-18T00:00:00",
          "2022-04-19T00:00:00",
          "2022-04-20T00:00:00",
          "2022-04-21T00:00:00",
          "2022-04-22T00:00:00",
          "2022-04-25T00:00:00",
          "2022-04-26T00:00:00",
          "2022-04-27T00:00:00",
          "2022-04-28T00:00:00",
          "2022-04-29T00:00:00",
          "2022-05-02T00:00:00",
          "2022-05-03T00:00:00",
          "2022-05-04T00:00:00",
          "2022-05-05T00:00:00",
          "2022-05-06T00:00:00",
          "2022-05-09T00:00:00",
          "2022-05-10T00:00:00",
          "2022-05-11T00:00:00",
          "2022-05-12T00:00:00",
          "2022-05-13T00:00:00",
          "2022-05-16T00:00:00",
          "2022-05-17T00:00:00",
          "2022-05-18T00:00:00",
          "2022-05-19T00:00:00",
          "2022-05-20T00:00:00",
          "2022-05-23T00:00:00",
          "2022-05-24T00:00:00",
          "2022-05-25T00:00:00",
          "2022-05-26T00:00:00",
          "2022-05-27T00:00:00",
          "2022-05-31T00:00:00",
          "2022-06-01T00:00:00",
          "2022-06-02T00:00:00",
          "2022-06-03T00:00:00",
          "2022-06-06T00:00:00",
          "2022-06-07T00:00:00",
          "2022-06-08T00:00:00",
          "2022-06-09T00:00:00",
          "2022-06-10T00:00:00",
          "2022-06-13T00:00:00",
          "2022-06-14T00:00:00",
          "2022-06-15T00:00:00",
          "2022-06-16T00:00:00",
          "2022-06-17T00:00:00",
          "2022-06-21T00:00:00",
          "2022-06-22T00:00:00",
          "2022-06-23T00:00:00",
          "2022-06-24T00:00:00",
          "2022-06-27T00:00:00",
          "2022-06-28T00:00:00",
          "2022-06-29T00:00:00",
          "2022-06-30T00:00:00",
          "2022-07-01T00:00:00",
          "2022-07-05T00:00:00",
          "2022-07-06T00:00:00",
          "2022-07-07T00:00:00",
          "2022-07-08T00:00:00",
          "2022-07-11T00:00:00",
          "2022-07-12T00:00:00",
          "2022-07-13T00:00:00",
          "2022-07-14T00:00:00",
          "2022-07-15T00:00:00",
          "2022-07-18T00:00:00",
          "2022-07-19T00:00:00",
          "2022-07-20T00:00:00",
          "2022-07-21T00:00:00",
          "2022-07-22T00:00:00",
          "2022-07-25T00:00:00",
          "2022-07-26T00:00:00",
          "2022-07-27T00:00:00",
          "2022-07-28T00:00:00",
          "2022-07-29T00:00:00",
          "2022-08-01T00:00:00",
          "2022-08-02T00:00:00",
          "2022-08-03T00:00:00",
          "2022-08-04T00:00:00",
          "2022-08-05T00:00:00",
          "2022-08-08T00:00:00",
          "2022-08-09T00:00:00",
          "2022-08-10T00:00:00",
          "2022-08-11T00:00:00",
          "2022-08-12T00:00:00",
          "2022-08-15T00:00:00",
          "2022-08-16T00:00:00",
          "2022-08-17T00:00:00",
          "2022-08-18T00:00:00",
          "2022-08-19T00:00:00",
          "2022-08-22T00:00:00",
          "2022-08-23T00:00:00",
          "2022-08-24T00:00:00",
          "2022-08-25T00:00:00",
          "2022-08-26T00:00:00",
          "2022-08-29T00:00:00",
          "2022-08-30T00:00:00",
          "2022-08-31T00:00:00",
          "2022-09-01T00:00:00",
          "2022-09-02T00:00:00",
          "2022-09-06T00:00:00",
          "2022-09-07T00:00:00",
          "2022-09-08T00:00:00",
          "2022-09-09T00:00:00",
          "2022-09-12T00:00:00",
          "2022-09-13T00:00:00",
          "2022-09-14T00:00:00",
          "2022-09-15T00:00:00",
          "2022-09-16T00:00:00",
          "2022-09-19T00:00:00",
          "2022-09-20T00:00:00",
          "2022-09-21T00:00:00",
          "2022-09-22T00:00:00",
          "2022-09-23T00:00:00",
          "2022-09-26T00:00:00",
          "2022-09-27T00:00:00",
          "2022-09-28T00:00:00",
          "2022-09-29T00:00:00",
          "2022-09-30T00:00:00",
          "2022-10-03T00:00:00",
          "2022-10-04T00:00:00",
          "2022-10-05T00:00:00",
          "2022-10-06T00:00:00",
          "2022-10-07T00:00:00",
          "2022-10-10T00:00:00",
          "2022-10-11T00:00:00",
          "2022-10-12T00:00:00",
          "2022-10-13T00:00:00",
          "2022-10-14T00:00:00",
          "2022-10-17T00:00:00",
          "2022-10-18T00:00:00",
          "2022-10-19T00:00:00",
          "2022-10-20T00:00:00",
          "2022-10-21T00:00:00",
          "2022-10-24T00:00:00",
          "2022-10-25T00:00:00",
          "2022-10-26T00:00:00",
          "2022-10-27T00:00:00",
          "2022-10-28T00:00:00",
          "2022-10-31T00:00:00",
          "2022-11-01T00:00:00",
          "2022-11-02T00:00:00",
          "2022-11-03T00:00:00",
          "2022-11-04T00:00:00",
          "2022-11-07T00:00:00",
          "2022-11-08T00:00:00",
          "2022-11-09T00:00:00",
          "2022-11-10T00:00:00",
          "2022-11-11T00:00:00",
          "2022-11-14T00:00:00",
          "2022-11-15T00:00:00",
          "2022-11-16T00:00:00",
          "2022-11-17T00:00:00",
          "2022-11-18T00:00:00",
          "2022-11-21T00:00:00",
          "2022-11-22T00:00:00",
          "2022-11-23T00:00:00",
          "2022-11-25T00:00:00",
          "2022-11-28T00:00:00",
          "2022-11-29T00:00:00",
          "2022-11-30T00:00:00",
          "2022-12-01T00:00:00",
          "2022-12-02T00:00:00",
          "2022-12-05T00:00:00",
          "2022-12-06T00:00:00",
          "2022-12-07T00:00:00",
          "2022-12-08T00:00:00",
          "2022-12-09T00:00:00",
          "2022-12-12T00:00:00",
          "2022-12-13T00:00:00",
          "2022-12-14T00:00:00",
          "2022-12-15T00:00:00",
          "2022-12-16T00:00:00",
          "2022-12-19T00:00:00",
          "2022-12-20T00:00:00",
          "2022-12-21T00:00:00",
          "2022-12-22T00:00:00",
          "2022-12-23T00:00:00",
          "2022-12-27T00:00:00",
          "2022-12-28T00:00:00",
          "2022-12-29T00:00:00",
          "2022-12-30T00:00:00",
          "2023-01-03T00:00:00",
          "2023-01-04T00:00:00",
          "2023-01-05T00:00:00",
          "2023-01-06T00:00:00",
          "2023-01-09T00:00:00",
          "2023-01-10T00:00:00",
          "2023-01-11T00:00:00",
          "2023-01-12T00:00:00",
          "2023-01-13T00:00:00",
          "2023-01-17T00:00:00",
          "2023-01-18T00:00:00",
          "2023-01-19T00:00:00",
          "2023-01-20T00:00:00",
          "2023-01-23T00:00:00",
          "2023-01-24T00:00:00",
          "2023-01-25T00:00:00",
          "2023-01-26T00:00:00",
          "2023-01-27T00:00:00",
          "2023-01-30T00:00:00",
          "2023-01-31T00:00:00",
          "2023-02-01T00:00:00",
          "2023-02-02T00:00:00",
          "2023-02-03T00:00:00",
          "2023-02-06T00:00:00",
          "2023-02-07T00:00:00",
          "2023-02-08T00:00:00",
          "2023-02-09T00:00:00",
          "2023-02-10T00:00:00",
          "2023-02-13T00:00:00",
          "2023-02-14T00:00:00",
          "2023-02-15T00:00:00",
          "2023-02-16T00:00:00",
          "2023-02-17T00:00:00",
          "2023-02-21T00:00:00",
          "2023-02-22T00:00:00",
          "2023-02-23T00:00:00",
          "2023-02-24T00:00:00",
          "2023-02-27T00:00:00",
          "2023-02-28T00:00:00",
          "2023-03-01T00:00:00",
          "2023-03-02T00:00:00",
          "2023-03-03T00:00:00",
          "2023-03-06T00:00:00",
          "2023-03-07T00:00:00",
          "2023-03-08T00:00:00",
          "2023-03-09T00:00:00",
          "2023-03-10T00:00:00",
          "2023-03-13T00:00:00",
          "2023-03-14T00:00:00",
          "2023-03-15T00:00:00",
          "2023-03-16T00:00:00",
          "2023-03-17T00:00:00",
          "2023-03-20T00:00:00",
          "2023-03-21T00:00:00",
          "2023-03-22T00:00:00",
          "2023-03-23T00:00:00",
          "2023-03-24T00:00:00",
          "2023-03-27T00:00:00",
          "2023-03-28T00:00:00",
          "2023-03-29T00:00:00",
          "2023-03-30T00:00:00",
          "2023-03-31T00:00:00",
          "2023-04-03T00:00:00",
          "2023-04-04T00:00:00",
          "2023-04-05T00:00:00"
         ],
         "xaxis": "x",
         "y": [
          0,
          0,
          0,
          0,
          0,
          0,
          0,
          0,
          0,
          0,
          0,
          0,
          0,
          0,
          0,
          0,
          0,
          0,
          0,
          0,
          0,
          0,
          0,
          0,
          0,
          0,
          0,
          0,
          0,
          0,
          0,
          0,
          0,
          0,
          0,
          0,
          0,
          0,
          0,
          0,
          0,
          0,
          0,
          0,
          0,
          0,
          0,
          0,
          0,
          0,
          0,
          0,
          0,
          0,
          0,
          0,
          0,
          0,
          0,
          0,
          0,
          0,
          0,
          0,
          0,
          0,
          0,
          0,
          0,
          0,
          0,
          0,
          0,
          0,
          0,
          0,
          0,
          0,
          0,
          0,
          0,
          0,
          0,
          0,
          0,
          0,
          0,
          0,
          0,
          0,
          0,
          0,
          0,
          0,
          0,
          0,
          0,
          0,
          0,
          0,
          0,
          0,
          0,
          0,
          0,
          0,
          0,
          0,
          0,
          0,
          0,
          0,
          0,
          0,
          0,
          0,
          0,
          0,
          0,
          0,
          0,
          0,
          0,
          0,
          0,
          0,
          0,
          0,
          0,
          0,
          0,
          0,
          0,
          0,
          0,
          0,
          0,
          0,
          0,
          0,
          0,
          0,
          0,
          0,
          0,
          0,
          0,
          0,
          0,
          0,
          0,
          0,
          0,
          0,
          0,
          0,
          0,
          0,
          0,
          0,
          0,
          0,
          0,
          0,
          0,
          0,
          0,
          0,
          0,
          0,
          0,
          0,
          0,
          0,
          0,
          0,
          0,
          0,
          0,
          0,
          0,
          0,
          0,
          0,
          0,
          0,
          0,
          0,
          0,
          0,
          0,
          0,
          0,
          0,
          0,
          0,
          0,
          0,
          0,
          0,
          0,
          0,
          0,
          0,
          0,
          0,
          0,
          0,
          0,
          0,
          0,
          0,
          0,
          0,
          0,
          0,
          0,
          0,
          0,
          0,
          0,
          0,
          0,
          0,
          0,
          0,
          0,
          0,
          0,
          0,
          0,
          0,
          0,
          0,
          0,
          0,
          0,
          0,
          0,
          0,
          0,
          0,
          0,
          0,
          0,
          0,
          0,
          0,
          0,
          0,
          0,
          0,
          0,
          0,
          0,
          0,
          0,
          0,
          0,
          0,
          0,
          0,
          0,
          0,
          0,
          0,
          0,
          0,
          0,
          0,
          0,
          0,
          0,
          0,
          0,
          0,
          0,
          0,
          0,
          0,
          0,
          0
         ],
         "yaxis": "y"
        },
        {
         "connectgaps": true,
         "customdata": [
          [
           "cash"
          ],
          [
           "cash"
          ],
          [
           "cash"
          ],
          [
           "cash"
          ],
          [
           "cash"
          ],
          [
           "cash"
          ],
          [
           "cash"
          ],
          [
           "cash"
          ],
          [
           "cash"
          ],
          [
           "cash"
          ],
          [
           "cash"
          ],
          [
           "cash"
          ],
          [
           "cash"
          ],
          [
           "cash"
          ],
          [
           "cash"
          ],
          [
           "cash"
          ],
          [
           "cash"
          ],
          [
           "cash"
          ],
          [
           "cash"
          ],
          [
           "cash"
          ],
          [
           "cash"
          ],
          [
           "cash"
          ],
          [
           "cash"
          ],
          [
           "cash"
          ],
          [
           "cash"
          ],
          [
           "cash"
          ],
          [
           "cash"
          ],
          [
           "cash"
          ],
          [
           "cash"
          ],
          [
           "cash"
          ],
          [
           "cash"
          ],
          [
           "cash"
          ],
          [
           "cash"
          ],
          [
           "cash"
          ],
          [
           "cash"
          ],
          [
           "cash"
          ],
          [
           "cash"
          ],
          [
           "cash"
          ],
          [
           "cash"
          ],
          [
           "cash"
          ],
          [
           "cash"
          ],
          [
           "cash"
          ],
          [
           "cash"
          ],
          [
           "cash"
          ],
          [
           "cash"
          ],
          [
           "cash"
          ],
          [
           "cash"
          ],
          [
           "cash"
          ],
          [
           "cash"
          ],
          [
           "cash"
          ],
          [
           "cash"
          ],
          [
           "cash"
          ],
          [
           "cash"
          ],
          [
           "cash"
          ],
          [
           "cash"
          ],
          [
           "cash"
          ],
          [
           "cash"
          ],
          [
           "cash"
          ],
          [
           "cash"
          ],
          [
           "cash"
          ],
          [
           "cash"
          ],
          [
           "cash"
          ],
          [
           "cash"
          ],
          [
           "cash"
          ],
          [
           "cash"
          ],
          [
           "cash"
          ],
          [
           "cash"
          ],
          [
           "cash"
          ],
          [
           "cash"
          ],
          [
           "cash"
          ],
          [
           "cash"
          ],
          [
           "cash"
          ],
          [
           "cash"
          ],
          [
           "cash"
          ],
          [
           "cash"
          ],
          [
           "cash"
          ],
          [
           "cash"
          ],
          [
           "cash"
          ],
          [
           "cash"
          ],
          [
           "cash"
          ],
          [
           "cash"
          ],
          [
           "cash"
          ],
          [
           "cash"
          ],
          [
           "cash"
          ],
          [
           "cash"
          ],
          [
           "cash"
          ],
          [
           "cash"
          ],
          [
           "cash"
          ],
          [
           "cash"
          ],
          [
           "cash"
          ],
          [
           "cash"
          ],
          [
           "cash"
          ],
          [
           "cash"
          ],
          [
           "cash"
          ],
          [
           "cash"
          ],
          [
           "cash"
          ],
          [
           "cash"
          ],
          [
           "cash"
          ],
          [
           "cash"
          ],
          [
           "cash"
          ],
          [
           "cash"
          ],
          [
           "cash"
          ],
          [
           "cash"
          ],
          [
           "cash"
          ],
          [
           "cash"
          ],
          [
           "cash"
          ],
          [
           "cash"
          ],
          [
           "cash"
          ],
          [
           "cash"
          ],
          [
           "cash"
          ],
          [
           "cash"
          ],
          [
           "cash"
          ],
          [
           "cash"
          ],
          [
           "cash"
          ],
          [
           "cash"
          ],
          [
           "cash"
          ],
          [
           "cash"
          ],
          [
           "cash"
          ],
          [
           "cash"
          ],
          [
           "cash"
          ],
          [
           "cash"
          ],
          [
           "cash"
          ],
          [
           "cash"
          ],
          [
           "cash"
          ],
          [
           "cash"
          ],
          [
           "cash"
          ],
          [
           "cash"
          ],
          [
           "cash"
          ],
          [
           "cash"
          ],
          [
           "cash"
          ],
          [
           "cash"
          ],
          [
           "cash"
          ],
          [
           "cash"
          ],
          [
           "cash"
          ],
          [
           "cash"
          ],
          [
           "cash"
          ],
          [
           "cash"
          ],
          [
           "cash"
          ],
          [
           "cash"
          ],
          [
           "cash"
          ],
          [
           "cash"
          ],
          [
           "cash"
          ],
          [
           "cash"
          ],
          [
           "cash"
          ],
          [
           "cash"
          ],
          [
           "cash"
          ],
          [
           "cash"
          ],
          [
           "cash"
          ],
          [
           "cash"
          ],
          [
           "cash"
          ],
          [
           "cash"
          ],
          [
           "cash"
          ],
          [
           "cash"
          ],
          [
           "cash"
          ],
          [
           "cash"
          ],
          [
           "cash"
          ],
          [
           "cash"
          ],
          [
           "cash"
          ],
          [
           "cash"
          ],
          [
           "cash"
          ],
          [
           "cash"
          ],
          [
           "cash"
          ],
          [
           "cash"
          ],
          [
           "cash"
          ],
          [
           "cash"
          ],
          [
           "cash"
          ],
          [
           "cash"
          ],
          [
           "cash"
          ],
          [
           "cash"
          ],
          [
           "cash"
          ],
          [
           "cash"
          ],
          [
           "cash"
          ],
          [
           "cash"
          ],
          [
           "cash"
          ],
          [
           "cash"
          ],
          [
           "cash"
          ],
          [
           "cash"
          ],
          [
           "cash"
          ],
          [
           "cash"
          ],
          [
           "cash"
          ],
          [
           "cash"
          ],
          [
           "cash"
          ],
          [
           "cash"
          ],
          [
           "cash"
          ],
          [
           "cash"
          ],
          [
           "cash"
          ],
          [
           "cash"
          ],
          [
           "cash"
          ],
          [
           "cash"
          ],
          [
           "cash"
          ],
          [
           "cash"
          ],
          [
           "cash"
          ],
          [
           "cash"
          ],
          [
           "cash"
          ],
          [
           "cash"
          ],
          [
           "cash"
          ],
          [
           "cash"
          ],
          [
           "cash"
          ],
          [
           "cash"
          ],
          [
           "cash"
          ],
          [
           "cash"
          ],
          [
           "cash"
          ],
          [
           "cash"
          ],
          [
           "cash"
          ],
          [
           "cash"
          ],
          [
           "cash"
          ],
          [
           "cash"
          ],
          [
           "cash"
          ],
          [
           "cash"
          ],
          [
           "cash"
          ],
          [
           "cash"
          ],
          [
           "cash"
          ],
          [
           "cash"
          ],
          [
           "cash"
          ],
          [
           "cash"
          ],
          [
           "cash"
          ],
          [
           "cash"
          ],
          [
           "cash"
          ],
          [
           "cash"
          ],
          [
           "cash"
          ],
          [
           "cash"
          ],
          [
           "cash"
          ],
          [
           "cash"
          ],
          [
           "cash"
          ],
          [
           "cash"
          ],
          [
           "cash"
          ],
          [
           "cash"
          ],
          [
           "cash"
          ],
          [
           "cash"
          ],
          [
           "cash"
          ],
          [
           "cash"
          ],
          [
           "cash"
          ],
          [
           "cash"
          ],
          [
           "cash"
          ],
          [
           "cash"
          ],
          [
           "cash"
          ],
          [
           "cash"
          ],
          [
           "cash"
          ],
          [
           "cash"
          ],
          [
           "cash"
          ],
          [
           "cash"
          ],
          [
           "cash"
          ],
          [
           "cash"
          ],
          [
           "cash"
          ],
          [
           "cash"
          ],
          [
           "cash"
          ],
          [
           "cash"
          ],
          [
           "cash"
          ],
          [
           "cash"
          ],
          [
           "cash"
          ],
          [
           "cash"
          ],
          [
           "cash"
          ],
          [
           "cash"
          ],
          [
           "cash"
          ],
          [
           "cash"
          ],
          [
           "cash"
          ],
          [
           "cash"
          ],
          [
           "cash"
          ],
          [
           "cash"
          ],
          [
           "cash"
          ],
          [
           "cash"
          ],
          [
           "cash"
          ],
          [
           "cash"
          ],
          [
           "cash"
          ],
          [
           "cash"
          ],
          [
           "cash"
          ],
          [
           "cash"
          ],
          [
           "cash"
          ],
          [
           "cash"
          ],
          [
           "cash"
          ],
          [
           "cash"
          ],
          [
           "cash"
          ],
          [
           "cash"
          ],
          [
           "cash"
          ],
          [
           "cash"
          ],
          [
           "cash"
          ],
          [
           "cash"
          ],
          [
           "cash"
          ],
          [
           "cash"
          ],
          [
           "cash"
          ],
          [
           "cash"
          ],
          [
           "cash"
          ]
         ],
         "fillpattern": {
          "shape": ""
         },
         "hovertemplate": "<b>%{hovertext}</b><br><br>Value=%{y:.1f}<extra></extra>",
         "hovertext": [
          "cash",
          "cash",
          "cash",
          "cash",
          "cash",
          "cash",
          "cash",
          "cash",
          "cash",
          "cash",
          "cash",
          "cash",
          "cash",
          "cash",
          "cash",
          "cash",
          "cash",
          "cash",
          "cash",
          "cash",
          "cash",
          "cash",
          "cash",
          "cash",
          "cash",
          "cash",
          "cash",
          "cash",
          "cash",
          "cash",
          "cash",
          "cash",
          "cash",
          "cash",
          "cash",
          "cash",
          "cash",
          "cash",
          "cash",
          "cash",
          "cash",
          "cash",
          "cash",
          "cash",
          "cash",
          "cash",
          "cash",
          "cash",
          "cash",
          "cash",
          "cash",
          "cash",
          "cash",
          "cash",
          "cash",
          "cash",
          "cash",
          "cash",
          "cash",
          "cash",
          "cash",
          "cash",
          "cash",
          "cash",
          "cash",
          "cash",
          "cash",
          "cash",
          "cash",
          "cash",
          "cash",
          "cash",
          "cash",
          "cash",
          "cash",
          "cash",
          "cash",
          "cash",
          "cash",
          "cash",
          "cash",
          "cash",
          "cash",
          "cash",
          "cash",
          "cash",
          "cash",
          "cash",
          "cash",
          "cash",
          "cash",
          "cash",
          "cash",
          "cash",
          "cash",
          "cash",
          "cash",
          "cash",
          "cash",
          "cash",
          "cash",
          "cash",
          "cash",
          "cash",
          "cash",
          "cash",
          "cash",
          "cash",
          "cash",
          "cash",
          "cash",
          "cash",
          "cash",
          "cash",
          "cash",
          "cash",
          "cash",
          "cash",
          "cash",
          "cash",
          "cash",
          "cash",
          "cash",
          "cash",
          "cash",
          "cash",
          "cash",
          "cash",
          "cash",
          "cash",
          "cash",
          "cash",
          "cash",
          "cash",
          "cash",
          "cash",
          "cash",
          "cash",
          "cash",
          "cash",
          "cash",
          "cash",
          "cash",
          "cash",
          "cash",
          "cash",
          "cash",
          "cash",
          "cash",
          "cash",
          "cash",
          "cash",
          "cash",
          "cash",
          "cash",
          "cash",
          "cash",
          "cash",
          "cash",
          "cash",
          "cash",
          "cash",
          "cash",
          "cash",
          "cash",
          "cash",
          "cash",
          "cash",
          "cash",
          "cash",
          "cash",
          "cash",
          "cash",
          "cash",
          "cash",
          "cash",
          "cash",
          "cash",
          "cash",
          "cash",
          "cash",
          "cash",
          "cash",
          "cash",
          "cash",
          "cash",
          "cash",
          "cash",
          "cash",
          "cash",
          "cash",
          "cash",
          "cash",
          "cash",
          "cash",
          "cash",
          "cash",
          "cash",
          "cash",
          "cash",
          "cash",
          "cash",
          "cash",
          "cash",
          "cash",
          "cash",
          "cash",
          "cash",
          "cash",
          "cash",
          "cash",
          "cash",
          "cash",
          "cash",
          "cash",
          "cash",
          "cash",
          "cash",
          "cash",
          "cash",
          "cash",
          "cash",
          "cash",
          "cash",
          "cash",
          "cash",
          "cash",
          "cash",
          "cash",
          "cash",
          "cash",
          "cash",
          "cash",
          "cash",
          "cash",
          "cash",
          "cash",
          "cash",
          "cash",
          "cash",
          "cash",
          "cash",
          "cash",
          "cash",
          "cash",
          "cash",
          "cash",
          "cash",
          "cash",
          "cash",
          "cash",
          "cash",
          "cash",
          "cash",
          "cash",
          "cash",
          "cash",
          "cash",
          "cash",
          "cash",
          "cash",
          "cash",
          "cash",
          "cash",
          "cash",
          "cash",
          "cash",
          "cash",
          "cash",
          "cash",
          "cash",
          "cash",
          "cash",
          "cash",
          "cash",
          "cash",
          "cash",
          "cash",
          "cash",
          "cash",
          "cash",
          "cash"
         ],
         "legendgroup": "cash",
         "line": {
          "color": "#EF553B"
         },
         "marker": {
          "symbol": "circle"
         },
         "mode": "lines",
         "name": "cash",
         "orientation": "v",
         "showlegend": true,
         "stackgroup": "1",
         "type": "scatter",
         "x": [
          "2022-02-22T00:00:00",
          "2022-02-23T00:00:00",
          "2022-02-24T00:00:00",
          "2022-02-25T00:00:00",
          "2022-02-28T00:00:00",
          "2022-03-01T00:00:00",
          "2022-03-02T00:00:00",
          "2022-03-03T00:00:00",
          "2022-03-04T00:00:00",
          "2022-03-07T00:00:00",
          "2022-03-08T00:00:00",
          "2022-03-09T00:00:00",
          "2022-03-10T00:00:00",
          "2022-03-11T00:00:00",
          "2022-03-14T00:00:00",
          "2022-03-15T00:00:00",
          "2022-03-16T00:00:00",
          "2022-03-17T00:00:00",
          "2022-03-18T00:00:00",
          "2022-03-21T00:00:00",
          "2022-03-22T00:00:00",
          "2022-03-23T00:00:00",
          "2022-03-24T00:00:00",
          "2022-03-25T00:00:00",
          "2022-03-28T00:00:00",
          "2022-03-29T00:00:00",
          "2022-03-30T00:00:00",
          "2022-03-31T00:00:00",
          "2022-04-01T00:00:00",
          "2022-04-04T00:00:00",
          "2022-04-05T00:00:00",
          "2022-04-06T00:00:00",
          "2022-04-07T00:00:00",
          "2022-04-08T00:00:00",
          "2022-04-11T00:00:00",
          "2022-04-12T00:00:00",
          "2022-04-13T00:00:00",
          "2022-04-14T00:00:00",
          "2022-04-18T00:00:00",
          "2022-04-19T00:00:00",
          "2022-04-20T00:00:00",
          "2022-04-21T00:00:00",
          "2022-04-22T00:00:00",
          "2022-04-25T00:00:00",
          "2022-04-26T00:00:00",
          "2022-04-27T00:00:00",
          "2022-04-28T00:00:00",
          "2022-04-29T00:00:00",
          "2022-05-02T00:00:00",
          "2022-05-03T00:00:00",
          "2022-05-04T00:00:00",
          "2022-05-05T00:00:00",
          "2022-05-06T00:00:00",
          "2022-05-09T00:00:00",
          "2022-05-10T00:00:00",
          "2022-05-11T00:00:00",
          "2022-05-12T00:00:00",
          "2022-05-13T00:00:00",
          "2022-05-16T00:00:00",
          "2022-05-17T00:00:00",
          "2022-05-18T00:00:00",
          "2022-05-19T00:00:00",
          "2022-05-20T00:00:00",
          "2022-05-23T00:00:00",
          "2022-05-24T00:00:00",
          "2022-05-25T00:00:00",
          "2022-05-26T00:00:00",
          "2022-05-27T00:00:00",
          "2022-05-31T00:00:00",
          "2022-06-01T00:00:00",
          "2022-06-02T00:00:00",
          "2022-06-03T00:00:00",
          "2022-06-06T00:00:00",
          "2022-06-07T00:00:00",
          "2022-06-08T00:00:00",
          "2022-06-09T00:00:00",
          "2022-06-10T00:00:00",
          "2022-06-13T00:00:00",
          "2022-06-14T00:00:00",
          "2022-06-15T00:00:00",
          "2022-06-16T00:00:00",
          "2022-06-17T00:00:00",
          "2022-06-21T00:00:00",
          "2022-06-22T00:00:00",
          "2022-06-23T00:00:00",
          "2022-06-24T00:00:00",
          "2022-06-27T00:00:00",
          "2022-06-28T00:00:00",
          "2022-06-29T00:00:00",
          "2022-06-30T00:00:00",
          "2022-07-01T00:00:00",
          "2022-07-05T00:00:00",
          "2022-07-06T00:00:00",
          "2022-07-07T00:00:00",
          "2022-07-08T00:00:00",
          "2022-07-11T00:00:00",
          "2022-07-12T00:00:00",
          "2022-07-13T00:00:00",
          "2022-07-14T00:00:00",
          "2022-07-15T00:00:00",
          "2022-07-18T00:00:00",
          "2022-07-19T00:00:00",
          "2022-07-20T00:00:00",
          "2022-07-21T00:00:00",
          "2022-07-22T00:00:00",
          "2022-07-25T00:00:00",
          "2022-07-26T00:00:00",
          "2022-07-27T00:00:00",
          "2022-07-28T00:00:00",
          "2022-07-29T00:00:00",
          "2022-08-01T00:00:00",
          "2022-08-02T00:00:00",
          "2022-08-03T00:00:00",
          "2022-08-04T00:00:00",
          "2022-08-05T00:00:00",
          "2022-08-08T00:00:00",
          "2022-08-09T00:00:00",
          "2022-08-10T00:00:00",
          "2022-08-11T00:00:00",
          "2022-08-12T00:00:00",
          "2022-08-15T00:00:00",
          "2022-08-16T00:00:00",
          "2022-08-17T00:00:00",
          "2022-08-18T00:00:00",
          "2022-08-19T00:00:00",
          "2022-08-22T00:00:00",
          "2022-08-23T00:00:00",
          "2022-08-24T00:00:00",
          "2022-08-25T00:00:00",
          "2022-08-26T00:00:00",
          "2022-08-29T00:00:00",
          "2022-08-30T00:00:00",
          "2022-08-31T00:00:00",
          "2022-09-01T00:00:00",
          "2022-09-02T00:00:00",
          "2022-09-06T00:00:00",
          "2022-09-07T00:00:00",
          "2022-09-08T00:00:00",
          "2022-09-09T00:00:00",
          "2022-09-12T00:00:00",
          "2022-09-13T00:00:00",
          "2022-09-14T00:00:00",
          "2022-09-15T00:00:00",
          "2022-09-16T00:00:00",
          "2022-09-19T00:00:00",
          "2022-09-20T00:00:00",
          "2022-09-21T00:00:00",
          "2022-09-22T00:00:00",
          "2022-09-23T00:00:00",
          "2022-09-26T00:00:00",
          "2022-09-27T00:00:00",
          "2022-09-28T00:00:00",
          "2022-09-29T00:00:00",
          "2022-09-30T00:00:00",
          "2022-10-03T00:00:00",
          "2022-10-04T00:00:00",
          "2022-10-05T00:00:00",
          "2022-10-06T00:00:00",
          "2022-10-07T00:00:00",
          "2022-10-10T00:00:00",
          "2022-10-11T00:00:00",
          "2022-10-12T00:00:00",
          "2022-10-13T00:00:00",
          "2022-10-14T00:00:00",
          "2022-10-17T00:00:00",
          "2022-10-18T00:00:00",
          "2022-10-19T00:00:00",
          "2022-10-20T00:00:00",
          "2022-10-21T00:00:00",
          "2022-10-24T00:00:00",
          "2022-10-25T00:00:00",
          "2022-10-26T00:00:00",
          "2022-10-27T00:00:00",
          "2022-10-28T00:00:00",
          "2022-10-31T00:00:00",
          "2022-11-01T00:00:00",
          "2022-11-02T00:00:00",
          "2022-11-03T00:00:00",
          "2022-11-04T00:00:00",
          "2022-11-07T00:00:00",
          "2022-11-08T00:00:00",
          "2022-11-09T00:00:00",
          "2022-11-10T00:00:00",
          "2022-11-11T00:00:00",
          "2022-11-14T00:00:00",
          "2022-11-15T00:00:00",
          "2022-11-16T00:00:00",
          "2022-11-17T00:00:00",
          "2022-11-18T00:00:00",
          "2022-11-21T00:00:00",
          "2022-11-22T00:00:00",
          "2022-11-23T00:00:00",
          "2022-11-25T00:00:00",
          "2022-11-28T00:00:00",
          "2022-11-29T00:00:00",
          "2022-11-30T00:00:00",
          "2022-12-01T00:00:00",
          "2022-12-02T00:00:00",
          "2022-12-05T00:00:00",
          "2022-12-06T00:00:00",
          "2022-12-07T00:00:00",
          "2022-12-08T00:00:00",
          "2022-12-09T00:00:00",
          "2022-12-12T00:00:00",
          "2022-12-13T00:00:00",
          "2022-12-14T00:00:00",
          "2022-12-15T00:00:00",
          "2022-12-16T00:00:00",
          "2022-12-19T00:00:00",
          "2022-12-20T00:00:00",
          "2022-12-21T00:00:00",
          "2022-12-22T00:00:00",
          "2022-12-23T00:00:00",
          "2022-12-27T00:00:00",
          "2022-12-28T00:00:00",
          "2022-12-29T00:00:00",
          "2022-12-30T00:00:00",
          "2023-01-03T00:00:00",
          "2023-01-04T00:00:00",
          "2023-01-05T00:00:00",
          "2023-01-06T00:00:00",
          "2023-01-09T00:00:00",
          "2023-01-10T00:00:00",
          "2023-01-11T00:00:00",
          "2023-01-12T00:00:00",
          "2023-01-13T00:00:00",
          "2023-01-17T00:00:00",
          "2023-01-18T00:00:00",
          "2023-01-19T00:00:00",
          "2023-01-20T00:00:00",
          "2023-01-23T00:00:00",
          "2023-01-24T00:00:00",
          "2023-01-25T00:00:00",
          "2023-01-26T00:00:00",
          "2023-01-27T00:00:00",
          "2023-01-30T00:00:00",
          "2023-01-31T00:00:00",
          "2023-02-01T00:00:00",
          "2023-02-02T00:00:00",
          "2023-02-03T00:00:00",
          "2023-02-06T00:00:00",
          "2023-02-07T00:00:00",
          "2023-02-08T00:00:00",
          "2023-02-09T00:00:00",
          "2023-02-10T00:00:00",
          "2023-02-13T00:00:00",
          "2023-02-14T00:00:00",
          "2023-02-15T00:00:00",
          "2023-02-16T00:00:00",
          "2023-02-17T00:00:00",
          "2023-02-21T00:00:00",
          "2023-02-22T00:00:00",
          "2023-02-23T00:00:00",
          "2023-02-24T00:00:00",
          "2023-02-27T00:00:00",
          "2023-02-28T00:00:00",
          "2023-03-01T00:00:00",
          "2023-03-02T00:00:00",
          "2023-03-03T00:00:00",
          "2023-03-06T00:00:00",
          "2023-03-07T00:00:00",
          "2023-03-08T00:00:00",
          "2023-03-09T00:00:00",
          "2023-03-10T00:00:00",
          "2023-03-13T00:00:00",
          "2023-03-14T00:00:00",
          "2023-03-15T00:00:00",
          "2023-03-16T00:00:00",
          "2023-03-17T00:00:00",
          "2023-03-20T00:00:00",
          "2023-03-21T00:00:00",
          "2023-03-22T00:00:00",
          "2023-03-23T00:00:00",
          "2023-03-24T00:00:00",
          "2023-03-27T00:00:00",
          "2023-03-28T00:00:00",
          "2023-03-29T00:00:00",
          "2023-03-30T00:00:00",
          "2023-03-31T00:00:00",
          "2023-04-03T00:00:00",
          "2023-04-04T00:00:00",
          "2023-04-05T00:00:00"
         ],
         "xaxis": "x",
         "y": [
          3981,
          3981,
          3981,
          3981,
          3186.54,
          3186.54,
          3186.54,
          3186.54,
          3186.54,
          3186.54,
          3186.54,
          3186.54,
          3186.54,
          3186.54,
          3186.54,
          3186.54,
          3186.56,
          3186.56,
          3186.56,
          2915.34,
          2915.34,
          2915.34,
          2915.34,
          2915.34,
          2488.34,
          2490.2650000000003,
          2490.2650000000003,
          2490.2650000000003,
          2490.2650000000003,
          2313.2650000000003,
          2313.2650000000003,
          2313.2650000000003,
          2313.2650000000003,
          2313.2650000000003,
          2313.2650000000003,
          2313.2650000000003,
          2313.2650000000003,
          2313.2650000000003,
          2313.2850000000003,
          2313.2850000000003,
          2313.2850000000003,
          2313.2850000000003,
          2313.2850000000003,
          2313.2850000000003,
          2313.2850000000003,
          2313.2850000000003,
          2313.2850000000003,
          2313.2850000000003,
          2313.2850000000003,
          2313.2850000000003,
          2313.2850000000003,
          2313.2850000000003,
          2313.2850000000003,
          2313.2850000000003,
          2313.2850000000003,
          2313.2850000000003,
          2313.4460000000004,
          2313.4460000000004,
          1945.7560000000003,
          1945.7560000000003,
          1945.7560000000003,
          1945.7560000000003,
          1945.7560000000003,
          1525.8160000000003,
          1525.8160000000003,
          1525.8160000000003,
          1355.3160000000003,
          1355.3160000000003,
          1355.3160000000003,
          1355.3160000000003,
          1355.3160000000003,
          1355.3160000000003,
          1355.3160000000003,
          1355.3160000000003,
          1355.3160000000003,
          1355.3160000000003,
          1256.2360000000003,
          1256.2360000000003,
          1256.2360000000003,
          1257.9160000000004,
          1257.9260000000004,
          1257.9260000000004,
          1257.9260000000004,
          1257.9260000000004,
          1257.9260000000004,
          1257.9260000000004,
          1257.9260000000004,
          1257.9260000000004,
          1257.9260000000004,
          1257.9260000000004,
          1257.9540000000004,
          1260.9640000000004,
          1260.9640000000004,
          1260.9640000000004,
          1260.9640000000004,
          1260.9640000000004,
          1260.9640000000004,
          1260.9640000000004,
          1260.9640000000004,
          1260.9640000000004,
          1260.9740000000004,
          1260.9740000000004,
          1260.9740000000004,
          1260.9740000000004,
          1260.9740000000004,
          1260.9740000000004,
          1260.9740000000004,
          1260.9740000000004,
          1260.9740000000004,
          1260.9740000000004,
          1260.9740000000004,
          1260.9740000000004,
          1260.9740000000004,
          1260.9740000000004,
          1260.9740000000004,
          1260.9740000000004,
          1260.9740000000004,
          1260.9740000000004,
          1261.1350000000004,
          1261.1350000000004,
          1261.1350000000004,
          1261.1450000000004,
          1261.1450000000004,
          1261.1450000000004,
          1261.1450000000004,
          1261.1450000000004,
          1261.1450000000004,
          1261.1450000000004,
          1261.1450000000004,
          1261.1450000000004,
          1261.1450000000004,
          1261.1450000000004,
          1261.1450000000004,
          1261.1450000000004,
          1261.1450000000004,
          1261.1450000000004,
          1261.1450000000004,
          1261.1450000000004,
          1261.1450000000004,
          1261.1450000000004,
          1261.1450000000004,
          1261.1450000000004,
          1264.4630000000004,
          1264.4730000000004,
          1264.4730000000004,
          1264.4730000000004,
          1264.4730000000004,
          1264.4730000000004,
          1264.4730000000004,
          1264.4730000000004,
          1264.4730000000004,
          1264.4730000000004,
          1264.5010000000004,
          1264.5010000000004,
          1267.5880000000004,
          1267.5880000000004,
          1267.5880000000004,
          1267.5880000000004,
          1267.5880000000004,
          1267.5880000000004,
          1267.5880000000004,
          1267.5880000000004,
          1267.5880000000004,
          1267.5880000000004,
          1267.7480000000005,
          1267.7480000000005,
          1267.7480000000005,
          1267.7480000000005,
          1267.7480000000005,
          1267.7480000000005,
          1267.7480000000005,
          1267.7480000000005,
          1267.7480000000005,
          1267.7480000000005,
          1267.7480000000005,
          1267.7480000000005,
          1267.7480000000005,
          1267.7480000000005,
          1267.7480000000005,
          1267.7480000000005,
          1267.7480000000005,
          1267.7480000000005,
          1267.9090000000006,
          1267.9090000000006,
          1267.9090000000006,
          1267.9090000000006,
          1268.2390000000005,
          1268.2390000000005,
          1268.2390000000005,
          1268.2390000000005,
          1268.2390000000005,
          1268.2390000000005,
          1268.2390000000005,
          1268.2390000000005,
          1268.2390000000005,
          1268.2390000000005,
          1268.2390000000005,
          1268.2390000000005,
          1268.2390000000005,
          1268.2390000000005,
          1268.2390000000005,
          1268.2390000000005,
          1268.2390000000005,
          1268.2390000000005,
          1268.2390000000005,
          1268.2390000000005,
          1271.5990000000004,
          1271.9190000000003,
          1271.9190000000003,
          1271.9190000000003,
          1271.9190000000003,
          1271.9470000000003,
          1275.4610000000002,
          1275.4610000000002,
          1275.4610000000002,
          1275.4610000000002,
          1275.6310000000003,
          1275.6310000000003,
          1275.6310000000003,
          1275.6310000000003,
          1275.6310000000003,
          1275.6310000000003,
          1275.6310000000003,
          1275.6310000000003,
          1275.6310000000003,
          1275.6310000000003,
          1275.7910000000004,
          1275.7910000000004,
          1275.7910000000004,
          938.7910000000004,
          705.3610000000003,
          705.3610000000003,
          705.3610000000003,
          705.3610000000003,
          457.36100000000033,
          457.36100000000033,
          944.3510000000003,
          944.3510000000003,
          1054.8510000000003,
          1054.8510000000003,
          1054.8510000000003,
          1054.8510000000003,
          1054.8510000000003,
          1054.8510000000003,
          1054.8510000000003,
          1047.3410000000003,
          1047.3410000000003,
          1047.3410000000003,
          1047.5120000000004,
          1047.5120000000004,
          1047.5120000000004,
          1047.5120000000004,
          1047.5120000000004,
          1047.7820000000004,
          797.9820000000004,
          797.9820000000004,
          797.9820000000004,
          797.9820000000004,
          797.9820000000004,
          1056.4720000000004,
          1296.4220000000005,
          1296.4220000000005,
          1296.8980000000006,
          1296.8980000000006,
          939.7980000000006,
          1102.7880000000005,
          1106.1480000000004,
          1106.4280000000003,
          1302.4480000000003,
          1302.4480000000003,
          1302.4480000000003,
          1302.4480000000003,
          1303.4980000000003,
          1303.4980000000003,
          1295.4880000000003,
          1295.4880000000003,
          1298.6380000000004,
          1298.6380000000004,
          1298.6380000000004,
          1298.6380000000004,
          1298.6380000000004,
          1298.6380000000004
         ],
         "yaxis": "y"
        },
        {
         "connectgaps": true,
         "customdata": [
          [
           "stock"
          ],
          [
           "stock"
          ],
          [
           "stock"
          ],
          [
           "stock"
          ],
          [
           "stock"
          ],
          [
           "stock"
          ],
          [
           "stock"
          ],
          [
           "stock"
          ],
          [
           "stock"
          ],
          [
           "stock"
          ],
          [
           "stock"
          ],
          [
           "stock"
          ],
          [
           "stock"
          ],
          [
           "stock"
          ],
          [
           "stock"
          ],
          [
           "stock"
          ],
          [
           "stock"
          ],
          [
           "stock"
          ],
          [
           "stock"
          ],
          [
           "stock"
          ],
          [
           "stock"
          ],
          [
           "stock"
          ],
          [
           "stock"
          ],
          [
           "stock"
          ],
          [
           "stock"
          ],
          [
           "stock"
          ],
          [
           "stock"
          ],
          [
           "stock"
          ],
          [
           "stock"
          ],
          [
           "stock"
          ],
          [
           "stock"
          ],
          [
           "stock"
          ],
          [
           "stock"
          ],
          [
           "stock"
          ],
          [
           "stock"
          ],
          [
           "stock"
          ],
          [
           "stock"
          ],
          [
           "stock"
          ],
          [
           "stock"
          ],
          [
           "stock"
          ],
          [
           "stock"
          ],
          [
           "stock"
          ],
          [
           "stock"
          ],
          [
           "stock"
          ],
          [
           "stock"
          ],
          [
           "stock"
          ],
          [
           "stock"
          ],
          [
           "stock"
          ],
          [
           "stock"
          ],
          [
           "stock"
          ],
          [
           "stock"
          ],
          [
           "stock"
          ],
          [
           "stock"
          ],
          [
           "stock"
          ],
          [
           "stock"
          ],
          [
           "stock"
          ],
          [
           "stock"
          ],
          [
           "stock"
          ],
          [
           "stock"
          ],
          [
           "stock"
          ],
          [
           "stock"
          ],
          [
           "stock"
          ],
          [
           "stock"
          ],
          [
           "stock"
          ],
          [
           "stock"
          ],
          [
           "stock"
          ],
          [
           "stock"
          ],
          [
           "stock"
          ],
          [
           "stock"
          ],
          [
           "stock"
          ],
          [
           "stock"
          ],
          [
           "stock"
          ],
          [
           "stock"
          ],
          [
           "stock"
          ],
          [
           "stock"
          ],
          [
           "stock"
          ],
          [
           "stock"
          ],
          [
           "stock"
          ],
          [
           "stock"
          ],
          [
           "stock"
          ],
          [
           "stock"
          ],
          [
           "stock"
          ],
          [
           "stock"
          ],
          [
           "stock"
          ],
          [
           "stock"
          ],
          [
           "stock"
          ],
          [
           "stock"
          ],
          [
           "stock"
          ],
          [
           "stock"
          ],
          [
           "stock"
          ],
          [
           "stock"
          ],
          [
           "stock"
          ],
          [
           "stock"
          ],
          [
           "stock"
          ],
          [
           "stock"
          ],
          [
           "stock"
          ],
          [
           "stock"
          ],
          [
           "stock"
          ],
          [
           "stock"
          ],
          [
           "stock"
          ],
          [
           "stock"
          ],
          [
           "stock"
          ],
          [
           "stock"
          ],
          [
           "stock"
          ],
          [
           "stock"
          ],
          [
           "stock"
          ],
          [
           "stock"
          ],
          [
           "stock"
          ],
          [
           "stock"
          ],
          [
           "stock"
          ],
          [
           "stock"
          ],
          [
           "stock"
          ],
          [
           "stock"
          ],
          [
           "stock"
          ],
          [
           "stock"
          ],
          [
           "stock"
          ],
          [
           "stock"
          ],
          [
           "stock"
          ],
          [
           "stock"
          ],
          [
           "stock"
          ],
          [
           "stock"
          ],
          [
           "stock"
          ],
          [
           "stock"
          ],
          [
           "stock"
          ],
          [
           "stock"
          ],
          [
           "stock"
          ],
          [
           "stock"
          ],
          [
           "stock"
          ],
          [
           "stock"
          ],
          [
           "stock"
          ],
          [
           "stock"
          ],
          [
           "stock"
          ],
          [
           "stock"
          ],
          [
           "stock"
          ],
          [
           "stock"
          ],
          [
           "stock"
          ],
          [
           "stock"
          ],
          [
           "stock"
          ],
          [
           "stock"
          ],
          [
           "stock"
          ],
          [
           "stock"
          ],
          [
           "stock"
          ],
          [
           "stock"
          ],
          [
           "stock"
          ],
          [
           "stock"
          ],
          [
           "stock"
          ],
          [
           "stock"
          ],
          [
           "stock"
          ],
          [
           "stock"
          ],
          [
           "stock"
          ],
          [
           "stock"
          ],
          [
           "stock"
          ],
          [
           "stock"
          ],
          [
           "stock"
          ],
          [
           "stock"
          ],
          [
           "stock"
          ],
          [
           "stock"
          ],
          [
           "stock"
          ],
          [
           "stock"
          ],
          [
           "stock"
          ],
          [
           "stock"
          ],
          [
           "stock"
          ],
          [
           "stock"
          ],
          [
           "stock"
          ],
          [
           "stock"
          ],
          [
           "stock"
          ],
          [
           "stock"
          ],
          [
           "stock"
          ],
          [
           "stock"
          ],
          [
           "stock"
          ],
          [
           "stock"
          ],
          [
           "stock"
          ],
          [
           "stock"
          ],
          [
           "stock"
          ],
          [
           "stock"
          ],
          [
           "stock"
          ],
          [
           "stock"
          ],
          [
           "stock"
          ],
          [
           "stock"
          ],
          [
           "stock"
          ],
          [
           "stock"
          ],
          [
           "stock"
          ],
          [
           "stock"
          ],
          [
           "stock"
          ],
          [
           "stock"
          ],
          [
           "stock"
          ],
          [
           "stock"
          ],
          [
           "stock"
          ],
          [
           "stock"
          ],
          [
           "stock"
          ],
          [
           "stock"
          ],
          [
           "stock"
          ],
          [
           "stock"
          ],
          [
           "stock"
          ],
          [
           "stock"
          ],
          [
           "stock"
          ],
          [
           "stock"
          ],
          [
           "stock"
          ],
          [
           "stock"
          ],
          [
           "stock"
          ],
          [
           "stock"
          ],
          [
           "stock"
          ],
          [
           "stock"
          ],
          [
           "stock"
          ],
          [
           "stock"
          ],
          [
           "stock"
          ],
          [
           "stock"
          ],
          [
           "stock"
          ],
          [
           "stock"
          ],
          [
           "stock"
          ],
          [
           "stock"
          ],
          [
           "stock"
          ],
          [
           "stock"
          ],
          [
           "stock"
          ],
          [
           "stock"
          ],
          [
           "stock"
          ],
          [
           "stock"
          ],
          [
           "stock"
          ],
          [
           "stock"
          ],
          [
           "stock"
          ],
          [
           "stock"
          ],
          [
           "stock"
          ],
          [
           "stock"
          ],
          [
           "stock"
          ],
          [
           "stock"
          ],
          [
           "stock"
          ],
          [
           "stock"
          ],
          [
           "stock"
          ],
          [
           "stock"
          ],
          [
           "stock"
          ],
          [
           "stock"
          ],
          [
           "stock"
          ],
          [
           "stock"
          ],
          [
           "stock"
          ],
          [
           "stock"
          ],
          [
           "stock"
          ],
          [
           "stock"
          ],
          [
           "stock"
          ],
          [
           "stock"
          ],
          [
           "stock"
          ],
          [
           "stock"
          ],
          [
           "stock"
          ],
          [
           "stock"
          ],
          [
           "stock"
          ],
          [
           "stock"
          ],
          [
           "stock"
          ],
          [
           "stock"
          ],
          [
           "stock"
          ],
          [
           "stock"
          ],
          [
           "stock"
          ],
          [
           "stock"
          ],
          [
           "stock"
          ],
          [
           "stock"
          ],
          [
           "stock"
          ],
          [
           "stock"
          ],
          [
           "stock"
          ],
          [
           "stock"
          ],
          [
           "stock"
          ],
          [
           "stock"
          ],
          [
           "stock"
          ],
          [
           "stock"
          ],
          [
           "stock"
          ],
          [
           "stock"
          ],
          [
           "stock"
          ],
          [
           "stock"
          ],
          [
           "stock"
          ],
          [
           "stock"
          ],
          [
           "stock"
          ],
          [
           "stock"
          ],
          [
           "stock"
          ],
          [
           "stock"
          ],
          [
           "stock"
          ],
          [
           "stock"
          ],
          [
           "stock"
          ],
          [
           "stock"
          ],
          [
           "stock"
          ],
          [
           "stock"
          ],
          [
           "stock"
          ],
          [
           "stock"
          ],
          [
           "stock"
          ],
          [
           "stock"
          ],
          [
           "stock"
          ]
         ],
         "fillpattern": {
          "shape": ""
         },
         "hovertemplate": "<b>%{hovertext}</b><br><br>Value=%{y:.1f}<extra></extra>",
         "hovertext": [
          "stock",
          "stock",
          "stock",
          "stock",
          "stock",
          "stock",
          "stock",
          "stock",
          "stock",
          "stock",
          "stock",
          "stock",
          "stock",
          "stock",
          "stock",
          "stock",
          "stock",
          "stock",
          "stock",
          "stock",
          "stock",
          "stock",
          "stock",
          "stock",
          "stock",
          "stock",
          "stock",
          "stock",
          "stock",
          "stock",
          "stock",
          "stock",
          "stock",
          "stock",
          "stock",
          "stock",
          "stock",
          "stock",
          "stock",
          "stock",
          "stock",
          "stock",
          "stock",
          "stock",
          "stock",
          "stock",
          "stock",
          "stock",
          "stock",
          "stock",
          "stock",
          "stock",
          "stock",
          "stock",
          "stock",
          "stock",
          "stock",
          "stock",
          "stock",
          "stock",
          "stock",
          "stock",
          "stock",
          "stock",
          "stock",
          "stock",
          "stock",
          "stock",
          "stock",
          "stock",
          "stock",
          "stock",
          "stock",
          "stock",
          "stock",
          "stock",
          "stock",
          "stock",
          "stock",
          "stock",
          "stock",
          "stock",
          "stock",
          "stock",
          "stock",
          "stock",
          "stock",
          "stock",
          "stock",
          "stock",
          "stock",
          "stock",
          "stock",
          "stock",
          "stock",
          "stock",
          "stock",
          "stock",
          "stock",
          "stock",
          "stock",
          "stock",
          "stock",
          "stock",
          "stock",
          "stock",
          "stock",
          "stock",
          "stock",
          "stock",
          "stock",
          "stock",
          "stock",
          "stock",
          "stock",
          "stock",
          "stock",
          "stock",
          "stock",
          "stock",
          "stock",
          "stock",
          "stock",
          "stock",
          "stock",
          "stock",
          "stock",
          "stock",
          "stock",
          "stock",
          "stock",
          "stock",
          "stock",
          "stock",
          "stock",
          "stock",
          "stock",
          "stock",
          "stock",
          "stock",
          "stock",
          "stock",
          "stock",
          "stock",
          "stock",
          "stock",
          "stock",
          "stock",
          "stock",
          "stock",
          "stock",
          "stock",
          "stock",
          "stock",
          "stock",
          "stock",
          "stock",
          "stock",
          "stock",
          "stock",
          "stock",
          "stock",
          "stock",
          "stock",
          "stock",
          "stock",
          "stock",
          "stock",
          "stock",
          "stock",
          "stock",
          "stock",
          "stock",
          "stock",
          "stock",
          "stock",
          "stock",
          "stock",
          "stock",
          "stock",
          "stock",
          "stock",
          "stock",
          "stock",
          "stock",
          "stock",
          "stock",
          "stock",
          "stock",
          "stock",
          "stock",
          "stock",
          "stock",
          "stock",
          "stock",
          "stock",
          "stock",
          "stock",
          "stock",
          "stock",
          "stock",
          "stock",
          "stock",
          "stock",
          "stock",
          "stock",
          "stock",
          "stock",
          "stock",
          "stock",
          "stock",
          "stock",
          "stock",
          "stock",
          "stock",
          "stock",
          "stock",
          "stock",
          "stock",
          "stock",
          "stock",
          "stock",
          "stock",
          "stock",
          "stock",
          "stock",
          "stock",
          "stock",
          "stock",
          "stock",
          "stock",
          "stock",
          "stock",
          "stock",
          "stock",
          "stock",
          "stock",
          "stock",
          "stock",
          "stock",
          "stock",
          "stock",
          "stock",
          "stock",
          "stock",
          "stock",
          "stock",
          "stock",
          "stock",
          "stock",
          "stock",
          "stock",
          "stock",
          "stock",
          "stock",
          "stock",
          "stock",
          "stock",
          "stock",
          "stock",
          "stock",
          "stock",
          "stock",
          "stock",
          "stock",
          "stock",
          "stock",
          "stock",
          "stock",
          "stock",
          "stock",
          "stock",
          "stock",
          "stock",
          "stock",
          "stock",
          "stock",
          "stock",
          "stock",
          "stock",
          "stock",
          "stock"
         ],
         "legendgroup": "stock",
         "line": {
          "color": "#00cc96"
         },
         "marker": {
          "symbol": "circle"
         },
         "mode": "lines",
         "name": "stock",
         "orientation": "v",
         "showlegend": true,
         "stackgroup": "1",
         "type": "scatter",
         "x": [
          "2022-02-22T00:00:00",
          "2022-02-23T00:00:00",
          "2022-02-24T00:00:00",
          "2022-02-25T00:00:00",
          "2022-02-28T00:00:00",
          "2022-03-01T00:00:00",
          "2022-03-02T00:00:00",
          "2022-03-03T00:00:00",
          "2022-03-04T00:00:00",
          "2022-03-07T00:00:00",
          "2022-03-08T00:00:00",
          "2022-03-09T00:00:00",
          "2022-03-10T00:00:00",
          "2022-03-11T00:00:00",
          "2022-03-14T00:00:00",
          "2022-03-15T00:00:00",
          "2022-03-16T00:00:00",
          "2022-03-17T00:00:00",
          "2022-03-18T00:00:00",
          "2022-03-21T00:00:00",
          "2022-03-22T00:00:00",
          "2022-03-23T00:00:00",
          "2022-03-24T00:00:00",
          "2022-03-25T00:00:00",
          "2022-03-28T00:00:00",
          "2022-03-29T00:00:00",
          "2022-03-30T00:00:00",
          "2022-03-31T00:00:00",
          "2022-04-01T00:00:00",
          "2022-04-04T00:00:00",
          "2022-04-05T00:00:00",
          "2022-04-06T00:00:00",
          "2022-04-07T00:00:00",
          "2022-04-08T00:00:00",
          "2022-04-11T00:00:00",
          "2022-04-12T00:00:00",
          "2022-04-13T00:00:00",
          "2022-04-14T00:00:00",
          "2022-04-18T00:00:00",
          "2022-04-19T00:00:00",
          "2022-04-20T00:00:00",
          "2022-04-21T00:00:00",
          "2022-04-22T00:00:00",
          "2022-04-25T00:00:00",
          "2022-04-26T00:00:00",
          "2022-04-27T00:00:00",
          "2022-04-28T00:00:00",
          "2022-04-29T00:00:00",
          "2022-05-02T00:00:00",
          "2022-05-03T00:00:00",
          "2022-05-04T00:00:00",
          "2022-05-05T00:00:00",
          "2022-05-06T00:00:00",
          "2022-05-09T00:00:00",
          "2022-05-10T00:00:00",
          "2022-05-11T00:00:00",
          "2022-05-12T00:00:00",
          "2022-05-13T00:00:00",
          "2022-05-16T00:00:00",
          "2022-05-17T00:00:00",
          "2022-05-18T00:00:00",
          "2022-05-19T00:00:00",
          "2022-05-20T00:00:00",
          "2022-05-23T00:00:00",
          "2022-05-24T00:00:00",
          "2022-05-25T00:00:00",
          "2022-05-26T00:00:00",
          "2022-05-27T00:00:00",
          "2022-05-31T00:00:00",
          "2022-06-01T00:00:00",
          "2022-06-02T00:00:00",
          "2022-06-03T00:00:00",
          "2022-06-06T00:00:00",
          "2022-06-07T00:00:00",
          "2022-06-08T00:00:00",
          "2022-06-09T00:00:00",
          "2022-06-10T00:00:00",
          "2022-06-13T00:00:00",
          "2022-06-14T00:00:00",
          "2022-06-15T00:00:00",
          "2022-06-16T00:00:00",
          "2022-06-17T00:00:00",
          "2022-06-21T00:00:00",
          "2022-06-22T00:00:00",
          "2022-06-23T00:00:00",
          "2022-06-24T00:00:00",
          "2022-06-27T00:00:00",
          "2022-06-28T00:00:00",
          "2022-06-29T00:00:00",
          "2022-06-30T00:00:00",
          "2022-07-01T00:00:00",
          "2022-07-05T00:00:00",
          "2022-07-06T00:00:00",
          "2022-07-07T00:00:00",
          "2022-07-08T00:00:00",
          "2022-07-11T00:00:00",
          "2022-07-12T00:00:00",
          "2022-07-13T00:00:00",
          "2022-07-14T00:00:00",
          "2022-07-15T00:00:00",
          "2022-07-18T00:00:00",
          "2022-07-19T00:00:00",
          "2022-07-20T00:00:00",
          "2022-07-21T00:00:00",
          "2022-07-22T00:00:00",
          "2022-07-25T00:00:00",
          "2022-07-26T00:00:00",
          "2022-07-27T00:00:00",
          "2022-07-28T00:00:00",
          "2022-07-29T00:00:00",
          "2022-08-01T00:00:00",
          "2022-08-02T00:00:00",
          "2022-08-03T00:00:00",
          "2022-08-04T00:00:00",
          "2022-08-05T00:00:00",
          "2022-08-08T00:00:00",
          "2022-08-09T00:00:00",
          "2022-08-10T00:00:00",
          "2022-08-11T00:00:00",
          "2022-08-12T00:00:00",
          "2022-08-15T00:00:00",
          "2022-08-16T00:00:00",
          "2022-08-17T00:00:00",
          "2022-08-18T00:00:00",
          "2022-08-19T00:00:00",
          "2022-08-22T00:00:00",
          "2022-08-23T00:00:00",
          "2022-08-24T00:00:00",
          "2022-08-25T00:00:00",
          "2022-08-26T00:00:00",
          "2022-08-29T00:00:00",
          "2022-08-30T00:00:00",
          "2022-08-31T00:00:00",
          "2022-09-01T00:00:00",
          "2022-09-02T00:00:00",
          "2022-09-06T00:00:00",
          "2022-09-07T00:00:00",
          "2022-09-08T00:00:00",
          "2022-09-09T00:00:00",
          "2022-09-12T00:00:00",
          "2022-09-13T00:00:00",
          "2022-09-14T00:00:00",
          "2022-09-15T00:00:00",
          "2022-09-16T00:00:00",
          "2022-09-19T00:00:00",
          "2022-09-20T00:00:00",
          "2022-09-21T00:00:00",
          "2022-09-22T00:00:00",
          "2022-09-23T00:00:00",
          "2022-09-26T00:00:00",
          "2022-09-27T00:00:00",
          "2022-09-28T00:00:00",
          "2022-09-29T00:00:00",
          "2022-09-30T00:00:00",
          "2022-10-03T00:00:00",
          "2022-10-04T00:00:00",
          "2022-10-05T00:00:00",
          "2022-10-06T00:00:00",
          "2022-10-07T00:00:00",
          "2022-10-10T00:00:00",
          "2022-10-11T00:00:00",
          "2022-10-12T00:00:00",
          "2022-10-13T00:00:00",
          "2022-10-14T00:00:00",
          "2022-10-17T00:00:00",
          "2022-10-18T00:00:00",
          "2022-10-19T00:00:00",
          "2022-10-20T00:00:00",
          "2022-10-21T00:00:00",
          "2022-10-24T00:00:00",
          "2022-10-25T00:00:00",
          "2022-10-26T00:00:00",
          "2022-10-27T00:00:00",
          "2022-10-28T00:00:00",
          "2022-10-31T00:00:00",
          "2022-11-01T00:00:00",
          "2022-11-02T00:00:00",
          "2022-11-03T00:00:00",
          "2022-11-04T00:00:00",
          "2022-11-07T00:00:00",
          "2022-11-08T00:00:00",
          "2022-11-09T00:00:00",
          "2022-11-10T00:00:00",
          "2022-11-11T00:00:00",
          "2022-11-14T00:00:00",
          "2022-11-15T00:00:00",
          "2022-11-16T00:00:00",
          "2022-11-17T00:00:00",
          "2022-11-18T00:00:00",
          "2022-11-21T00:00:00",
          "2022-11-22T00:00:00",
          "2022-11-23T00:00:00",
          "2022-11-25T00:00:00",
          "2022-11-28T00:00:00",
          "2022-11-29T00:00:00",
          "2022-11-30T00:00:00",
          "2022-12-01T00:00:00",
          "2022-12-02T00:00:00",
          "2022-12-05T00:00:00",
          "2022-12-06T00:00:00",
          "2022-12-07T00:00:00",
          "2022-12-08T00:00:00",
          "2022-12-09T00:00:00",
          "2022-12-12T00:00:00",
          "2022-12-13T00:00:00",
          "2022-12-14T00:00:00",
          "2022-12-15T00:00:00",
          "2022-12-16T00:00:00",
          "2022-12-19T00:00:00",
          "2022-12-20T00:00:00",
          "2022-12-21T00:00:00",
          "2022-12-22T00:00:00",
          "2022-12-23T00:00:00",
          "2022-12-27T00:00:00",
          "2022-12-28T00:00:00",
          "2022-12-29T00:00:00",
          "2022-12-30T00:00:00",
          "2023-01-03T00:00:00",
          "2023-01-04T00:00:00",
          "2023-01-05T00:00:00",
          "2023-01-06T00:00:00",
          "2023-01-09T00:00:00",
          "2023-01-10T00:00:00",
          "2023-01-11T00:00:00",
          "2023-01-12T00:00:00",
          "2023-01-13T00:00:00",
          "2023-01-17T00:00:00",
          "2023-01-18T00:00:00",
          "2023-01-19T00:00:00",
          "2023-01-20T00:00:00",
          "2023-01-23T00:00:00",
          "2023-01-24T00:00:00",
          "2023-01-25T00:00:00",
          "2023-01-26T00:00:00",
          "2023-01-27T00:00:00",
          "2023-01-30T00:00:00",
          "2023-01-31T00:00:00",
          "2023-02-01T00:00:00",
          "2023-02-02T00:00:00",
          "2023-02-03T00:00:00",
          "2023-02-06T00:00:00",
          "2023-02-07T00:00:00",
          "2023-02-08T00:00:00",
          "2023-02-09T00:00:00",
          "2023-02-10T00:00:00",
          "2023-02-13T00:00:00",
          "2023-02-14T00:00:00",
          "2023-02-15T00:00:00",
          "2023-02-16T00:00:00",
          "2023-02-17T00:00:00",
          "2023-02-21T00:00:00",
          "2023-02-22T00:00:00",
          "2023-02-23T00:00:00",
          "2023-02-24T00:00:00",
          "2023-02-27T00:00:00",
          "2023-02-28T00:00:00",
          "2023-03-01T00:00:00",
          "2023-03-02T00:00:00",
          "2023-03-03T00:00:00",
          "2023-03-06T00:00:00",
          "2023-03-07T00:00:00",
          "2023-03-08T00:00:00",
          "2023-03-09T00:00:00",
          "2023-03-10T00:00:00",
          "2023-03-13T00:00:00",
          "2023-03-14T00:00:00",
          "2023-03-15T00:00:00",
          "2023-03-16T00:00:00",
          "2023-03-17T00:00:00",
          "2023-03-20T00:00:00",
          "2023-03-21T00:00:00",
          "2023-03-22T00:00:00",
          "2023-03-23T00:00:00",
          "2023-03-24T00:00:00",
          "2023-03-27T00:00:00",
          "2023-03-28T00:00:00",
          "2023-03-29T00:00:00",
          "2023-03-30T00:00:00",
          "2023-03-31T00:00:00",
          "2023-04-03T00:00:00",
          "2023-04-04T00:00:00",
          "2023-04-05T00:00:00"
         ],
         "xaxis": "x",
         "y": [
          0,
          0,
          0,
          0,
          802.719970703125,
          790.6799926757812,
          805.2000122070312,
          801.1599731445312,
          794.6799926757812,
          771.219970703125,
          765.4000244140625,
          785.7999877929688,
          782.2999877929688,
          772.3200073242188,
          766.6799926757812,
          783.5,
          801.02001953125,
          810.8200073242188,
          819.780029296875,
          1093.7900085449219,
          1111.2400207519531,
          1092.0899658203125,
          1104.719970703125,
          1107.1300048828125,
          1544.8999633789062,
          1562.9900207519531,
          1555.7599792480469,
          1535.9200439453125,
          1544.5900268554688,
          1729.8000183105469,
          1713.8600158691406,
          1700.979995727539,
          1709.6399993896484,
          1707.2300109863281,
          1684.6899719238281,
          1688.2400512695312,
          1703.0799865722656,
          1686.1599578857422,
          1683.1900024414062,
          1713.9599609375,
          1722.2699737548828,
          1701.249984741211,
          1657.4300079345703,
          1668.6599731445312,
          1616.9100341796875,
          1627.7500305175781,
          1678.2100067138672,
          1630.6500244140625,
          1615.8099822998047,
          1610.6000366210938,
          1662.6200103759766,
          1607.2599792480469,
          1605.8800201416016,
          1563.8399810791016,
          1564.1699676513672,
          1547.1100006103516,
          1539.9199829101562,
          1577.6400146484375,
          1943.0800018310547,
          1968.2400512695312,
          1866.3500061035156,
          1856.7599792480469,
          1862.8199615478516,
          2311.1399993896484,
          2312.759963989258,
          2313.9500122070312,
          2518.229934692383,
          2585.449966430664,
          2576.0899963378906,
          2550.5900115966797,
          2599.3999633789062,
          2565.8399810791016,
          2580.730010986328,
          2602.8800659179688,
          2578.469970703125,
          2527.010009765625,
          2579.379997253418,
          2487.2199630737305,
          2476.849983215332,
          2503.439971923828,
          2421.489990234375,
          2447.7300338745117,
          2531.0500564575195,
          2526.709991455078,
          2561.340019226074,
          2634.0400390625,
          2619.1700134277344,
          2561.7899780273438,
          2554.190040588379,
          2520.730026245117,
          2549.6699829101562,
          2551.969970703125,
          2566.35994720459,
          2595.7899780273438,
          2587.2799911499023,
          2560.6799926757812,
          2547.8300018310547,
          2544.28995513916,
          2538.569984436035,
          2563.6700286865234,
          2548.7599563598633,
          2608.4699478149414,
          2628.620048522949,
          2652.9200134277344,
          2628.909996032715,
          2627.6899642944336,
          2603.789993286133,
          2666.82999420166,
          2717.1900482177734,
          2759.9200592041016,
          2768.279983520508,
          2755.2199935913086,
          2778.3999938964844,
          2778.449981689453,
          2776.6700286865234,
          2757.3100204467773,
          2744.5300216674805,
          2785.780029296875,
          2775.28995513916,
          2816.4500274658203,
          2845.220054626465,
          2846.1300048828125,
          2831.62996673584,
          2847.189926147461,
          2816.3199615478516,
          2761.519989013672,
          2764.4500045776367,
          2772.0000228881836,
          2814.2900466918945,
          2711.4900283813477,
          2689.4299545288086,
          2660.5700073242188,
          2635.5399856567383,
          2633.8899536132812,
          2598.39005279541,
          2582.7699584960938,
          2630.739990234375,
          2631.210006713867,
          2665.8399810791016,
          2690.8399200439453,
          2583.179977416992,
          2585.3700256347656,
          2557.6199493408203,
          2545.7099533081055,
          2573.9799728393555,
          2556.939956665039,
          2537.2400131225586,
          2520.9500122070312,
          2487.2200241088867,
          2475.949996948242,
          2461.0300064086914,
          2500.340042114258,
          2443.510025024414,
          2405.6299591064453,
          2461.950019836426,
          2517.2399673461914,
          2512.8599395751953,
          2485.1599502563477,
          2421.1299781799316,
          2418.549991607666,
          2414.3400382995605,
          2407.3300399780273,
          2454.6500129699707,
          2392.6900062561035,
          2446.1100006103516,
          2468.729995727539,
          2449.7599296569824,
          2430.4999809265137,
          2477.129997253418,
          2503.0400047302246,
          2549.269973754883,
          2528.529941558838,
          2524.9999923706055,
          2594.5100440979004,
          2568.7900581359863,
          2564.099925994873,
          2499.750011444092,
          2477.8299560546875,
          2506.240016937256,
          2515.6400451660156,
          2534.660057067871,
          2491.8499755859375,
          2585.000015258789,
          2587.5600357055664,
          2567.5699768066406,
          2587.9499893188477,
          2586.4199829101562,
          2583.200035095215,
          2605.2199935913086,
          2609.2099838256836,
          2639.480026245117,
          2653.569999694824,
          2650.399932861328,
          2615.350067138672,
          2597.780014038086,
          2694.829948425293,
          2680.240058898926,
          2691.4799728393555,
          2652.840003967285,
          2626.4299850463867,
          2635.5599670410156,
          2685.2099609375,
          2652.8099822998047,
          2692.1499633789062,
          2699.490058898926,
          2683.620002746582,
          2624.1000213623047,
          2608.1499633789062,
          2587.72998046875,
          2579.4500274658203,
          2616.629951477051,
          2581.1499786376953,
          2588.590003967285,
          2577.129985809326,
          2545.1500244140625,
          2580.319984436035,
          2569.2500076293945,
          2543.8399353027344,
          2551.030059814453,
          2529.4700241088867,
          2578.349952697754,
          2585.849952697754,
          2596.0499877929688,
          2622.8800048828125,
          2622.760009765625,
          2647.1000366210938,
          2653.2400665283203,
          2589.030059814453,
          2566.0400314331055,
          2945.599983215332,
          3250.780014038086,
          3271.979949951172,
          3278.7900314331055,
          3294.3599853515625,
          3541.2899475097656,
          3510.7099609375,
          3066.9100036621094,
          3116.22998046875,
          3075.730010986328,
          3061.1500244140625,
          3056.340003967285,
          3083.8599700927734,
          3055.959991455078,
          3036.509910583496,
          3039.9399948120117,
          3079.160041809082,
          3089.7799682617188,
          3083.440040588379,
          3031.9400177001953,
          3041.290023803711,
          2998.430000305176,
          2992.249954223633,
          3036.6100463867188,
          2998.3700561523438,
          3254.1899642944336,
          3243.289993286133,
          3224.9799728393555,
          3257.0699462890625,
          3294.60994720459,
          3041.7500610351562,
          2763.3900756835938,
          2784.099937438965,
          2746.4599609375,
          2712.019989013672,
          3079.300003051758,
          2976.259963989258,
          2975.869972229004,
          3023.2299575805664,
          2796.8899841308594,
          2817.5799865722656,
          2832.10001373291,
          2813.6900177001953,
          2833.6800231933594,
          2849.800003051758,
          2858.1499786376953,
          2858.899932861328,
          2887.800033569336,
          2906.620002746582,
          2932.9900283813477,
          2950.489990234375,
          2666.050064086914,
          0
         ],
         "yaxis": "y"
        }
       ],
       "layout": {
        "hovermode": "x",
        "legend": {
         "title": {
          "text": "Balance"
         },
         "tracegroupgap": 0
        },
        "template": {
         "data": {
          "bar": [
           {
            "error_x": {
             "color": "#2a3f5f"
            },
            "error_y": {
             "color": "#2a3f5f"
            },
            "marker": {
             "line": {
              "color": "#E5ECF6",
              "width": 0.5
             },
             "pattern": {
              "fillmode": "overlay",
              "size": 10,
              "solidity": 0.2
             }
            },
            "type": "bar"
           }
          ],
          "barpolar": [
           {
            "marker": {
             "line": {
              "color": "#E5ECF6",
              "width": 0.5
             },
             "pattern": {
              "fillmode": "overlay",
              "size": 10,
              "solidity": 0.2
             }
            },
            "type": "barpolar"
           }
          ],
          "carpet": [
           {
            "aaxis": {
             "endlinecolor": "#2a3f5f",
             "gridcolor": "white",
             "linecolor": "white",
             "minorgridcolor": "white",
             "startlinecolor": "#2a3f5f"
            },
            "baxis": {
             "endlinecolor": "#2a3f5f",
             "gridcolor": "white",
             "linecolor": "white",
             "minorgridcolor": "white",
             "startlinecolor": "#2a3f5f"
            },
            "type": "carpet"
           }
          ],
          "choropleth": [
           {
            "colorbar": {
             "outlinewidth": 0,
             "ticks": ""
            },
            "type": "choropleth"
           }
          ],
          "contour": [
           {
            "colorbar": {
             "outlinewidth": 0,
             "ticks": ""
            },
            "colorscale": [
             [
              0,
              "#0d0887"
             ],
             [
              0.1111111111111111,
              "#46039f"
             ],
             [
              0.2222222222222222,
              "#7201a8"
             ],
             [
              0.3333333333333333,
              "#9c179e"
             ],
             [
              0.4444444444444444,
              "#bd3786"
             ],
             [
              0.5555555555555556,
              "#d8576b"
             ],
             [
              0.6666666666666666,
              "#ed7953"
             ],
             [
              0.7777777777777778,
              "#fb9f3a"
             ],
             [
              0.8888888888888888,
              "#fdca26"
             ],
             [
              1,
              "#f0f921"
             ]
            ],
            "type": "contour"
           }
          ],
          "contourcarpet": [
           {
            "colorbar": {
             "outlinewidth": 0,
             "ticks": ""
            },
            "type": "contourcarpet"
           }
          ],
          "heatmap": [
           {
            "colorbar": {
             "outlinewidth": 0,
             "ticks": ""
            },
            "colorscale": [
             [
              0,
              "#0d0887"
             ],
             [
              0.1111111111111111,
              "#46039f"
             ],
             [
              0.2222222222222222,
              "#7201a8"
             ],
             [
              0.3333333333333333,
              "#9c179e"
             ],
             [
              0.4444444444444444,
              "#bd3786"
             ],
             [
              0.5555555555555556,
              "#d8576b"
             ],
             [
              0.6666666666666666,
              "#ed7953"
             ],
             [
              0.7777777777777778,
              "#fb9f3a"
             ],
             [
              0.8888888888888888,
              "#fdca26"
             ],
             [
              1,
              "#f0f921"
             ]
            ],
            "type": "heatmap"
           }
          ],
          "heatmapgl": [
           {
            "colorbar": {
             "outlinewidth": 0,
             "ticks": ""
            },
            "colorscale": [
             [
              0,
              "#0d0887"
             ],
             [
              0.1111111111111111,
              "#46039f"
             ],
             [
              0.2222222222222222,
              "#7201a8"
             ],
             [
              0.3333333333333333,
              "#9c179e"
             ],
             [
              0.4444444444444444,
              "#bd3786"
             ],
             [
              0.5555555555555556,
              "#d8576b"
             ],
             [
              0.6666666666666666,
              "#ed7953"
             ],
             [
              0.7777777777777778,
              "#fb9f3a"
             ],
             [
              0.8888888888888888,
              "#fdca26"
             ],
             [
              1,
              "#f0f921"
             ]
            ],
            "type": "heatmapgl"
           }
          ],
          "histogram": [
           {
            "marker": {
             "pattern": {
              "fillmode": "overlay",
              "size": 10,
              "solidity": 0.2
             }
            },
            "type": "histogram"
           }
          ],
          "histogram2d": [
           {
            "colorbar": {
             "outlinewidth": 0,
             "ticks": ""
            },
            "colorscale": [
             [
              0,
              "#0d0887"
             ],
             [
              0.1111111111111111,
              "#46039f"
             ],
             [
              0.2222222222222222,
              "#7201a8"
             ],
             [
              0.3333333333333333,
              "#9c179e"
             ],
             [
              0.4444444444444444,
              "#bd3786"
             ],
             [
              0.5555555555555556,
              "#d8576b"
             ],
             [
              0.6666666666666666,
              "#ed7953"
             ],
             [
              0.7777777777777778,
              "#fb9f3a"
             ],
             [
              0.8888888888888888,
              "#fdca26"
             ],
             [
              1,
              "#f0f921"
             ]
            ],
            "type": "histogram2d"
           }
          ],
          "histogram2dcontour": [
           {
            "colorbar": {
             "outlinewidth": 0,
             "ticks": ""
            },
            "colorscale": [
             [
              0,
              "#0d0887"
             ],
             [
              0.1111111111111111,
              "#46039f"
             ],
             [
              0.2222222222222222,
              "#7201a8"
             ],
             [
              0.3333333333333333,
              "#9c179e"
             ],
             [
              0.4444444444444444,
              "#bd3786"
             ],
             [
              0.5555555555555556,
              "#d8576b"
             ],
             [
              0.6666666666666666,
              "#ed7953"
             ],
             [
              0.7777777777777778,
              "#fb9f3a"
             ],
             [
              0.8888888888888888,
              "#fdca26"
             ],
             [
              1,
              "#f0f921"
             ]
            ],
            "type": "histogram2dcontour"
           }
          ],
          "mesh3d": [
           {
            "colorbar": {
             "outlinewidth": 0,
             "ticks": ""
            },
            "type": "mesh3d"
           }
          ],
          "parcoords": [
           {
            "line": {
             "colorbar": {
              "outlinewidth": 0,
              "ticks": ""
             }
            },
            "type": "parcoords"
           }
          ],
          "pie": [
           {
            "automargin": true,
            "type": "pie"
           }
          ],
          "scatter": [
           {
            "fillpattern": {
             "fillmode": "overlay",
             "size": 10,
             "solidity": 0.2
            },
            "type": "scatter"
           }
          ],
          "scatter3d": [
           {
            "line": {
             "colorbar": {
              "outlinewidth": 0,
              "ticks": ""
             }
            },
            "marker": {
             "colorbar": {
              "outlinewidth": 0,
              "ticks": ""
             }
            },
            "type": "scatter3d"
           }
          ],
          "scattercarpet": [
           {
            "marker": {
             "colorbar": {
              "outlinewidth": 0,
              "ticks": ""
             }
            },
            "type": "scattercarpet"
           }
          ],
          "scattergeo": [
           {
            "marker": {
             "colorbar": {
              "outlinewidth": 0,
              "ticks": ""
             }
            },
            "type": "scattergeo"
           }
          ],
          "scattergl": [
           {
            "marker": {
             "colorbar": {
              "outlinewidth": 0,
              "ticks": ""
             }
            },
            "type": "scattergl"
           }
          ],
          "scattermapbox": [
           {
            "marker": {
             "colorbar": {
              "outlinewidth": 0,
              "ticks": ""
             }
            },
            "type": "scattermapbox"
           }
          ],
          "scatterpolar": [
           {
            "marker": {
             "colorbar": {
              "outlinewidth": 0,
              "ticks": ""
             }
            },
            "type": "scatterpolar"
           }
          ],
          "scatterpolargl": [
           {
            "marker": {
             "colorbar": {
              "outlinewidth": 0,
              "ticks": ""
             }
            },
            "type": "scatterpolargl"
           }
          ],
          "scatterternary": [
           {
            "marker": {
             "colorbar": {
              "outlinewidth": 0,
              "ticks": ""
             }
            },
            "type": "scatterternary"
           }
          ],
          "surface": [
           {
            "colorbar": {
             "outlinewidth": 0,
             "ticks": ""
            },
            "colorscale": [
             [
              0,
              "#0d0887"
             ],
             [
              0.1111111111111111,
              "#46039f"
             ],
             [
              0.2222222222222222,
              "#7201a8"
             ],
             [
              0.3333333333333333,
              "#9c179e"
             ],
             [
              0.4444444444444444,
              "#bd3786"
             ],
             [
              0.5555555555555556,
              "#d8576b"
             ],
             [
              0.6666666666666666,
              "#ed7953"
             ],
             [
              0.7777777777777778,
              "#fb9f3a"
             ],
             [
              0.8888888888888888,
              "#fdca26"
             ],
             [
              1,
              "#f0f921"
             ]
            ],
            "type": "surface"
           }
          ],
          "table": [
           {
            "cells": {
             "fill": {
              "color": "#EBF0F8"
             },
             "line": {
              "color": "white"
             }
            },
            "header": {
             "fill": {
              "color": "#C8D4E3"
             },
             "line": {
              "color": "white"
             }
            },
            "type": "table"
           }
          ]
         },
         "layout": {
          "annotationdefaults": {
           "arrowcolor": "#2a3f5f",
           "arrowhead": 0,
           "arrowwidth": 1
          },
          "autotypenumbers": "strict",
          "coloraxis": {
           "colorbar": {
            "outlinewidth": 0,
            "ticks": ""
           }
          },
          "colorscale": {
           "diverging": [
            [
             0,
             "#8e0152"
            ],
            [
             0.1,
             "#c51b7d"
            ],
            [
             0.2,
             "#de77ae"
            ],
            [
             0.3,
             "#f1b6da"
            ],
            [
             0.4,
             "#fde0ef"
            ],
            [
             0.5,
             "#f7f7f7"
            ],
            [
             0.6,
             "#e6f5d0"
            ],
            [
             0.7,
             "#b8e186"
            ],
            [
             0.8,
             "#7fbc41"
            ],
            [
             0.9,
             "#4d9221"
            ],
            [
             1,
             "#276419"
            ]
           ],
           "sequential": [
            [
             0,
             "#0d0887"
            ],
            [
             0.1111111111111111,
             "#46039f"
            ],
            [
             0.2222222222222222,
             "#7201a8"
            ],
            [
             0.3333333333333333,
             "#9c179e"
            ],
            [
             0.4444444444444444,
             "#bd3786"
            ],
            [
             0.5555555555555556,
             "#d8576b"
            ],
            [
             0.6666666666666666,
             "#ed7953"
            ],
            [
             0.7777777777777778,
             "#fb9f3a"
            ],
            [
             0.8888888888888888,
             "#fdca26"
            ],
            [
             1,
             "#f0f921"
            ]
           ],
           "sequentialminus": [
            [
             0,
             "#0d0887"
            ],
            [
             0.1111111111111111,
             "#46039f"
            ],
            [
             0.2222222222222222,
             "#7201a8"
            ],
            [
             0.3333333333333333,
             "#9c179e"
            ],
            [
             0.4444444444444444,
             "#bd3786"
            ],
            [
             0.5555555555555556,
             "#d8576b"
            ],
            [
             0.6666666666666666,
             "#ed7953"
            ],
            [
             0.7777777777777778,
             "#fb9f3a"
            ],
            [
             0.8888888888888888,
             "#fdca26"
            ],
            [
             1,
             "#f0f921"
            ]
           ]
          },
          "colorway": [
           "#636efa",
           "#EF553B",
           "#00cc96",
           "#ab63fa",
           "#FFA15A",
           "#19d3f3",
           "#FF6692",
           "#B6E880",
           "#FF97FF",
           "#FECB52"
          ],
          "font": {
           "color": "#2a3f5f"
          },
          "geo": {
           "bgcolor": "white",
           "lakecolor": "white",
           "landcolor": "#E5ECF6",
           "showlakes": true,
           "showland": true,
           "subunitcolor": "white"
          },
          "hoverlabel": {
           "align": "left"
          },
          "hovermode": "closest",
          "mapbox": {
           "style": "light"
          },
          "paper_bgcolor": "white",
          "plot_bgcolor": "#E5ECF6",
          "polar": {
           "angularaxis": {
            "gridcolor": "white",
            "linecolor": "white",
            "ticks": ""
           },
           "bgcolor": "#E5ECF6",
           "radialaxis": {
            "gridcolor": "white",
            "linecolor": "white",
            "ticks": ""
           }
          },
          "scene": {
           "xaxis": {
            "backgroundcolor": "#E5ECF6",
            "gridcolor": "white",
            "gridwidth": 2,
            "linecolor": "white",
            "showbackground": true,
            "ticks": "",
            "zerolinecolor": "white"
           },
           "yaxis": {
            "backgroundcolor": "#E5ECF6",
            "gridcolor": "white",
            "gridwidth": 2,
            "linecolor": "white",
            "showbackground": true,
            "ticks": "",
            "zerolinecolor": "white"
           },
           "zaxis": {
            "backgroundcolor": "#E5ECF6",
            "gridcolor": "white",
            "gridwidth": 2,
            "linecolor": "white",
            "showbackground": true,
            "ticks": "",
            "zerolinecolor": "white"
           }
          },
          "shapedefaults": {
           "line": {
            "color": "#2a3f5f"
           }
          },
          "ternary": {
           "aaxis": {
            "gridcolor": "white",
            "linecolor": "white",
            "ticks": ""
           },
           "baxis": {
            "gridcolor": "white",
            "linecolor": "white",
            "ticks": ""
           },
           "bgcolor": "#E5ECF6",
           "caxis": {
            "gridcolor": "white",
            "linecolor": "white",
            "ticks": ""
           }
          },
          "title": {
           "x": 0.05
          },
          "xaxis": {
           "automargin": true,
           "gridcolor": "white",
           "linecolor": "white",
           "ticks": "",
           "title": {
            "standoff": 15
           },
           "zerolinecolor": "white",
           "zerolinewidth": 2
          },
          "yaxis": {
           "automargin": true,
           "gridcolor": "white",
           "linecolor": "white",
           "ticks": "",
           "title": {
            "standoff": 15
           },
           "zerolinecolor": "white",
           "zerolinewidth": 2
          }
         }
        },
        "title": {
         "text": "Total Value Chart"
        },
        "xaxis": {
         "anchor": "y",
         "domain": [
          0,
          1
         ],
         "title": {
          "text": "Date"
         }
        },
        "yaxis": {
         "anchor": "x",
         "domain": [
          0,
          1
         ],
         "title": {
          "text": "Value"
         }
        }
       }
      }
     },
     "metadata": {},
     "output_type": "display_data"
    }
   ],
   "source": [
    "from chart import Chart\n",
    "new_chart = Chart(profolio)\n",
    "new_chart.ROE_DayHeld()\n",
    "new_chart.WinRate_GainLose()\n",
    "#new_chart.Monthly_Return()\n",
    "new_chart.ROI_Compare()\n",
    "#new_chart.Storage_Share()\n",
    "new_chart.Total_Value()"
   ]
  },
  {
   "cell_type": "code",
   "execution_count": 3,
   "metadata": {},
   "outputs": [
    {
     "ename": "AttributeError",
     "evalue": "'Portfolio' object has no attribute 'stock_value'",
     "output_type": "error",
     "traceback": [
      "\u001b[1;31m---------------------------------------------------------------------------\u001b[0m",
      "\u001b[1;31mAttributeError\u001b[0m                            Traceback (most recent call last)",
      "Cell \u001b[1;32mIn[3], line 1\u001b[0m\n\u001b[1;32m----> 1\u001b[0m profolio\u001b[39m.\u001b[39;49mstock_value\n",
      "\u001b[1;31mAttributeError\u001b[0m: 'Portfolio' object has no attribute 'stock_value'"
     ]
    }
   ],
   "source": [
    "profolio.stock_value"
   ]
  },
  {
   "cell_type": "code",
   "execution_count": null,
   "metadata": {},
   "outputs": [
    {
     "name": "stderr",
     "output_type": "stream",
     "text": [
      "c:\\Users\\USER\\OneDrive - 國立陽明交通大學\\文件\\stock\\profolio.py:185: FutureWarning:\n",
      "\n",
      "The default value of numeric_only in DataFrameGroupBy.sum is deprecated. In a future version, numeric_only will default to False. Either specify numeric_only or select only columns which should be valid for the function.\n",
      "\n",
      "c:\\Users\\USER\\OneDrive - 國立陽明交通大學\\文件\\stock\\profolio.py:159: FutureWarning:\n",
      "\n",
      "The default value of numeric_only in DataFrameGroupBy.sum is deprecated. In a future version, numeric_only will default to False. Either specify numeric_only or select only columns which should be valid for the function.\n",
      "\n",
      "c:\\Users\\USER\\OneDrive - 國立陽明交通大學\\文件\\stock\\profolio.py:196: FutureWarning:\n",
      "\n",
      "The default value of numeric_only in DataFrameGroupBy.sum is deprecated. In a future version, numeric_only will default to False. Either specify numeric_only or select only columns which should be valid for the function.\n",
      "\n"
     ]
    },
    {
     "data": {
      "text/plain": [
       "TradeDate\n",
       "2022-01-25    3500.000\n",
       "2022-01-26    2731.910\n",
       "2022-01-27    2344.300\n",
       "2022-01-28    2029.810\n",
       "2022-01-31     910.510\n",
       "                ...   \n",
       "2023-03-09    1068.520\n",
       "2023-03-10     336.770\n",
       "2023-03-13    -455.930\n",
       "2023-03-14    -950.490\n",
       "2023-03-15    -949.762\n",
       "Name: Amount, Length: 154, dtype: float64"
      ]
     },
     "execution_count": 8,
     "metadata": {},
     "output_type": "execute_result"
    }
   ],
   "source": [
    "profolio.cash_balance"
   ]
  },
  {
   "cell_type": "code",
   "execution_count": null,
   "metadata": {},
   "outputs": [
    {
     "name": "stderr",
     "output_type": "stream",
     "text": [
      "c:\\Users\\USER\\OneDrive - 國立陽明交通大學\\文件\\stock\\profolio.py:169: FutureWarning:\n",
      "\n",
      "The default value of numeric_only in DataFrameGroupBy.sum is deprecated. In a future version, numeric_only will default to False. Either specify numeric_only or select only columns which should be valid for the function.\n",
      "\n",
      "c:\\Users\\USER\\OneDrive - 國立陽明交通大學\\文件\\stock\\profolio.py:185: FutureWarning:\n",
      "\n",
      "The default value of numeric_only in DataFrameGroupBy.sum is deprecated. In a future version, numeric_only will default to False. Either specify numeric_only or select only columns which should be valid for the function.\n",
      "\n",
      "c:\\Users\\USER\\OneDrive - 國立陽明交通大學\\文件\\stock\\profolio.py:159: FutureWarning:\n",
      "\n",
      "The default value of numeric_only in DataFrameGroupBy.sum is deprecated. In a future version, numeric_only will default to False. Either specify numeric_only or select only columns which should be valid for the function.\n",
      "\n",
      "c:\\Users\\USER\\OneDrive - 國立陽明交通大學\\文件\\stock\\profolio.py:196: FutureWarning:\n",
      "\n",
      "The default value of numeric_only in DataFrameGroupBy.sum is deprecated. In a future version, numeric_only will default to False. Either specify numeric_only or select only columns which should be valid for the function.\n",
      "\n"
     ]
    },
    {
     "data": {
      "text/html": [
       "<div>\n",
       "<style scoped>\n",
       "    .dataframe tbody tr th:only-of-type {\n",
       "        vertical-align: middle;\n",
       "    }\n",
       "\n",
       "    .dataframe tbody tr th {\n",
       "        vertical-align: top;\n",
       "    }\n",
       "\n",
       "    .dataframe thead th {\n",
       "        text-align: right;\n",
       "    }\n",
       "</style>\n",
       "<table border=\"1\" class=\"dataframe\">\n",
       "  <thead>\n",
       "    <tr style=\"text-align: right;\">\n",
       "      <th></th>\n",
       "      <th>Principal</th>\n",
       "      <th>Cash</th>\n",
       "      <th>Stock</th>\n",
       "      <th>Total_Value</th>\n",
       "      <th>ROR</th>\n",
       "    </tr>\n",
       "  </thead>\n",
       "  <tbody>\n",
       "    <tr>\n",
       "      <th>2022-01-25</th>\n",
       "      <td>3500.00</td>\n",
       "      <td>3500.000</td>\n",
       "      <td>0.000000</td>\n",
       "      <td>3500.000000</td>\n",
       "      <td>1.000000</td>\n",
       "    </tr>\n",
       "    <tr>\n",
       "      <th>2022-01-26</th>\n",
       "      <td>3500.00</td>\n",
       "      <td>2731.910</td>\n",
       "      <td>746.377670</td>\n",
       "      <td>3478.287670</td>\n",
       "      <td>0.993796</td>\n",
       "    </tr>\n",
       "    <tr>\n",
       "      <th>2022-01-27</th>\n",
       "      <td>3500.00</td>\n",
       "      <td>2344.300</td>\n",
       "      <td>1135.714279</td>\n",
       "      <td>3480.014279</td>\n",
       "      <td>0.994290</td>\n",
       "    </tr>\n",
       "    <tr>\n",
       "      <th>2022-01-28</th>\n",
       "      <td>3500.00</td>\n",
       "      <td>2029.810</td>\n",
       "      <td>1475.514275</td>\n",
       "      <td>3505.324275</td>\n",
       "      <td>1.001521</td>\n",
       "    </tr>\n",
       "    <tr>\n",
       "      <th>2022-01-31</th>\n",
       "      <td>3500.00</td>\n",
       "      <td>910.510</td>\n",
       "      <td>2120.809631</td>\n",
       "      <td>3031.319631</td>\n",
       "      <td>0.866091</td>\n",
       "    </tr>\n",
       "    <tr>\n",
       "      <th>...</th>\n",
       "      <td>...</td>\n",
       "      <td>...</td>\n",
       "      <td>...</td>\n",
       "      <td>...</td>\n",
       "      <td>...</td>\n",
       "    </tr>\n",
       "    <tr>\n",
       "      <th>2023-03-13</th>\n",
       "      <td>9960.73</td>\n",
       "      <td>-455.930</td>\n",
       "      <td>9672.990187</td>\n",
       "      <td>9217.060187</td>\n",
       "      <td>0.925340</td>\n",
       "    </tr>\n",
       "    <tr>\n",
       "      <th>2023-03-14</th>\n",
       "      <td>9960.73</td>\n",
       "      <td>-950.490</td>\n",
       "      <td>10317.250092</td>\n",
       "      <td>9366.760092</td>\n",
       "      <td>0.940369</td>\n",
       "    </tr>\n",
       "    <tr>\n",
       "      <th>2023-03-15</th>\n",
       "      <td>9960.73</td>\n",
       "      <td>-949.762</td>\n",
       "      <td>10309.060053</td>\n",
       "      <td>9359.298053</td>\n",
       "      <td>0.939620</td>\n",
       "    </tr>\n",
       "    <tr>\n",
       "      <th>2023-03-16</th>\n",
       "      <td>9960.73</td>\n",
       "      <td>-949.762</td>\n",
       "      <td>4979.762444</td>\n",
       "      <td>4030.000444</td>\n",
       "      <td>0.404589</td>\n",
       "    </tr>\n",
       "    <tr>\n",
       "      <th>2023-03-17</th>\n",
       "      <td>9960.73</td>\n",
       "      <td>-949.762</td>\n",
       "      <td>4979.762444</td>\n",
       "      <td>4030.000444</td>\n",
       "      <td>0.404589</td>\n",
       "    </tr>\n",
       "  </tbody>\n",
       "</table>\n",
       "<p>299 rows × 5 columns</p>\n",
       "</div>"
      ],
      "text/plain": [
       "            Principal      Cash         Stock  Total_Value       ROR\n",
       "2022-01-25    3500.00  3500.000      0.000000  3500.000000  1.000000\n",
       "2022-01-26    3500.00  2731.910    746.377670  3478.287670  0.993796\n",
       "2022-01-27    3500.00  2344.300   1135.714279  3480.014279  0.994290\n",
       "2022-01-28    3500.00  2029.810   1475.514275  3505.324275  1.001521\n",
       "2022-01-31    3500.00   910.510   2120.809631  3031.319631  0.866091\n",
       "...               ...       ...           ...          ...       ...\n",
       "2023-03-13    9960.73  -455.930   9672.990187  9217.060187  0.925340\n",
       "2023-03-14    9960.73  -950.490  10317.250092  9366.760092  0.940369\n",
       "2023-03-15    9960.73  -949.762  10309.060053  9359.298053  0.939620\n",
       "2023-03-16    9960.73  -949.762   4979.762444  4030.000444  0.404589\n",
       "2023-03-17    9960.73  -949.762   4979.762444  4030.000444  0.404589\n",
       "\n",
       "[299 rows x 5 columns]"
      ]
     },
     "execution_count": 9,
     "metadata": {},
     "output_type": "execute_result"
    }
   ],
   "source": [
    "df = pd.DataFrame(profolio.principal)\n",
    "df['Cash'] = profolio.cash_balance\n",
    "df['Stock'] = profolio.stock_value\n",
    "df = df.ffill()\n",
    "df = df.fillna(0)\n",
    "df['Total_Value'] = df['Cash']+df['Stock']\n",
    "df['ROR'] = df['Total_Value']/df['Principal']\n",
    "df"
   ]
  },
  {
   "cell_type": "code",
   "execution_count": null,
   "metadata": {},
   "outputs": [
    {
     "data": {
      "text/plain": [
       "<Axes: >"
      ]
     },
     "execution_count": 10,
     "metadata": {},
     "output_type": "execute_result"
    },
    {
     "data": {
      "image/png": "[encoded data removed]",
      "text/plain": [
       "<Figure size 640x480 with 1 Axes>"
      ]
     },
     "metadata": {},
     "output_type": "display_data"
    }
   ],
   "source": [
    "df['Total_Value'].plot()"
   ]
  },
  {
   "cell_type": "code",
   "execution_count": null,
   "metadata": {},
   "outputs": [
    {
     "data": {
      "text/plain": [
       "<Axes: >"
      ]
     },
     "execution_count": 11,
     "metadata": {},
     "output_type": "execute_result"
    },
    {
     "data": {
      "image/png": "[encoded data removed]",
      "text/plain": [
       "<Figure size 640x480 with 1 Axes>"
      ]
     },
     "metadata": {},
     "output_type": "display_data"
    }
   ],
   "source": [
    "df['Total_Value'].plot()\n",
    "df['Cash'].plot()\n",
    "df['Stock'].plot()"
   ]
  },
  {
   "cell_type": "code",
   "execution_count": null,
   "metadata": {},
   "outputs": [
    {
     "name": "stdout",
     "output_type": "stream",
     "text": [
      "[*********************100%***********************]  3 of 3 completed\n",
      "            Principal      Cash         Stock  Total_Value       ROR  \\\n",
      "2022-01-25    3500.00  3500.000      0.000000  3500.000000  1.000000   \n",
      "2022-01-26    3500.00  2731.910    746.377670  3478.287670  0.993796   \n",
      "2022-01-27    3500.00  2344.300   1135.714279  3480.014279  0.994290   \n",
      "2022-01-28    3500.00  2029.810   1475.514275  3505.324275  1.001521   \n",
      "2022-01-31    3500.00   910.510   2120.809631  3031.319631  0.866091   \n",
      "...               ...       ...           ...          ...       ...   \n",
      "2023-03-13    9960.73  -455.930   9672.990187  9217.060187  0.925340   \n",
      "2023-03-14    9960.73  -950.490  10317.250092  9366.760092  0.940369   \n",
      "2023-03-15    9960.73  -949.762  10309.060053  9359.298053  0.939620   \n",
      "2023-03-16    9960.73  -949.762   4979.762444  4030.000444  0.404589   \n",
      "2023-03-17    9960.73  -949.762   4979.762444  4030.000444  0.404589   \n",
      "\n",
      "                    ^DJI        ^GSPC         ^IXIC  \n",
      "2022-01-25  34297.730469  4356.450195  13539.290039  \n",
      "2022-01-26  34168.089844  4349.930176  13542.120117  \n",
      "2022-01-27  34160.781250  4326.509766  13352.780273  \n",
      "2022-01-28  34725.468750  4431.850098  13770.570312  \n",
      "2022-01-31  35131.859375  4515.549805  14239.879883  \n",
      "...                  ...          ...           ...  \n",
      "2023-03-13  31819.140625  3855.760010  11188.839844  \n",
      "2023-03-14  32155.400391  3919.290039  11428.150391  \n",
      "2023-03-15  31874.570312  3891.929932  11434.049805  \n",
      "2023-03-16           NaN          NaN  11687.943359  \n",
      "2023-03-17           NaN          NaN           NaN  \n",
      "\n",
      "[299 rows x 8 columns]\n",
      "            Principal      Cash         Stock  Total_Value       ROR  \\\n",
      "2022-01-25    3500.00  3500.000      0.000000  3500.000000  1.000000   \n",
      "2022-01-26    3500.00  2731.910    746.377670  3478.287670  0.993796   \n",
      "2022-01-27    3500.00  2344.300   1135.714279  3480.014279  0.994290   \n",
      "2022-01-28    3500.00  2029.810   1475.514275  3505.324275  1.001521   \n",
      "2022-01-31    3500.00   910.510   2120.809631  3031.319631  0.866091   \n",
      "...               ...       ...           ...          ...       ...   \n",
      "2023-03-13    9960.73  -455.930   9672.990187  9217.060187  0.925340   \n",
      "2023-03-14    9960.73  -950.490  10317.250092  9366.760092  0.940369   \n",
      "2023-03-15    9960.73  -949.762  10309.060053  9359.298053  0.939620   \n",
      "2023-03-16    9960.73  -949.762   4979.762444  4030.000444  0.404589   \n",
      "2023-03-17    9960.73  -949.762   4979.762444  4030.000444  0.404589   \n",
      "\n",
      "                ^DJI     ^GSPC     ^IXIC  \n",
      "2022-01-25  1.000000  1.000000  1.000000  \n",
      "2022-01-26  0.996220  0.998503  1.000209  \n",
      "2022-01-27  0.996007  0.993127  0.986225  \n",
      "2022-01-28  1.012471  1.017308  1.017082  \n",
      "2022-01-31  1.024320  1.036520  1.051745  \n",
      "...              ...       ...       ...  \n",
      "2023-03-13  0.927733  0.885069  0.826398  \n",
      "2023-03-14  0.937537  0.899652  0.844073  \n",
      "2023-03-15  0.929349  0.893372  0.844509  \n",
      "2023-03-16  0.929349  0.893372  0.863261  \n",
      "2023-03-17  0.929349  0.893372  0.863261  \n",
      "\n",
      "[299 rows x 8 columns]\n"
     ]
    }
   ],
   "source": [
    "benchmark = yf.download(['^DJI','^GSPC','^IXIC'])\n",
    "benchmark = pd.DataFrame(benchmark['Adj Close'])\n",
    "benchmark.index = pd.DatetimeIndex(benchmark.index)\n",
    "df[['^DJI','^GSPC','^IXIC']] = benchmark[['^DJI','^GSPC','^IXIC']]\n",
    "print(df)\n",
    "df[['^DJI','^GSPC','^IXIC']] = df[['^DJI','^GSPC','^IXIC']]/df.iloc[0][['^DJI','^GSPC','^IXIC']]\n",
    "df[['^DJI','^GSPC','^IXIC']] =df[['^DJI','^GSPC','^IXIC']].ffill()\n",
    "print(df)"
   ]
  },
  {
   "cell_type": "code",
   "execution_count": null,
   "metadata": {},
   "outputs": [],
   "source": []
  },
  {
   "cell_type": "code",
   "execution_count": null,
   "metadata": {},
   "outputs": [],
   "source": [
    "[px.colors.qualitative.Plotly[1]].append(px.colors.qualitative.Pastel1[0:3])"
   ]
  },
  {
   "cell_type": "code",
   "execution_count": null,
   "metadata": {},
   "outputs": [
    {
     "data": {
      "text/plain": [
       "DatetimeIndex(['2022-01-25', '2022-01-26', '2022-01-27', '2022-01-28',\n",
       "               '2022-01-31', '2022-02-01', '2022-02-02', '2022-02-03',\n",
       "               '2022-02-04', '2022-02-07',\n",
       "               ...\n",
       "               '2023-03-06', '2023-03-07', '2023-03-08', '2023-03-09',\n",
       "               '2023-03-10', '2023-03-13', '2023-03-14', '2023-03-15',\n",
       "               '2023-03-16', '2023-03-17'],\n",
       "              dtype='datetime64[ns]', length=299, freq='B')"
      ]
     },
     "execution_count": 14,
     "metadata": {},
     "output_type": "execute_result"
    }
   ],
   "source": [
    "df.index"
   ]
  },
  {
   "cell_type": "code",
   "execution_count": null,
   "metadata": {},
   "outputs": [
    {
     "data": {
      "application/vnd.plotly.v1+json": {
       "config": {
        "plotlyServerURL": "https://plot.ly"
       },
       "data": [
        {
         "legendgroup": "ROR",
         "line": {
          "color": "#EF553B",
          "dash": "solid"
         },
         "marker": {
          "symbol": "circle"
         },
         "mode": "lines",
         "name": "ROR",
         "showlegend": true,
         "type": "scattergl",
         "x": [
          "2022-01-25T00:00:00",
          "2022-01-26T00:00:00",
          "2022-01-27T00:00:00",
          "2022-01-28T00:00:00",
          "2022-01-31T00:00:00",
          "2022-02-01T00:00:00",
          "2022-02-02T00:00:00",
          "2022-02-03T00:00:00",
          "2022-02-04T00:00:00",
          "2022-02-07T00:00:00",
          "2022-02-08T00:00:00",
          "2022-02-09T00:00:00",
          "2022-02-10T00:00:00",
          "2022-02-11T00:00:00",
          "2022-02-14T00:00:00",
          "2022-02-15T00:00:00",
          "2022-02-16T00:00:00",
          "2022-02-17T00:00:00",
          "2022-02-18T00:00:00",
          "2022-02-21T00:00:00",
          "2022-02-22T00:00:00",
          "2022-02-23T00:00:00",
          "2022-02-24T00:00:00",
          "2022-02-25T00:00:00",
          "2022-02-28T00:00:00",
          "2022-03-01T00:00:00",
          "2022-03-02T00:00:00",
          "2022-03-03T00:00:00",
          "2022-03-04T00:00:00",
          "2022-03-07T00:00:00",
          "2022-03-08T00:00:00",
          "2022-03-09T00:00:00",
          "2022-03-10T00:00:00",
          "2022-03-11T00:00:00",
          "2022-03-14T00:00:00",
          "2022-03-15T00:00:00",
          "2022-03-16T00:00:00",
          "2022-03-17T00:00:00",
          "2022-03-18T00:00:00",
          "2022-03-21T00:00:00",
          "2022-03-22T00:00:00",
          "2022-03-23T00:00:00",
          "2022-03-24T00:00:00",
          "2022-03-25T00:00:00",
          "2022-03-28T00:00:00",
          "2022-03-29T00:00:00",
          "2022-03-30T00:00:00",
          "2022-03-31T00:00:00",
          "2022-04-01T00:00:00",
          "2022-04-04T00:00:00",
          "2022-04-05T00:00:00",
          "2022-04-06T00:00:00",
          "2022-04-07T00:00:00",
          "2022-04-08T00:00:00",
          "2022-04-11T00:00:00",
          "2022-04-12T00:00:00",
          "2022-04-13T00:00:00",
          "2022-04-14T00:00:00",
          "2022-04-15T00:00:00",
          "2022-04-18T00:00:00",
          "2022-04-19T00:00:00",
          "2022-04-20T00:00:00",
          "2022-04-21T00:00:00",
          "2022-04-22T00:00:00",
          "2022-04-25T00:00:00",
          "2022-04-26T00:00:00",
          "2022-04-27T00:00:00",
          "2022-04-28T00:00:00",
          "2022-04-29T00:00:00",
          "2022-05-02T00:00:00",
          "2022-05-03T00:00:00",
          "2022-05-04T00:00:00",
          "2022-05-05T00:00:00",
          "2022-05-06T00:00:00",
          "2022-05-09T00:00:00",
          "2022-05-10T00:00:00",
          "2022-05-11T00:00:00",
          "2022-05-12T00:00:00",
          "2022-05-13T00:00:00",
          "2022-05-16T00:00:00",
          "2022-05-17T00:00:00",
          "2022-05-18T00:00:00",
          "2022-05-19T00:00:00",
          "2022-05-20T00:00:00",
          "2022-05-23T00:00:00",
          "2022-05-24T00:00:00",
          "2022-05-25T00:00:00",
          "2022-05-26T00:00:00",
          "2022-05-27T00:00:00",
          "2022-05-30T00:00:00",
          "2022-05-31T00:00:00",
          "2022-06-01T00:00:00",
          "2022-06-02T00:00:00",
          "2022-06-03T00:00:00",
          "2022-06-06T00:00:00",
          "2022-06-07T00:00:00",
          "2022-06-08T00:00:00",
          "2022-06-09T00:00:00",
          "2022-06-10T00:00:00",
          "2022-06-13T00:00:00",
          "2022-06-14T00:00:00",
          "2022-06-15T00:00:00",
          "2022-06-16T00:00:00",
          "2022-06-17T00:00:00",
          "2022-06-20T00:00:00",
          "2022-06-21T00:00:00",
          "2022-06-22T00:00:00",
          "2022-06-23T00:00:00",
          "2022-06-24T00:00:00",
          "2022-06-27T00:00:00",
          "2022-06-28T00:00:00",
          "2022-06-29T00:00:00",
          "2022-06-30T00:00:00",
          "2022-07-01T00:00:00",
          "2022-07-04T00:00:00",
          "2022-07-05T00:00:00",
          "2022-07-06T00:00:00",
          "2022-07-07T00:00:00",
          "2022-07-08T00:00:00",
          "2022-07-11T00:00:00",
          "2022-07-12T00:00:00",
          "2022-07-13T00:00:00",
          "2022-07-14T00:00:00",
          "2022-07-15T00:00:00",
          "2022-07-18T00:00:00",
          "2022-07-19T00:00:00",
          "2022-07-20T00:00:00",
          "2022-07-21T00:00:00",
          "2022-07-22T00:00:00",
          "2022-07-25T00:00:00",
          "2022-07-26T00:00:00",
          "2022-07-27T00:00:00",
          "2022-07-28T00:00:00",
          "2022-07-29T00:00:00",
          "2022-08-01T00:00:00",
          "2022-08-02T00:00:00",
          "2022-08-03T00:00:00",
          "2022-08-04T00:00:00",
          "2022-08-05T00:00:00",
          "2022-08-08T00:00:00",
          "2022-08-09T00:00:00",
          "2022-08-10T00:00:00",
          "2022-08-11T00:00:00",
          "2022-08-12T00:00:00",
          "2022-08-15T00:00:00",
          "2022-08-16T00:00:00",
          "2022-08-17T00:00:00",
          "2022-08-18T00:00:00",
          "2022-08-19T00:00:00",
          "2022-08-22T00:00:00",
          "2022-08-23T00:00:00",
          "2022-08-24T00:00:00",
          "2022-08-25T00:00:00",
          "2022-08-26T00:00:00",
          "2022-08-29T00:00:00",
          "2022-08-30T00:00:00",
          "2022-08-31T00:00:00",
          "2022-09-01T00:00:00",
          "2022-09-02T00:00:00",
          "2022-09-05T00:00:00",
          "2022-09-06T00:00:00",
          "2022-09-07T00:00:00",
          "2022-09-08T00:00:00",
          "2022-09-09T00:00:00",
          "2022-09-12T00:00:00",
          "2022-09-13T00:00:00",
          "2022-09-14T00:00:00",
          "2022-09-15T00:00:00",
          "2022-09-16T00:00:00",
          "2022-09-19T00:00:00",
          "2022-09-20T00:00:00",
          "2022-09-21T00:00:00",
          "2022-09-22T00:00:00",
          "2022-09-23T00:00:00",
          "2022-09-26T00:00:00",
          "2022-09-27T00:00:00",
          "2022-09-28T00:00:00",
          "2022-09-29T00:00:00",
          "2022-09-30T00:00:00",
          "2022-10-03T00:00:00",
          "2022-10-04T00:00:00",
          "2022-10-05T00:00:00",
          "2022-10-06T00:00:00",
          "2022-10-07T00:00:00",
          "2022-10-10T00:00:00",
          "2022-10-11T00:00:00",
          "2022-10-12T00:00:00",
          "2022-10-13T00:00:00",
          "2022-10-14T00:00:00",
          "2022-10-17T00:00:00",
          "2022-10-18T00:00:00",
          "2022-10-19T00:00:00",
          "2022-10-20T00:00:00",
          "2022-10-21T00:00:00",
          "2022-10-24T00:00:00",
          "2022-10-25T00:00:00",
          "2022-10-26T00:00:00",
          "2022-10-27T00:00:00",
          "2022-10-28T00:00:00",
          "2022-10-31T00:00:00",
          "2022-11-01T00:00:00",
          "2022-11-02T00:00:00",
          "2022-11-03T00:00:00",
          "2022-11-04T00:00:00",
          "2022-11-07T00:00:00",
          "2022-11-08T00:00:00",
          "2022-11-09T00:00:00",
          "2022-11-10T00:00:00",
          "2022-11-11T00:00:00",
          "2022-11-14T00:00:00",
          "2022-11-15T00:00:00",
          "2022-11-16T00:00:00",
          "2022-11-17T00:00:00",
          "2022-11-18T00:00:00",
          "2022-11-21T00:00:00",
          "2022-11-22T00:00:00",
          "2022-11-23T00:00:00",
          "2022-11-24T00:00:00",
          "2022-11-25T00:00:00",
          "2022-11-28T00:00:00",
          "2022-11-29T00:00:00",
          "2022-11-30T00:00:00",
          "2022-12-01T00:00:00",
          "2022-12-02T00:00:00",
          "2022-12-05T00:00:00",
          "2022-12-06T00:00:00",
          "2022-12-07T00:00:00",
          "2022-12-08T00:00:00",
          "2022-12-09T00:00:00",
          "2022-12-12T00:00:00",
          "2022-12-13T00:00:00",
          "2022-12-14T00:00:00",
          "2022-12-15T00:00:00",
          "2022-12-16T00:00:00",
          "2022-12-19T00:00:00",
          "2022-12-20T00:00:00",
          "2022-12-21T00:00:00",
          "2022-12-22T00:00:00",
          "2022-12-23T00:00:00",
          "2022-12-26T00:00:00",
          "2022-12-27T00:00:00",
          "2022-12-28T00:00:00",
          "2022-12-29T00:00:00",
          "2022-12-30T00:00:00",
          "2023-01-02T00:00:00",
          "2023-01-03T00:00:00",
          "2023-01-04T00:00:00",
          "2023-01-05T00:00:00",
          "2023-01-06T00:00:00",
          "2023-01-09T00:00:00",
          "2023-01-10T00:00:00",
          "2023-01-11T00:00:00",
          "2023-01-12T00:00:00",
          "2023-01-13T00:00:00",
          "2023-01-16T00:00:00",
          "2023-01-17T00:00:00",
          "2023-01-18T00:00:00",
          "2023-01-19T00:00:00",
          "2023-01-20T00:00:00",
          "2023-01-23T00:00:00",
          "2023-01-24T00:00:00",
          "2023-01-25T00:00:00",
          "2023-01-26T00:00:00",
          "2023-01-27T00:00:00",
          "2023-01-30T00:00:00",
          "2023-01-31T00:00:00",
          "2023-02-01T00:00:00",
          "2023-02-02T00:00:00",
          "2023-02-03T00:00:00",
          "2023-02-06T00:00:00",
          "2023-02-07T00:00:00",
          "2023-02-08T00:00:00",
          "2023-02-09T00:00:00",
          "2023-02-10T00:00:00",
          "2023-02-13T00:00:00",
          "2023-02-14T00:00:00",
          "2023-02-15T00:00:00",
          "2023-02-16T00:00:00",
          "2023-02-17T00:00:00",
          "2023-02-20T00:00:00",
          "2023-02-21T00:00:00",
          "2023-02-22T00:00:00",
          "2023-02-23T00:00:00",
          "2023-02-24T00:00:00",
          "2023-02-27T00:00:00",
          "2023-02-28T00:00:00",
          "2023-03-01T00:00:00",
          "2023-03-02T00:00:00",
          "2023-03-03T00:00:00",
          "2023-03-06T00:00:00",
          "2023-03-07T00:00:00",
          "2023-03-08T00:00:00",
          "2023-03-09T00:00:00",
          "2023-03-10T00:00:00",
          "2023-03-13T00:00:00",
          "2023-03-14T00:00:00",
          "2023-03-15T00:00:00",
          "2023-03-16T00:00:00",
          "2023-03-17T00:00:00"
         ],
         "xaxis": "x",
         "y": [
          1,
          0.9937964772251674,
          0.9942897940499441,
          1.0015212213134763,
          0.8660913232421874,
          0.8790091350446428,
          0.8817574500383649,
          0.8199630221121652,
          0.8337718578229631,
          0.8317736518205915,
          0.8487998925781249,
          0.8702528404017856,
          0.8397489431675502,
          0.9894578779296875,
          0.9856117613351004,
          1.0034685182756695,
          1.0013260389010497,
          0.9650021070391808,
          0.9504223670270541,
          0.9504223670270541,
          0.9446930263583734,
          0.9122928270079385,
          0.965538038473908,
          0.9853433930897474,
          0.9952002113280792,
          0.9524611889780761,
          0.9825400825305678,
          0.957820526867412,
          0.9304711743792339,
          0.8801531795428128,
          0.8872188767797716,
          0.9340649604979923,
          0.91555070937102,
          0.8969357025679144,
          0.8735206126950128,
          0.9257157063117096,
          0.9728080749010359,
          0.975871211378012,
          1.033092781809407,
          1.044397127475841,
          1.0399744226090017,
          1.0165072767848036,
          1.0768656437435988,
          1.0654014121029687,
          1.0452643126551167,
          1.1066939636711948,
          1.0838545770658847,
          1.0662452638876947,
          1.0583959618862584,
          1.0752884481504719,
          1.0348300845675038,
          0.8298467899675978,
          1.0235169212644324,
          1.0220286529859357,
          1.0201229256602236,
          1.0209384358511209,
          1.0213943821628144,
          1.0198117323529186,
          1.0198117323529186,
          1.018562184248456,
          1.0244426418916557,
          0.985106540637011,
          0.9696075166540342,
          0.9639256622635147,
          0.9646328900162982,
          0.960549452133711,
          0.9623259704768763,
          0.9688101051776077,
          0.9511724094207743,
          0.9435709297690733,
          0.9442016438512372,
          0.9703876435089456,
          0.76773228603663,
          0.76794061309326,
          0.8933974751938359,
          0.8933553742555623,
          0.8946014783235837,
          0.8917383417825782,
          0.7432857526702805,
          0.7413972232302557,
          0.751977119145424,
          0.7127713337782278,
          0.8444772197511381,
          0.8294396179975577,
          0.8383322000838684,
          0.8305976627984742,
          0.8396868379226057,
          0.8617014331289897,
          0.8855634826331616,
          0.8855634826331616,
          0.8815446229233385,
          0.8737583044391323,
          0.9073268120518354,
          0.8901324764365973,
          0.8905973671894084,
          0.8943423391253598,
          0.8820679247430392,
          0.7267324014396169,
          0.703637129322526,
          0.6671359040669279,
          0.6732043124096997,
          0.6925372912294367,
          0.6556012309426843,
          0.6636499082274718,
          0.6636499082274718,
          0.6915506731715756,
          0.6915565281200079,
          0.707202356303428,
          0.7311774982127994,
          0.7244749468139449,
          0.8324834931835572,
          0.8217330395252374,
          0.8290038015497456,
          0.8304178772816676,
          0.8304178772816676,
          0.8174200894700433,
          0.8149702124219027,
          0.8121764645304166,
          0.8103551003711186,
          0.8000077247739519,
          0.7893046586617416,
          0.7869807874279988,
          0.790686098954698,
          0.7919592463743077,
          0.7935991760655862,
          0.8086160701287904,
          0.8220316706700856,
          0.8326385535539365,
          0.819187416890487,
          0.8092879782111163,
          0.7953817526379088,
          0.8191391265647238,
          0.8240927132219471,
          0.8372786305253537,
          0.843177741787178,
          0.8506048888632647,
          0.8684554895457759,
          0.8740124311657086,
          0.876401935931119,
          0.8675552937962704,
          0.8565972027469573,
          0.8808513744952221,
          0.8780932159691943,
          0.8938508960021274,
          0.9026830615676612,
          0.8944996653769204,
          0.8798786426246157,
          0.8832859709190608,
          0.8628600097539414,
          0.8444259421084722,
          0.8423088441222255,
          0.8473878682226276,
          0.865265852590743,
          0.8289606069025676,
          0.9027029495942918,
          0.8977554846351693,
          0.8914381234566487,
          0.8829594958621074,
          0.8722943123403633,
          0.8722943123403633,
          0.8691928431605214,
          0.8887236964350574,
          0.8912420066814539,
          0.907042753244972,
          0.9183167448910999,
          0.8788229575968406,
          0.8895386033416856,
          0.8779438967929288,
          0.8706870462440472,
          0.874024794845963,
          0.8674499947435318,
          0.8611986715276436,
          0.8437239272027175,
          0.829435344673779,
          0.8228664015447775,
          0.8310349052447673,
          0.8413029185375879,
          0.8190722910524809,
          0.8116360043977449,
          0.8203036995042183,
          0.8452803748669461,
          0.841531231981837,
          0.8408667579049195,
          0.8064162582497134,
          0.7956503613104607,
          0.7874870076976784,
          0.7880493622432293,
          0.7913981600900757,
          0.7634745345552278,
          0.7868721239607659,
          0.7947956245953205,
          0.7938181003882927,
          0.793475651886827,
          0.809971348818967,
          0.815127921759849,
          0.8382757258748305,
          0.8144027315611291,
          0.8101650656008064,
          0.8334234540519526,
          0.8237703127172433,
          0.8233114149878962,
          0.7968492073686922,
          0.7891346035947371,
          0.7882664131103646,
          0.7867894012593757,
          0.7909291605709352,
          0.7682910048417121,
          0.8322837118039791,
          0.847682916477638,
          0.845790279957622,
          0.8699861062311507,
          0.8526550997859419,
          0.8459870612901699,
          0.8427061870146432,
          0.832805710241806,
          0.8430383633385983,
          0.857936088423712,
          0.857936088423712,
          0.8503764054857021,
          0.834808979100123,
          0.8265543027891332,
          0.8703216095029624,
          0.8729035650086243,
          0.8695850541535867,
          0.8527315285919476,
          0.8379902395352467,
          0.8342977489404845,
          0.8535083920818218,
          0.8469134604997064,
          0.8602875872210136,
          0.8678251385685664,
          0.862967109567205,
          0.8348387714211496,
          0.829160519687389,
          0.8108540872896081,
          0.8096348710337397,
          0.8264307101784479,
          0.8042301062144038,
          0.8031966347491034,
          0.8031966347491034,
          0.7807684110930314,
          0.7721276092813336,
          0.7955377084804421,
          0.7939148119091956,
          0.7939148119091956,
          0.789264148380754,
          0.7918611595671964,
          0.7726011837382646,
          0.7951769247394832,
          0.8106473320444558,
          0.823057993081539,
          0.8371656417914192,
          0.8481622612879535,
          0.855709539935902,
          0.855709539935902,
          0.8632898074596063,
          0.8530532803861924,
          0.8353036106372481,
          0.8710130873088984,
          0.90655587924682,
          0.9027077108173934,
          0.9033759102011337,
          0.9152118630634485,
          0.9258596358943715,
          0.8951283655291232,
          0.9144470011832672,
          0.9535401914570579,
          0.9915013395012052,
          0.968908594932529,
          0.960492008021293,
          0.9862837960111261,
          0.9784465629567218,
          0.9508897617564893,
          0.9268559580109277,
          0.9439897281949478,
          0.969700706603113,
          0.9814782820347494,
          0.9538042869410066,
          0.9350218319006478,
          0.9350218319006478,
          0.9085974096550686,
          0.9101037860948371,
          0.9282894729306129,
          0.907894928295044,
          0.9169873754172607,
          0.9156225039054414,
          0.9083365954858106,
          0.9288255240365422,
          0.9545213234767695,
          0.952041337228542,
          0.9625447107598181,
          0.9693122834012479,
          0.9450572392597744,
          0.9260556164078309,
          0.9253398281743693,
          0.940368837580452,
          0.9396196918169357,
          0.40458886482642153,
          0.40458886482642153
         ],
         "yaxis": "y"
        },
        {
         "legendgroup": "^DJI",
         "line": {
          "color": "rgb(251,180,174)",
          "dash": "solid"
         },
         "marker": {
          "symbol": "circle"
         },
         "mode": "lines",
         "name": "^DJI",
         "showlegend": true,
         "type": "scattergl",
         "x": [
          "2022-01-25T00:00:00",
          "2022-01-26T00:00:00",
          "2022-01-27T00:00:00",
          "2022-01-28T00:00:00",
          "2022-01-31T00:00:00",
          "2022-02-01T00:00:00",
          "2022-02-02T00:00:00",
          "2022-02-03T00:00:00",
          "2022-02-04T00:00:00",
          "2022-02-07T00:00:00",
          "2022-02-08T00:00:00",
          "2022-02-09T00:00:00",
          "2022-02-10T00:00:00",
          "2022-02-11T00:00:00",
          "2022-02-14T00:00:00",
          "2022-02-15T00:00:00",
          "2022-02-16T00:00:00",
          "2022-02-17T00:00:00",
          "2022-02-18T00:00:00",
          "2022-02-21T00:00:00",
          "2022-02-22T00:00:00",
          "2022-02-23T00:00:00",
          "2022-02-24T00:00:00",
          "2022-02-25T00:00:00",
          "2022-02-28T00:00:00",
          "2022-03-01T00:00:00",
          "2022-03-02T00:00:00",
          "2022-03-03T00:00:00",
          "2022-03-04T00:00:00",
          "2022-03-07T00:00:00",
          "2022-03-08T00:00:00",
          "2022-03-09T00:00:00",
          "2022-03-10T00:00:00",
          "2022-03-11T00:00:00",
          "2022-03-14T00:00:00",
          "2022-03-15T00:00:00",
          "2022-03-16T00:00:00",
          "2022-03-17T00:00:00",
          "2022-03-18T00:00:00",
          "2022-03-21T00:00:00",
          "2022-03-22T00:00:00",
          "2022-03-23T00:00:00",
          "2022-03-24T00:00:00",
          "2022-03-25T00:00:00",
          "2022-03-28T00:00:00",
          "2022-03-29T00:00:00",
          "2022-03-30T00:00:00",
          "2022-03-31T00:00:00",
          "2022-04-01T00:00:00",
          "2022-04-04T00:00:00",
          "2022-04-05T00:00:00",
          "2022-04-06T00:00:00",
          "2022-04-07T00:00:00",
          "2022-04-08T00:00:00",
          "2022-04-11T00:00:00",
          "2022-04-12T00:00:00",
          "2022-04-13T00:00:00",
          "2022-04-14T00:00:00",
          "2022-04-15T00:00:00",
          "2022-04-18T00:00:00",
          "2022-04-19T00:00:00",
          "2022-04-20T00:00:00",
          "2022-04-21T00:00:00",
          "2022-04-22T00:00:00",
          "2022-04-25T00:00:00",
          "2022-04-26T00:00:00",
          "2022-04-27T00:00:00",
          "2022-04-28T00:00:00",
          "2022-04-29T00:00:00",
          "2022-05-02T00:00:00",
          "2022-05-03T00:00:00",
          "2022-05-04T00:00:00",
          "2022-05-05T00:00:00",
          "2022-05-06T00:00:00",
          "2022-05-09T00:00:00",
          "2022-05-10T00:00:00",
          "2022-05-11T00:00:00",
          "2022-05-12T00:00:00",
          "2022-05-13T00:00:00",
          "2022-05-16T00:00:00",
          "2022-05-17T00:00:00",
          "2022-05-18T00:00:00",
          "2022-05-19T00:00:00",
          "2022-05-20T00:00:00",
          "2022-05-23T00:00:00",
          "2022-05-24T00:00:00",
          "2022-05-25T00:00:00",
          "2022-05-26T00:00:00",
          "2022-05-27T00:00:00",
          "2022-05-30T00:00:00",
          "2022-05-31T00:00:00",
          "2022-06-01T00:00:00",
          "2022-06-02T00:00:00",
          "2022-06-03T00:00:00",
          "2022-06-06T00:00:00",
          "2022-06-07T00:00:00",
          "2022-06-08T00:00:00",
          "2022-06-09T00:00:00",
          "2022-06-10T00:00:00",
          "2022-06-13T00:00:00",
          "2022-06-14T00:00:00",
          "2022-06-15T00:00:00",
          "2022-06-16T00:00:00",
          "2022-06-17T00:00:00",
          "2022-06-20T00:00:00",
          "2022-06-21T00:00:00",
          "2022-06-22T00:00:00",
          "2022-06-23T00:00:00",
          "2022-06-24T00:00:00",
          "2022-06-27T00:00:00",
          "2022-06-28T00:00:00",
          "2022-06-29T00:00:00",
          "2022-06-30T00:00:00",
          "2022-07-01T00:00:00",
          "2022-07-04T00:00:00",
          "2022-07-05T00:00:00",
          "2022-07-06T00:00:00",
          "2022-07-07T00:00:00",
          "2022-07-08T00:00:00",
          "2022-07-11T00:00:00",
          "2022-07-12T00:00:00",
          "2022-07-13T00:00:00",
          "2022-07-14T00:00:00",
          "2022-07-15T00:00:00",
          "2022-07-18T00:00:00",
          "2022-07-19T00:00:00",
          "2022-07-20T00:00:00",
          "2022-07-21T00:00:00",
          "2022-07-22T00:00:00",
          "2022-07-25T00:00:00",
          "2022-07-26T00:00:00",
          "2022-07-27T00:00:00",
          "2022-07-28T00:00:00",
          "2022-07-29T00:00:00",
          "2022-08-01T00:00:00",
          "2022-08-02T00:00:00",
          "2022-08-03T00:00:00",
          "2022-08-04T00:00:00",
          "2022-08-05T00:00:00",
          "2022-08-08T00:00:00",
          "2022-08-09T00:00:00",
          "2022-08-10T00:00:00",
          "2022-08-11T00:00:00",
          "2022-08-12T00:00:00",
          "2022-08-15T00:00:00",
          "2022-08-16T00:00:00",
          "2022-08-17T00:00:00",
          "2022-08-18T00:00:00",
          "2022-08-19T00:00:00",
          "2022-08-22T00:00:00",
          "2022-08-23T00:00:00",
          "2022-08-24T00:00:00",
          "2022-08-25T00:00:00",
          "2022-08-26T00:00:00",
          "2022-08-29T00:00:00",
          "2022-08-30T00:00:00",
          "2022-08-31T00:00:00",
          "2022-09-01T00:00:00",
          "2022-09-02T00:00:00",
          "2022-09-05T00:00:00",
          "2022-09-06T00:00:00",
          "2022-09-07T00:00:00",
          "2022-09-08T00:00:00",
          "2022-09-09T00:00:00",
          "2022-09-12T00:00:00",
          "2022-09-13T00:00:00",
          "2022-09-14T00:00:00",
          "2022-09-15T00:00:00",
          "2022-09-16T00:00:00",
          "2022-09-19T00:00:00",
          "2022-09-20T00:00:00",
          "2022-09-21T00:00:00",
          "2022-09-22T00:00:00",
          "2022-09-23T00:00:00",
          "2022-09-26T00:00:00",
          "2022-09-27T00:00:00",
          "2022-09-28T00:00:00",
          "2022-09-29T00:00:00",
          "2022-09-30T00:00:00",
          "2022-10-03T00:00:00",
          "2022-10-04T00:00:00",
          "2022-10-05T00:00:00",
          "2022-10-06T00:00:00",
          "2022-10-07T00:00:00",
          "2022-10-10T00:00:00",
          "2022-10-11T00:00:00",
          "2022-10-12T00:00:00",
          "2022-10-13T00:00:00",
          "2022-10-14T00:00:00",
          "2022-10-17T00:00:00",
          "2022-10-18T00:00:00",
          "2022-10-19T00:00:00",
          "2022-10-20T00:00:00",
          "2022-10-21T00:00:00",
          "2022-10-24T00:00:00",
          "2022-10-25T00:00:00",
          "2022-10-26T00:00:00",
          "2022-10-27T00:00:00",
          "2022-10-28T00:00:00",
          "2022-10-31T00:00:00",
          "2022-11-01T00:00:00",
          "2022-11-02T00:00:00",
          "2022-11-03T00:00:00",
          "2022-11-04T00:00:00",
          "2022-11-07T00:00:00",
          "2022-11-08T00:00:00",
          "2022-11-09T00:00:00",
          "2022-11-10T00:00:00",
          "2022-11-11T00:00:00",
          "2022-11-14T00:00:00",
          "2022-11-15T00:00:00",
          "2022-11-16T00:00:00",
          "2022-11-17T00:00:00",
          "2022-11-18T00:00:00",
          "2022-11-21T00:00:00",
          "2022-11-22T00:00:00",
          "2022-11-23T00:00:00",
          "2022-11-24T00:00:00",
          "2022-11-25T00:00:00",
          "2022-11-28T00:00:00",
          "2022-11-29T00:00:00",
          "2022-11-30T00:00:00",
          "2022-12-01T00:00:00",
          "2022-12-02T00:00:00",
          "2022-12-05T00:00:00",
          "2022-12-06T00:00:00",
          "2022-12-07T00:00:00",
          "2022-12-08T00:00:00",
          "2022-12-09T00:00:00",
          "2022-12-12T00:00:00",
          "2022-12-13T00:00:00",
          "2022-12-14T00:00:00",
          "2022-12-15T00:00:00",
          "2022-12-16T00:00:00",
          "2022-12-19T00:00:00",
          "2022-12-20T00:00:00",
          "2022-12-21T00:00:00",
          "2022-12-22T00:00:00",
          "2022-12-23T00:00:00",
          "2022-12-26T00:00:00",
          "2022-12-27T00:00:00",
          "2022-12-28T00:00:00",
          "2022-12-29T00:00:00",
          "2022-12-30T00:00:00",
          "2023-01-02T00:00:00",
          "2023-01-03T00:00:00",
          "2023-01-04T00:00:00",
          "2023-01-05T00:00:00",
          "2023-01-06T00:00:00",
          "2023-01-09T00:00:00",
          "2023-01-10T00:00:00",
          "2023-01-11T00:00:00",
          "2023-01-12T00:00:00",
          "2023-01-13T00:00:00",
          "2023-01-16T00:00:00",
          "2023-01-17T00:00:00",
          "2023-01-18T00:00:00",
          "2023-01-19T00:00:00",
          "2023-01-20T00:00:00",
          "2023-01-23T00:00:00",
          "2023-01-24T00:00:00",
          "2023-01-25T00:00:00",
          "2023-01-26T00:00:00",
          "2023-01-27T00:00:00",
          "2023-01-30T00:00:00",
          "2023-01-31T00:00:00",
          "2023-02-01T00:00:00",
          "2023-02-02T00:00:00",
          "2023-02-03T00:00:00",
          "2023-02-06T00:00:00",
          "2023-02-07T00:00:00",
          "2023-02-08T00:00:00",
          "2023-02-09T00:00:00",
          "2023-02-10T00:00:00",
          "2023-02-13T00:00:00",
          "2023-02-14T00:00:00",
          "2023-02-15T00:00:00",
          "2023-02-16T00:00:00",
          "2023-02-17T00:00:00",
          "2023-02-20T00:00:00",
          "2023-02-21T00:00:00",
          "2023-02-22T00:00:00",
          "2023-02-23T00:00:00",
          "2023-02-24T00:00:00",
          "2023-02-27T00:00:00",
          "2023-02-28T00:00:00",
          "2023-03-01T00:00:00",
          "2023-03-02T00:00:00",
          "2023-03-03T00:00:00",
          "2023-03-06T00:00:00",
          "2023-03-07T00:00:00",
          "2023-03-08T00:00:00",
          "2023-03-09T00:00:00",
          "2023-03-10T00:00:00",
          "2023-03-13T00:00:00",
          "2023-03-14T00:00:00",
          "2023-03-15T00:00:00",
          "2023-03-16T00:00:00",
          "2023-03-17T00:00:00"
         ],
         "xaxis": "x",
         "y": [
          1,
          0.9962201398393365,
          0.9960070472046312,
          1.012471329018103,
          1.0243202362036756,
          1.0322909941084613,
          1.0388246580182112,
          1.023716720505491,
          1.0230921347178243,
          1.02313268040353,
          1.0339687426930924,
          1.0428695457368433,
          1.027519586926021,
          1.012838404144589,
          1.0078267979420559,
          1.0201502946566594,
          1.0185592181698429,
          1.000416959986989,
          0.9936278354788189,
          0.9936278354788189,
          0.9795577991847356,
          0.9660044925986471,
          0.9686888219986313,
          0.993032178354549,
          0.9881878800517391,
          0.9707624604807693,
          0.9881514344915543,
          0.9853322565188863,
          0.9800881959777996,
          0.9568382064274251,
          0.9514518943092422,
          0.9705088221603584,
          0.967238060918526,
          0.9605356085081704,
          0.9605661316648252,
          0.9780338053071341,
          0.9931590544609422,
          1.0053365411500557,
          1.013330305314708,
          1.0074424111744822,
          1.0148619299814732,
          1.001771823686858,
          1.0119602939288872,
          1.0164298863160475,
          1.019189612468664,
          1.0290532616555463,
          1.0271469310731316,
          1.0110975591838882,
          1.0151770701846958,
          1.0181979515545114,
          1.0100137593378935,
          1.0057957552083838,
          1.0083340745828777,
          1.0123445668040854,
          1.0003017009029045,
          0.997744133716938,
          1.007780671529947,
          1.0044755147906903,
          1.0044755147906903,
          1.0033226961650956,
          1.0178865697996826,
          1.025163723137202,
          1.0144333529721754,
          0.9858202853482356,
          0.9927613422854259,
          0.9691655754827984,
          0.9709659861559262,
          0.9888814846190055,
          0.9614983407589264,
          0.963955910439136,
          0.9659178205008326,
          0.9930994887485153,
          0.9621035648427448,
          0.9592288073907952,
          0.9401700572616697,
          0.9376929550390486,
          0.9281695593242036,
          0.9251428694432337,
          0.9387402523786708,
          0.9395204720975638,
          0.9520918555676117,
          0.9181386022375979,
          0.9112302893583861,
          0.9114859777415575,
          0.9295145713335852,
          0.9309251284051115,
          0.9365132578128177,
          0.9515845219806021,
          0.9683719734097749,
          0.9683719734097749,
          0.9618747550602098,
          0.9567172527245619,
          0.9694017882697459,
          0.9592383743503436,
          0.9597072692605959,
          0.9674150496701733,
          0.9595649037911241,
          0.9409599008862991,
          0.9153022265162178,
          0.8897597542840332,
          0.885330593690203,
          0.8941853842142207,
          0.872567073782556,
          0.8714506437709584,
          0.8714506437709584,
          0.8901536510649677,
          0.8887798242845651,
          0.8944428379292134,
          0.9184479339296662,
          0.9166279907141268,
          0.9023043160996326,
          0.9047044840225511,
          0.8973022199104601,
          0.9066856418957203,
          0.9066856418957203,
          0.9029116471923991,
          0.9049484984372258,
          0.9150620274961251,
          0.9137091569128287,
          0.9089184449727279,
          0.9033055439733337,
          0.8972252286645698,
          0.8930669610860503,
          0.9122545234919539,
          0.9059669240596391,
          0.9279637558015352,
          0.9293571151243494,
          0.9340822250561176,
          0.9300699675030885,
          0.9327159151725031,
          0.9260536667707263,
          0.9387673587640581,
          0.9484484954190778,
          0.9576472978635271,
          0.9562848033744944,
          0.9445572485150997,
          0.9566959548503289,
          0.9541978394844137,
          0.9564326356779939,
          0.957280222737041,
          0.9555853902960735,
          0.971187051256922,
          0.9719789449443118,
          0.9843523265194183,
          0.9887663394272967,
          0.9957513588214599,
          0.9907454472377055,
          0.9912912195014726,
          0.9827687669293897,
          0.9640174123219478,
          0.9595267498453057,
          0.9612656586356217,
          0.970670093764176,
          0.9412692895245551,
          0.9358925443659207,
          0.9269088276727494,
          0.9187322092991075,
          0.9229887659977501,
          0.913134455985665,
          0.913134455985665,
          0.9080863472767593,
          0.9207979322611429,
          0.9264321311347701,
          0.9374296928129013,
          0.94412485611122,
          0.9069104654451102,
          0.9077886326069999,
          0.9027367085035123,
          0.8986722882424687,
          0.904423682370565,
          0.8952846164771061,
          0.8800517959745651,
          0.8769291517671712,
          0.862751259393416,
          0.8531413054731323,
          0.8494728320557836,
          0.8654724329768996,
          0.8521149643306164,
          0.8375338360011294,
          0.8598496233408301,
          0.8839162212240947,
          0.8826784958325071,
          0.8725632583879741,
          0.8541903111983881,
          0.8514522815433191,
          0.8525109111743112,
          0.8516846219894971,
          0.8758224026074976,
          0.8640463865422947,
          0.8801113047408043,
          0.8899656147528894,
          0.8870502546690464,
          0.8844197394165225,
          0.9062570648864225,
          0.918417012149697,
          0.928246265839155,
          0.9283153415649428,
          0.9339766468239573,
          0.9581333905224915,
          0.9543765366216947,
          0.9520513098819061,
          0.9373144906750048,
          0.9330427862904103,
          0.9447628242530169,
          0.9571187233484723,
          0.9668519657653186,
          0.9479909897463833,
          0.9830204690794159,
          0.9839677119670933,
          0.9778110318205047,
          0.9794502847821905,
          0.9783104498874117,
          0.9780915487415519,
          0.9839045016986478,
          0.9825805028325604,
          0.9941795301461159,
          0.9969772963521752,
          0.9969772963521752,
          1.0014374356721627,
          0.986930052655862,
          0.9870195720630659,
          1.0085148217829192,
          1.00283637572138,
          1.0038529790657842,
          0.9897769064757952,
          0.9795499406108208,
          0.9795960670229296,
          0.9849479836436882,
          0.9760546974967254,
          0.9914661581903594,
          0.9944868117754239,
          0.9903381681026407,
          0.9680587693769369,
          0.9598437123265376,
          0.9550934891259546,
          0.9577816908667085,
          0.9731396221438212,
          0.9629642495249834,
          0.9681086542374399,
          0.9681086542374399,
          0.9692057794913772,
          0.9585389612719227,
          0.9686005554075587,
          0.9664560758678115,
          0.9664560758678115,
          0.9661388856018284,
          0.9700283102277972,
          0.9601241153552093,
          0.9805491184217615,
          0.9772555787048136,
          0.982691889575875,
          0.9905323546030003,
          0.9968580510349457,
          1.0001422515770961,
          1.0001422515770961,
          0.9887199852304367,
          0.9708211150541917,
          0.9634619592062567,
          0.9731106934804246,
          0.9805184813727311,
          0.9835624828947889,
          0.9838505167126241,
          0.9898442168697614,
          0.9906800730141241,
          0.98307058172467,
          0.9938278304903329,
          0.994029647779856,
          0.9928919768402132,
          0.9891620015400527,
          0.9881417536396302,
          0.9958878018874017,
          0.9898325998474525,
          0.9825687719178758,
          0.9875076008924151,
          0.9984896732074678,
          0.9939220194849354,
          0.9950527429896681,
          0.9824805053268033,
          0.9862661739986213,
          0.9862661739986213,
          0.965941168437826,
          0.9634774485693353,
          0.966650262368171,
          0.9568248810194826,
          0.9589290426582754,
          0.9521533574504235,
          0.9523032398166834,
          0.9622668865093228,
          0.9735620489648379,
          0.9747420878681955,
          0.9579776996450772,
          0.9562848033744944,
          0.9404371348823988,
          0.9303717822983686,
          0.9277331237409909,
          0.9375372641616342,
          0.9293492565504345,
          0.9293492565504345,
          0.9293492565504345
         ],
         "yaxis": "y"
        },
        {
         "legendgroup": "^GSPC",
         "line": {
          "color": "rgb(179,205,227)",
          "dash": "solid"
         },
         "marker": {
          "symbol": "circle"
         },
         "mode": "lines",
         "name": "^GSPC",
         "showlegend": true,
         "type": "scattergl",
         "x": [
          "2022-01-25T00:00:00",
          "2022-01-26T00:00:00",
          "2022-01-27T00:00:00",
          "2022-01-28T00:00:00",
          "2022-01-31T00:00:00",
          "2022-02-01T00:00:00",
          "2022-02-02T00:00:00",
          "2022-02-03T00:00:00",
          "2022-02-04T00:00:00",
          "2022-02-07T00:00:00",
          "2022-02-08T00:00:00",
          "2022-02-09T00:00:00",
          "2022-02-10T00:00:00",
          "2022-02-11T00:00:00",
          "2022-02-14T00:00:00",
          "2022-02-15T00:00:00",
          "2022-02-16T00:00:00",
          "2022-02-17T00:00:00",
          "2022-02-18T00:00:00",
          "2022-02-21T00:00:00",
          "2022-02-22T00:00:00",
          "2022-02-23T00:00:00",
          "2022-02-24T00:00:00",
          "2022-02-25T00:00:00",
          "2022-02-28T00:00:00",
          "2022-03-01T00:00:00",
          "2022-03-02T00:00:00",
          "2022-03-03T00:00:00",
          "2022-03-04T00:00:00",
          "2022-03-07T00:00:00",
          "2022-03-08T00:00:00",
          "2022-03-09T00:00:00",
          "2022-03-10T00:00:00",
          "2022-03-11T00:00:00",
          "2022-03-14T00:00:00",
          "2022-03-15T00:00:00",
          "2022-03-16T00:00:00",
          "2022-03-17T00:00:00",
          "2022-03-18T00:00:00",
          "2022-03-21T00:00:00",
          "2022-03-22T00:00:00",
          "2022-03-23T00:00:00",
          "2022-03-24T00:00:00",
          "2022-03-25T00:00:00",
          "2022-03-28T00:00:00",
          "2022-03-29T00:00:00",
          "2022-03-30T00:00:00",
          "2022-03-31T00:00:00",
          "2022-04-01T00:00:00",
          "2022-04-04T00:00:00",
          "2022-04-05T00:00:00",
          "2022-04-06T00:00:00",
          "2022-04-07T00:00:00",
          "2022-04-08T00:00:00",
          "2022-04-11T00:00:00",
          "2022-04-12T00:00:00",
          "2022-04-13T00:00:00",
          "2022-04-14T00:00:00",
          "2022-04-15T00:00:00",
          "2022-04-18T00:00:00",
          "2022-04-19T00:00:00",
          "2022-04-20T00:00:00",
          "2022-04-21T00:00:00",
          "2022-04-22T00:00:00",
          "2022-04-25T00:00:00",
          "2022-04-26T00:00:00",
          "2022-04-27T00:00:00",
          "2022-04-28T00:00:00",
          "2022-04-29T00:00:00",
          "2022-05-02T00:00:00",
          "2022-05-03T00:00:00",
          "2022-05-04T00:00:00",
          "2022-05-05T00:00:00",
          "2022-05-06T00:00:00",
          "2022-05-09T00:00:00",
          "2022-05-10T00:00:00",
          "2022-05-11T00:00:00",
          "2022-05-12T00:00:00",
          "2022-05-13T00:00:00",
          "2022-05-16T00:00:00",
          "2022-05-17T00:00:00",
          "2022-05-18T00:00:00",
          "2022-05-19T00:00:00",
          "2022-05-20T00:00:00",
          "2022-05-23T00:00:00",
          "2022-05-24T00:00:00",
          "2022-05-25T00:00:00",
          "2022-05-26T00:00:00",
          "2022-05-27T00:00:00",
          "2022-05-30T00:00:00",
          "2022-05-31T00:00:00",
          "2022-06-01T00:00:00",
          "2022-06-02T00:00:00",
          "2022-06-03T00:00:00",
          "2022-06-06T00:00:00",
          "2022-06-07T00:00:00",
          "2022-06-08T00:00:00",
          "2022-06-09T00:00:00",
          "2022-06-10T00:00:00",
          "2022-06-13T00:00:00",
          "2022-06-14T00:00:00",
          "2022-06-15T00:00:00",
          "2022-06-16T00:00:00",
          "2022-06-17T00:00:00",
          "2022-06-20T00:00:00",
          "2022-06-21T00:00:00",
          "2022-06-22T00:00:00",
          "2022-06-23T00:00:00",
          "2022-06-24T00:00:00",
          "2022-06-27T00:00:00",
          "2022-06-28T00:00:00",
          "2022-06-29T00:00:00",
          "2022-06-30T00:00:00",
          "2022-07-01T00:00:00",
          "2022-07-04T00:00:00",
          "2022-07-05T00:00:00",
          "2022-07-06T00:00:00",
          "2022-07-07T00:00:00",
          "2022-07-08T00:00:00",
          "2022-07-11T00:00:00",
          "2022-07-12T00:00:00",
          "2022-07-13T00:00:00",
          "2022-07-14T00:00:00",
          "2022-07-15T00:00:00",
          "2022-07-18T00:00:00",
          "2022-07-19T00:00:00",
          "2022-07-20T00:00:00",
          "2022-07-21T00:00:00",
          "2022-07-22T00:00:00",
          "2022-07-25T00:00:00",
          "2022-07-26T00:00:00",
          "2022-07-27T00:00:00",
          "2022-07-28T00:00:00",
          "2022-07-29T00:00:00",
          "2022-08-01T00:00:00",
          "2022-08-02T00:00:00",
          "2022-08-03T00:00:00",
          "2022-08-04T00:00:00",
          "2022-08-05T00:00:00",
          "2022-08-08T00:00:00",
          "2022-08-09T00:00:00",
          "2022-08-10T00:00:00",
          "2022-08-11T00:00:00",
          "2022-08-12T00:00:00",
          "2022-08-15T00:00:00",
          "2022-08-16T00:00:00",
          "2022-08-17T00:00:00",
          "2022-08-18T00:00:00",
          "2022-08-19T00:00:00",
          "2022-08-22T00:00:00",
          "2022-08-23T00:00:00",
          "2022-08-24T00:00:00",
          "2022-08-25T00:00:00",
          "2022-08-26T00:00:00",
          "2022-08-29T00:00:00",
          "2022-08-30T00:00:00",
          "2022-08-31T00:00:00",
          "2022-09-01T00:00:00",
          "2022-09-02T00:00:00",
          "2022-09-05T00:00:00",
          "2022-09-06T00:00:00",
          "2022-09-07T00:00:00",
          "2022-09-08T00:00:00",
          "2022-09-09T00:00:00",
          "2022-09-12T00:00:00",
          "2022-09-13T00:00:00",
          "2022-09-14T00:00:00",
          "2022-09-15T00:00:00",
          "2022-09-16T00:00:00",
          "2022-09-19T00:00:00",
          "2022-09-20T00:00:00",
          "2022-09-21T00:00:00",
          "2022-09-22T00:00:00",
          "2022-09-23T00:00:00",
          "2022-09-26T00:00:00",
          "2022-09-27T00:00:00",
          "2022-09-28T00:00:00",
          "2022-09-29T00:00:00",
          "2022-09-30T00:00:00",
          "2022-10-03T00:00:00",
          "2022-10-04T00:00:00",
          "2022-10-05T00:00:00",
          "2022-10-06T00:00:00",
          "2022-10-07T00:00:00",
          "2022-10-10T00:00:00",
          "2022-10-11T00:00:00",
          "2022-10-12T00:00:00",
          "2022-10-13T00:00:00",
          "2022-10-14T00:00:00",
          "2022-10-17T00:00:00",
          "2022-10-18T00:00:00",
          "2022-10-19T00:00:00",
          "2022-10-20T00:00:00",
          "2022-10-21T00:00:00",
          "2022-10-24T00:00:00",
          "2022-10-25T00:00:00",
          "2022-10-26T00:00:00",
          "2022-10-27T00:00:00",
          "2022-10-28T00:00:00",
          "2022-10-31T00:00:00",
          "2022-11-01T00:00:00",
          "2022-11-02T00:00:00",
          "2022-11-03T00:00:00",
          "2022-11-04T00:00:00",
          "2022-11-07T00:00:00",
          "2022-11-08T00:00:00",
          "2022-11-09T00:00:00",
          "2022-11-10T00:00:00",
          "2022-11-11T00:00:00",
          "2022-11-14T00:00:00",
          "2022-11-15T00:00:00",
          "2022-11-16T00:00:00",
          "2022-11-17T00:00:00",
          "2022-11-18T00:00:00",
          "2022-11-21T00:00:00",
          "2022-11-22T00:00:00",
          "2022-11-23T00:00:00",
          "2022-11-24T00:00:00",
          "2022-11-25T00:00:00",
          "2022-11-28T00:00:00",
          "2022-11-29T00:00:00",
          "2022-11-30T00:00:00",
          "2022-12-01T00:00:00",
          "2022-12-02T00:00:00",
          "2022-12-05T00:00:00",
          "2022-12-06T00:00:00",
          "2022-12-07T00:00:00",
          "2022-12-08T00:00:00",
          "2022-12-09T00:00:00",
          "2022-12-12T00:00:00",
          "2022-12-13T00:00:00",
          "2022-12-14T00:00:00",
          "2022-12-15T00:00:00",
          "2022-12-16T00:00:00",
          "2022-12-19T00:00:00",
          "2022-12-20T00:00:00",
          "2022-12-21T00:00:00",
          "2022-12-22T00:00:00",
          "2022-12-23T00:00:00",
          "2022-12-26T00:00:00",
          "2022-12-27T00:00:00",
          "2022-12-28T00:00:00",
          "2022-12-29T00:00:00",
          "2022-12-30T00:00:00",
          "2023-01-02T00:00:00",
          "2023-01-03T00:00:00",
          "2023-01-04T00:00:00",
          "2023-01-05T00:00:00",
          "2023-01-06T00:00:00",
          "2023-01-09T00:00:00",
          "2023-01-10T00:00:00",
          "2023-01-11T00:00:00",
          "2023-01-12T00:00:00",
          "2023-01-13T00:00:00",
          "2023-01-16T00:00:00",
          "2023-01-17T00:00:00",
          "2023-01-18T00:00:00",
          "2023-01-19T00:00:00",
          "2023-01-20T00:00:00",
          "2023-01-23T00:00:00",
          "2023-01-24T00:00:00",
          "2023-01-25T00:00:00",
          "2023-01-26T00:00:00",
          "2023-01-27T00:00:00",
          "2023-01-30T00:00:00",
          "2023-01-31T00:00:00",
          "2023-02-01T00:00:00",
          "2023-02-02T00:00:00",
          "2023-02-03T00:00:00",
          "2023-02-06T00:00:00",
          "2023-02-07T00:00:00",
          "2023-02-08T00:00:00",
          "2023-02-09T00:00:00",
          "2023-02-10T00:00:00",
          "2023-02-13T00:00:00",
          "2023-02-14T00:00:00",
          "2023-02-15T00:00:00",
          "2023-02-16T00:00:00",
          "2023-02-17T00:00:00",
          "2023-02-20T00:00:00",
          "2023-02-21T00:00:00",
          "2023-02-22T00:00:00",
          "2023-02-23T00:00:00",
          "2023-02-24T00:00:00",
          "2023-02-27T00:00:00",
          "2023-02-28T00:00:00",
          "2023-03-01T00:00:00",
          "2023-03-02T00:00:00",
          "2023-03-03T00:00:00",
          "2023-03-06T00:00:00",
          "2023-03-07T00:00:00",
          "2023-03-08T00:00:00",
          "2023-03-09T00:00:00",
          "2023-03-10T00:00:00",
          "2023-03-13T00:00:00",
          "2023-03-14T00:00:00",
          "2023-03-15T00:00:00",
          "2023-03-16T00:00:00",
          "2023-03-17T00:00:00"
         ],
         "xaxis": "x",
         "y": [
          1,
          0.9985033641522482,
          0.9931273334147799,
          1.0173076470436595,
          1.0365204701631134,
          1.0436341138375769,
          1.0534677723965788,
          1.0277725534941118,
          1.0330727044690602,
          1.029248566186319,
          1.0378954966425726,
          1.0529628413328387,
          1.033887655360171,
          1.0142753706844085,
          1.0103799480161981,
          1.0263103269330565,
          1.0272147195531052,
          1.005465360384039,
          0.9982600333332959,
          0.9982600333332959,
          0.9881347364551262,
          0.9699410782996208,
          0.9844483474015384,
          1.0064730929465446,
          1.004014678306794,
          0.9884790534868264,
          1.0069069637895496,
          1.0016160035687025,
          0.9936691395772925,
          0.9643378566040612,
          0.9573620742411183,
          0.9819646021468257,
          0.9777501930618773,
          0.9650770398150192,
          0.9579152007227071,
          0.978422799346784,
          1.0003235817937886,
          1.0126753948941998,
          1.0244855139144655,
          1.0240402106700173,
          1.035616077543065,
          1.0229062733621683,
          1.0375787518731765,
          1.042835302807327,
          1.0502863144067311,
          1.0631591984317434,
          1.0564679931988419,
          1.0399315849231283,
          1.0434779831002208,
          1.0519206994836365,
          1.038717284558076,
          1.028624155319261,
          1.0329992905186163,
          1.0302607820435081,
          1.0128727719426451,
          1.009411332199807,
          1.020691077459003,
          1.0082956643177938,
          1.0082956643177938,
          1.0080890965152471,
          1.02427659238221,
          1.0236431028434176,
          1.008541348866455,
          0.9805643571347712,
          0.9861515510518369,
          0.9583950253362191,
          0.9604057830018123,
          0.9841728489432314,
          0.948462622211811,
          0.9538453778913047,
          0.9584592485325616,
          0.9870811622044808,
          0.9518920063976615,
          0.9464907571275979,
          0.9161679374939056,
          0.9184197843311093,
          0.9032996488459439,
          0.9021290045628731,
          0.9236625491341077,
          0.9200174063916091,
          0.9385738191282009,
          0.9006598849362419,
          0.8954056316906168,
          0.8955364878541943,
          0.9121532031459278,
          0.9047457915873217,
          0.913296331207878,
          0.9314556361178703,
          0.9545019563977175,
          0.9545019563977175,
          0.9485130592770015,
          0.941415555463399,
          0.9587668025478564,
          0.9430935405811023,
          0.9460524029899092,
          0.9550620319860659,
          0.9447531441906027,
          0.9222692532288128,
          0.8954217155102943,
          0.8607076208163855,
          0.8574595859004865,
          0.8699720690741212,
          0.8416875793683262,
          0.843540020690405,
          0.843540020690405,
          0.8641875541497936,
          0.8630627515548627,
          0.8712896533404468,
          0.8979191348137919,
          0.8952495569944441,
          0.8772165128709786,
          0.8765921580451042,
          0.8689138434052417,
          0.8780841985158053,
          0.8780841985158053,
          0.8794751967325748,
          0.8826177060998587,
          0.8958257164024699,
          0.8950819378144611,
          0.8847639153060801,
          0.8765852649795282,
          0.8726784099098746,
          0.8700615668442425,
          0.8867678359472809,
          0.8793512896757569,
          0.9036462635661695,
          0.9089739868034221,
          0.9179377180702555,
          0.9093710946300217,
          0.9105670695280548,
          0.9000562093070956,
          0.9235983259377651,
          0.9348046572465173,
          0.948086137540756,
          0.9454096106146485,
          0.9391109178312959,
          0.9537971824734561,
          0.9530557576151563,
          0.951506330972505,
          0.9503287936238582,
          0.9462911384318108,
          0.9664382801633264,
          0.9657564831243184,
          0.9824856730714268,
          0.9863856911166878,
          0.9882358347502412,
          0.9810831864120305,
          0.9833098147166389,
          0.9706251169859706,
          0.9498536764697642,
          0.9477280343779036,
          0.9504917613856071,
          0.9638857163352205,
          0.9314142777244141,
          0.9252051387523663,
          0.9150018325467019,
          0.9078492402496747,
          0.9105693672165801,
          0.9007930387883448,
          0.9007930387883448,
          0.8971042399638647,
          0.913558043535033,
          0.919597321679756,
          0.9336409060290226,
          0.9435228160470567,
          0.9027280848149688,
          0.9057856357479985,
          0.8955341901656689,
          0.8891023435302134,
          0.8951990078468866,
          0.8851082323377804,
          0.8699582829429692,
          0.8626266390645158,
          0.8477613228409293,
          0.8389950246637249,
          0.8372160533332735,
          0.8536858846829358,
          0.835650542870945,
          0.8230600503698158,
          0.8443640502532501,
          0.8701878276307693,
          0.8684318331855714,
          0.8595346788447895,
          0.8354645982239428,
          0.8292049101043375,
          0.8237991775395903,
          0.8210882413267863,
          0.8424083250298979,
          0.8224747002076886,
          0.8442538732864007,
          0.853901643239584,
          0.8482043283968522,
          0.8414603323690514,
          0.8614238271420902,
          0.8716592449459258,
          0.885838224794637,
          0.8792939035038069,
          0.8739455010698262,
          0.8954676132396175,
          0.8887924357852098,
          0.8851472930427112,
          0.8630168538255393,
          0.8538809640428559,
          0.86550973379317,
          0.8738307287259262,
          0.8787223394728318,
          0.8604643460386169,
          0.908163743371729,
          0.9165558545664038,
          0.908365715797225,
          0.9162804121492802,
          0.9087192235830267,
          0.9059118965345253,
          0.9102227524963545,
          0.9066877306795218,
          0.9190005391161857,
          0.9244361416317624,
          0.9244361416317624,
          0.9241744853457909,
          0.9099013563087242,
          0.908452915878821,
          0.9365676007984748,
          0.9357550036370728,
          0.9346370941077179,
          0.9179124995376602,
          0.9046952984809477,
          0.9030104202976683,
          0.9098026677845015,
          0.9031160018874671,
          0.9160118627977328,
          0.9226892818994823,
          0.9171044977533089,
          0.8942487174975146,
          0.8842887981519859,
          0.8763235526523732,
          0.877232596690656,
          0.8902752855018096,
          0.8774092945423733,
          0.8825580222393833,
          0.8825580222393833,
          0.8789839957588033,
          0.8684180470544194,
          0.8835817825803827,
          0.881336828808755,
          0.881336828808755,
          0.8778109977460236,
          0.8844287890284812,
          0.874129148028303,
          0.8940949404898672,
          0.893408604114992,
          0.8996430176608186,
          0.911202912796556,
          0.9143154961718267,
          0.9179698857096102,
          0.9179698857096102,
          0.9161059559449047,
          0.901848966768699,
          0.8949603284461686,
          0.9118915468599564,
          0.9227260449158878,
          0.9220695224506585,
          0.9219019593118591,
          0.9320501209929153,
          0.9343754378217465,
          0.922257764786186,
          0.9357618967026489,
          0.9455427644667513,
          0.9594416504801048,
          0.949507005708355,
          0.9436765930547041,
          0.9558240799999104,
          0.9452328567217477,
          0.9368866432563963,
          0.9389433546924965,
          0.9496929503553572,
          0.9494266426511515,
          0.952059569536461,
          0.9389318662498697,
          0.9363334607336239,
          0.9363334607336239,
          0.91756818250596,
          0.9161243374531075,
          0.9210067574459119,
          0.9113016013207786,
          0.914102035303704,
          0.9113268198533738,
          0.9070205592685953,
          0.9138977651896826,
          0.9286551460937614,
          0.9292932870507878,
          0.9150500840057342,
          0.9163446913868063,
          0.8994295567926958,
          0.8864074911370868,
          0.8850692276740331,
          0.89965220841492,
          0.8933718410985866,
          0.8933718410985866,
          0.8933718410985866
         ],
         "yaxis": "y"
        },
        {
         "legendgroup": "^IXIC",
         "line": {
          "color": "rgb(204,235,197)",
          "dash": "solid"
         },
         "marker": {
          "symbol": "circle"
         },
         "mode": "lines",
         "name": "^IXIC",
         "showlegend": true,
         "type": "scattergl",
         "x": [
          "2022-01-25T00:00:00",
          "2022-01-26T00:00:00",
          "2022-01-27T00:00:00",
          "2022-01-28T00:00:00",
          "2022-01-31T00:00:00",
          "2022-02-01T00:00:00",
          "2022-02-02T00:00:00",
          "2022-02-03T00:00:00",
          "2022-02-04T00:00:00",
          "2022-02-07T00:00:00",
          "2022-02-08T00:00:00",
          "2022-02-09T00:00:00",
          "2022-02-10T00:00:00",
          "2022-02-11T00:00:00",
          "2022-02-14T00:00:00",
          "2022-02-15T00:00:00",
          "2022-02-16T00:00:00",
          "2022-02-17T00:00:00",
          "2022-02-18T00:00:00",
          "2022-02-21T00:00:00",
          "2022-02-22T00:00:00",
          "2022-02-23T00:00:00",
          "2022-02-24T00:00:00",
          "2022-02-25T00:00:00",
          "2022-02-28T00:00:00",
          "2022-03-01T00:00:00",
          "2022-03-02T00:00:00",
          "2022-03-03T00:00:00",
          "2022-03-04T00:00:00",
          "2022-03-07T00:00:00",
          "2022-03-08T00:00:00",
          "2022-03-09T00:00:00",
          "2022-03-10T00:00:00",
          "2022-03-11T00:00:00",
          "2022-03-14T00:00:00",
          "2022-03-15T00:00:00",
          "2022-03-16T00:00:00",
          "2022-03-17T00:00:00",
          "2022-03-18T00:00:00",
          "2022-03-21T00:00:00",
          "2022-03-22T00:00:00",
          "2022-03-23T00:00:00",
          "2022-03-24T00:00:00",
          "2022-03-25T00:00:00",
          "2022-03-28T00:00:00",
          "2022-03-29T00:00:00",
          "2022-03-30T00:00:00",
          "2022-03-31T00:00:00",
          "2022-04-01T00:00:00",
          "2022-04-04T00:00:00",
          "2022-04-05T00:00:00",
          "2022-04-06T00:00:00",
          "2022-04-07T00:00:00",
          "2022-04-08T00:00:00",
          "2022-04-11T00:00:00",
          "2022-04-12T00:00:00",
          "2022-04-13T00:00:00",
          "2022-04-14T00:00:00",
          "2022-04-15T00:00:00",
          "2022-04-18T00:00:00",
          "2022-04-19T00:00:00",
          "2022-04-20T00:00:00",
          "2022-04-21T00:00:00",
          "2022-04-22T00:00:00",
          "2022-04-25T00:00:00",
          "2022-04-26T00:00:00",
          "2022-04-27T00:00:00",
          "2022-04-28T00:00:00",
          "2022-04-29T00:00:00",
          "2022-05-02T00:00:00",
          "2022-05-03T00:00:00",
          "2022-05-04T00:00:00",
          "2022-05-05T00:00:00",
          "2022-05-06T00:00:00",
          "2022-05-09T00:00:00",
          "2022-05-10T00:00:00",
          "2022-05-11T00:00:00",
          "2022-05-12T00:00:00",
          "2022-05-13T00:00:00",
          "2022-05-16T00:00:00",
          "2022-05-17T00:00:00",
          "2022-05-18T00:00:00",
          "2022-05-19T00:00:00",
          "2022-05-20T00:00:00",
          "2022-05-23T00:00:00",
          "2022-05-24T00:00:00",
          "2022-05-25T00:00:00",
          "2022-05-26T00:00:00",
          "2022-05-27T00:00:00",
          "2022-05-30T00:00:00",
          "2022-05-31T00:00:00",
          "2022-06-01T00:00:00",
          "2022-06-02T00:00:00",
          "2022-06-03T00:00:00",
          "2022-06-06T00:00:00",
          "2022-06-07T00:00:00",
          "2022-06-08T00:00:00",
          "2022-06-09T00:00:00",
          "2022-06-10T00:00:00",
          "2022-06-13T00:00:00",
          "2022-06-14T00:00:00",
          "2022-06-15T00:00:00",
          "2022-06-16T00:00:00",
          "2022-06-17T00:00:00",
          "2022-06-20T00:00:00",
          "2022-06-21T00:00:00",
          "2022-06-22T00:00:00",
          "2022-06-23T00:00:00",
          "2022-06-24T00:00:00",
          "2022-06-27T00:00:00",
          "2022-06-28T00:00:00",
          "2022-06-29T00:00:00",
          "2022-06-30T00:00:00",
          "2022-07-01T00:00:00",
          "2022-07-04T00:00:00",
          "2022-07-05T00:00:00",
          "2022-07-06T00:00:00",
          "2022-07-07T00:00:00",
          "2022-07-08T00:00:00",
          "2022-07-11T00:00:00",
          "2022-07-12T00:00:00",
          "2022-07-13T00:00:00",
          "2022-07-14T00:00:00",
          "2022-07-15T00:00:00",
          "2022-07-18T00:00:00",
          "2022-07-19T00:00:00",
          "2022-07-20T00:00:00",
          "2022-07-21T00:00:00",
          "2022-07-22T00:00:00",
          "2022-07-25T00:00:00",
          "2022-07-26T00:00:00",
          "2022-07-27T00:00:00",
          "2022-07-28T00:00:00",
          "2022-07-29T00:00:00",
          "2022-08-01T00:00:00",
          "2022-08-02T00:00:00",
          "2022-08-03T00:00:00",
          "2022-08-04T00:00:00",
          "2022-08-05T00:00:00",
          "2022-08-08T00:00:00",
          "2022-08-09T00:00:00",
          "2022-08-10T00:00:00",
          "2022-08-11T00:00:00",
          "2022-08-12T00:00:00",
          "2022-08-15T00:00:00",
          "2022-08-16T00:00:00",
          "2022-08-17T00:00:00",
          "2022-08-18T00:00:00",
          "2022-08-19T00:00:00",
          "2022-08-22T00:00:00",
          "2022-08-23T00:00:00",
          "2022-08-24T00:00:00",
          "2022-08-25T00:00:00",
          "2022-08-26T00:00:00",
          "2022-08-29T00:00:00",
          "2022-08-30T00:00:00",
          "2022-08-31T00:00:00",
          "2022-09-01T00:00:00",
          "2022-09-02T00:00:00",
          "2022-09-05T00:00:00",
          "2022-09-06T00:00:00",
          "2022-09-07T00:00:00",
          "2022-09-08T00:00:00",
          "2022-09-09T00:00:00",
          "2022-09-12T00:00:00",
          "2022-09-13T00:00:00",
          "2022-09-14T00:00:00",
          "2022-09-15T00:00:00",
          "2022-09-16T00:00:00",
          "2022-09-19T00:00:00",
          "2022-09-20T00:00:00",
          "2022-09-21T00:00:00",
          "2022-09-22T00:00:00",
          "2022-09-23T00:00:00",
          "2022-09-26T00:00:00",
          "2022-09-27T00:00:00",
          "2022-09-28T00:00:00",
          "2022-09-29T00:00:00",
          "2022-09-30T00:00:00",
          "2022-10-03T00:00:00",
          "2022-10-04T00:00:00",
          "2022-10-05T00:00:00",
          "2022-10-06T00:00:00",
          "2022-10-07T00:00:00",
          "2022-10-10T00:00:00",
          "2022-10-11T00:00:00",
          "2022-10-12T00:00:00",
          "2022-10-13T00:00:00",
          "2022-10-14T00:00:00",
          "2022-10-17T00:00:00",
          "2022-10-18T00:00:00",
          "2022-10-19T00:00:00",
          "2022-10-20T00:00:00",
          "2022-10-21T00:00:00",
          "2022-10-24T00:00:00",
          "2022-10-25T00:00:00",
          "2022-10-26T00:00:00",
          "2022-10-27T00:00:00",
          "2022-10-28T00:00:00",
          "2022-10-31T00:00:00",
          "2022-11-01T00:00:00",
          "2022-11-02T00:00:00",
          "2022-11-03T00:00:00",
          "2022-11-04T00:00:00",
          "2022-11-07T00:00:00",
          "2022-11-08T00:00:00",
          "2022-11-09T00:00:00",
          "2022-11-10T00:00:00",
          "2022-11-11T00:00:00",
          "2022-11-14T00:00:00",
          "2022-11-15T00:00:00",
          "2022-11-16T00:00:00",
          "2022-11-17T00:00:00",
          "2022-11-18T00:00:00",
          "2022-11-21T00:00:00",
          "2022-11-22T00:00:00",
          "2022-11-23T00:00:00",
          "2022-11-24T00:00:00",
          "2022-11-25T00:00:00",
          "2022-11-28T00:00:00",
          "2022-11-29T00:00:00",
          "2022-11-30T00:00:00",
          "2022-12-01T00:00:00",
          "2022-12-02T00:00:00",
          "2022-12-05T00:00:00",
          "2022-12-06T00:00:00",
          "2022-12-07T00:00:00",
          "2022-12-08T00:00:00",
          "2022-12-09T00:00:00",
          "2022-12-12T00:00:00",
          "2022-12-13T00:00:00",
          "2022-12-14T00:00:00",
          "2022-12-15T00:00:00",
          "2022-12-16T00:00:00",
          "2022-12-19T00:00:00",
          "2022-12-20T00:00:00",
          "2022-12-21T00:00:00",
          "2022-12-22T00:00:00",
          "2022-12-23T00:00:00",
          "2022-12-26T00:00:00",
          "2022-12-27T00:00:00",
          "2022-12-28T00:00:00",
          "2022-12-29T00:00:00",
          "2022-12-30T00:00:00",
          "2023-01-02T00:00:00",
          "2023-01-03T00:00:00",
          "2023-01-04T00:00:00",
          "2023-01-05T00:00:00",
          "2023-01-06T00:00:00",
          "2023-01-09T00:00:00",
          "2023-01-10T00:00:00",
          "2023-01-11T00:00:00",
          "2023-01-12T00:00:00",
          "2023-01-13T00:00:00",
          "2023-01-16T00:00:00",
          "2023-01-17T00:00:00",
          "2023-01-18T00:00:00",
          "2023-01-19T00:00:00",
          "2023-01-20T00:00:00",
          "2023-01-23T00:00:00",
          "2023-01-24T00:00:00",
          "2023-01-25T00:00:00",
          "2023-01-26T00:00:00",
          "2023-01-27T00:00:00",
          "2023-01-30T00:00:00",
          "2023-01-31T00:00:00",
          "2023-02-01T00:00:00",
          "2023-02-02T00:00:00",
          "2023-02-03T00:00:00",
          "2023-02-06T00:00:00",
          "2023-02-07T00:00:00",
          "2023-02-08T00:00:00",
          "2023-02-09T00:00:00",
          "2023-02-10T00:00:00",
          "2023-02-13T00:00:00",
          "2023-02-14T00:00:00",
          "2023-02-15T00:00:00",
          "2023-02-16T00:00:00",
          "2023-02-17T00:00:00",
          "2023-02-20T00:00:00",
          "2023-02-21T00:00:00",
          "2023-02-22T00:00:00",
          "2023-02-23T00:00:00",
          "2023-02-24T00:00:00",
          "2023-02-27T00:00:00",
          "2023-02-28T00:00:00",
          "2023-03-01T00:00:00",
          "2023-03-02T00:00:00",
          "2023-03-03T00:00:00",
          "2023-03-06T00:00:00",
          "2023-03-07T00:00:00",
          "2023-03-08T00:00:00",
          "2023-03-09T00:00:00",
          "2023-03-10T00:00:00",
          "2023-03-13T00:00:00",
          "2023-03-14T00:00:00",
          "2023-03-15T00:00:00",
          "2023-03-16T00:00:00",
          "2023-03-17T00:00:00"
         ],
         "xaxis": "x",
         "y": [
          1,
          1.0002090270698711,
          0.9862245534967568,
          1.0170821566544648,
          1.0517449468715652,
          1.0595828849673834,
          1.0648674903256459,
          1.0250774060130121,
          1.0412665453617231,
          1.035184997251561,
          1.0483895502910259,
          1.0702459342684156,
          1.0477388110831662,
          1.0186021830417882,
          1.018585160823538,
          1.044350163474604,
          1.0431927968896657,
          1.013104799955396,
          1.000648503238513,
          1.000648503238513,
          0.9883472096869693,
          0.9629375097778579,
          0.9951474416219058,
          1.0114725423324897,
          1.0156662831618597,
          0.9994955364642242,
          1.0157120123413967,
          0.9999003190439745,
          0.9833189473950704,
          0.9476833662561788,
          0.9450680034012701,
          0.9790431969803162,
          0.9697672420825588,
          0.9486324270516804,
          0.9292377731966853,
          0.9563736414412539,
          0.9924116970625061,
          1.0055756420135178,
          1.0261867353210234,
          1.0220964261059375,
          1.0420650028025351,
          1.0283109062001483,
          1.0481967520309274,
          1.0465319646604323,
          1.0602402599552387,
          1.0797936676338316,
          1.066693267489085,
          1.0503150084104904,
          1.0533417896251456,
          1.0733612887204074,
          1.0491074407073222,
          1.0258159971777738,
          1.0264422849789094,
          1.0126823460050043,
          0.9905955129288436,
          0.987612369180466,
          1.0077034914228578,
          0.9860989785731386,
          0.9860989785731386,
          0.9847163561085565,
          1.0059360658465564,
          0.9936318871732753,
          0.9730680377342187,
          0.9482986184666689,
          0.9605267020541274,
          0.9225550378445024,
          0.9224213124519762,
          0.9506798536925916,
          0.9110255864857436,
          0.925899326706353,
          0.9279481959081328,
          0.9575731308035577,
          0.9097737321639069,
          0.8969938690441801,
          0.8584829755818443,
          0.8669339299188061,
          0.8393527431340775,
          0.8398490562009453,
          0.8719068700013913,
          0.8614033679324344,
          0.8851660239697356,
          0.8433344996437957,
          0.8411445479890594,
          0.8386422097782114,
          0.8519848158928085,
          0.831982339015797,
          0.8445598108456487,
          0.8671540647073661,
          0.8959945350024051,
          0.8959945350024051,
          0.8923207652381492,
          0.8859002153238481,
          0.909715380576769,
          0.8872496588884506,
          0.8908421403477567,
          0.8992517653158311,
          0.8926811890711878,
          0.8681570772793562,
          0.8375638234008329,
          0.7983602122093592,
          0.7997723350437056,
          0.8197734414878919,
          0.7863115110659205,
          0.79755656154942,
          0.79755656154942,
          0.8175687035842516,
          0.81637072891086,
          0.8295996612290056,
          0.8573285662466867,
          0.8511930663600359,
          0.8258586681282694,
          0.8255890535019139,
          0.8145730095563166,
          0.8218931404283237,
          0.8218931404283237,
          0.8362506602420776,
          0.8391761736837515,
          0.8583426144093221,
          0.859373684790208,
          0.8399701591858706,
          0.8320030397642625,
          0.8307363270654785,
          0.8310029844420531,
          0.8458656169439738,
          0.8390432416997031,
          0.865122939004271,
          0.8787499459941275,
          0.8907121656134891,
          0.8740569348481088,
          0.8702575901602346,
          0.8540012274750431,
          0.8887039045001623,
          0.8983181399216242,
          0.9151654476666686,
          0.9135619691330923,
          0.9120684858657525,
          0.9356591165194641,
          0.9395308056349024,
          0.9348754453275562,
          0.9339086410333698,
          0.9227906080343572,
          0.9494441560524841,
          0.943912872785678,
          0.9636539576332855,
          0.9696261596296023,
          0.9677427521594595,
          0.9555981207182539,
          0.9576085456728836,
          0.9383963036397326,
          0.9144918438690406,
          0.9144718644010095,
          0.9181818424430691,
          0.9335252804825193,
          0.8967759702249667,
          0.8876144825321386,
          0.877678195396745,
          0.8727341065315334,
          0.8704392807016443,
          0.8590450694243237,
          0.8590450694243237,
          0.8526968639375867,
          0.8709393444267707,
          0.8761264326703108,
          0.8946044833493494,
          0.9059862164751559,
          0.8592452247448524,
          0.8656051871026691,
          0.853247128780943,
          0.8455687379172003,
          0.8519663511136895,
          0.8438440842706553,
          0.8287133518312914,
          0.8173847770734955,
          0.8026956846440766,
          0.7978941207926901,
          0.7998573018788706,
          0.8162643400467953,
          0.7930629844434958,
          0.7811059580432614,
          0.7988180810290768,
          0.8254797795161117,
          0.8234286743449855,
          0.8178648613305908,
          0.7867768812021552,
          0.778630162952397,
          0.7700692133491986,
          0.7693977733928736,
          0.7865368390736076,
          0.7623287202400595,
          0.7885051412508719,
          0.7956399751792977,
          0.788853014804353,
          0.7840026923956053,
          0.8020893041829288,
          0.8089501236743497,
          0.8271571171661641,
          0.8103076455798168,
          0.7971370648488092,
          0.8200171621466547,
          0.8115750795590351,
          0.8043885298234673,
          0.7773524146629677,
          0.763920441902556,
          0.7736927098671813,
          0.7802860785735497,
          0.7841031667601085,
          0.7646759831575248,
          0.8208813282350347,
          0.8363311551385497,
          0.8269428968771658,
          0.8389221387147778,
          0.8260152581105641,
          0.8231568958773269,
          0.8232381120542334,
          0.8142605508721615,
          0.8253320612831594,
          0.8335237874320203,
          0.8335237874320203,
          0.829169056809706,
          0.8161063075036318,
          0.811252306564669,
          0.8470163477489162,
          0.8480836264076058,
          0.846536263491821,
          0.8301720693816961,
          0.8135500175162953,
          0.8093888064345139,
          0.8185067287891079,
          0.8127915190115458,
          0.8230668079510781,
          0.8314180092039711,
          0.8250720396865806,
          0.7984562146351695,
          0.7906921356558275,
          0.778920478327218,
          0.7790002519432557,
          0.7909846148719515,
          0.7737569759538807,
          0.7753626904568035,
          0.7753626904568035,
          0.7646804550962177,
          0.754344578600201,
          0.7739024582174867,
          0.7730450000371459,
          0.7730450000371459,
          0.7671732002772891,
          0.7724747557257585,
          0.7611359387857951,
          0.7806384240657237,
          0.7855397410011791,
          0.793441151775219,
          0.8074034820389993,
          0.812531497414967,
          0.8182969804388025,
          0.8182969804388025,
          0.8194750477722064,
          0.8092750605100189,
          0.8015390393395726,
          0.8228222938838377,
          0.839365293413635,
          0.8371391334810948,
          0.8355947999431342,
          0.8502964426521107,
          0.8583692296573492,
          0.8415367081612087,
          0.8556246133486072,
          0.8727429782808757,
          0.9011418085659697,
          0.8868227329993661,
          0.8779965685804617,
          0.894713829463195,
          0.8797004493504977,
          0.870767968195572,
          0.8654899986173054,
          0.8783171056054814,
          0.8833661407738892,
          0.891523101205815,
          0.8756611346621195,
          0.8705973132448077,
          0.8705973132448077,
          0.8488111098536789,
          0.8499020465106147,
          0.8560567324568189,
          0.8416202324355051,
          0.8469410460715714,
          0.8460960660427447,
          0.8404783733799049,
          0.8466456096056666,
          0.8633399337705879,
          0.8623598579164098,
          0.8516199922491204,
          0.8549931323283445,
          0.8374404844465612,
          0.8227085479593426,
          0.8263978252529368,
          0.8440730908085575,
          0.8445088163189409,
          0.8632611699471583,
          0.8632611699471583
         ],
         "yaxis": "y"
        }
       ],
       "layout": {
        "hovermode": "x",
        "legend": {
         "title": {
          "text": "ROI"
         },
         "tracegroupgap": 0
        },
        "margin": {
         "t": 60
        },
        "template": {
         "data": {
          "bar": [
           {
            "error_x": {
             "color": "#2a3f5f"
            },
            "error_y": {
             "color": "#2a3f5f"
            },
            "marker": {
             "line": {
              "color": "#E5ECF6",
              "width": 0.5
             },
             "pattern": {
              "fillmode": "overlay",
              "size": 10,
              "solidity": 0.2
             }
            },
            "type": "bar"
           }
          ],
          "barpolar": [
           {
            "marker": {
             "line": {
              "color": "#E5ECF6",
              "width": 0.5
             },
             "pattern": {
              "fillmode": "overlay",
              "size": 10,
              "solidity": 0.2
             }
            },
            "type": "barpolar"
           }
          ],
          "carpet": [
           {
            "aaxis": {
             "endlinecolor": "#2a3f5f",
             "gridcolor": "white",
             "linecolor": "white",
             "minorgridcolor": "white",
             "startlinecolor": "#2a3f5f"
            },
            "baxis": {
             "endlinecolor": "#2a3f5f",
             "gridcolor": "white",
             "linecolor": "white",
             "minorgridcolor": "white",
             "startlinecolor": "#2a3f5f"
            },
            "type": "carpet"
           }
          ],
          "choropleth": [
           {
            "colorbar": {
             "outlinewidth": 0,
             "ticks": ""
            },
            "type": "choropleth"
           }
          ],
          "contour": [
           {
            "colorbar": {
             "outlinewidth": 0,
             "ticks": ""
            },
            "colorscale": [
             [
              0,
              "#0d0887"
             ],
             [
              0.1111111111111111,
              "#46039f"
             ],
             [
              0.2222222222222222,
              "#7201a8"
             ],
             [
              0.3333333333333333,
              "#9c179e"
             ],
             [
              0.4444444444444444,
              "#bd3786"
             ],
             [
              0.5555555555555556,
              "#d8576b"
             ],
             [
              0.6666666666666666,
              "#ed7953"
             ],
             [
              0.7777777777777778,
              "#fb9f3a"
             ],
             [
              0.8888888888888888,
              "#fdca26"
             ],
             [
              1,
              "#f0f921"
             ]
            ],
            "type": "contour"
           }
          ],
          "contourcarpet": [
           {
            "colorbar": {
             "outlinewidth": 0,
             "ticks": ""
            },
            "type": "contourcarpet"
           }
          ],
          "heatmap": [
           {
            "colorbar": {
             "outlinewidth": 0,
             "ticks": ""
            },
            "colorscale": [
             [
              0,
              "#0d0887"
             ],
             [
              0.1111111111111111,
              "#46039f"
             ],
             [
              0.2222222222222222,
              "#7201a8"
             ],
             [
              0.3333333333333333,
              "#9c179e"
             ],
             [
              0.4444444444444444,
              "#bd3786"
             ],
             [
              0.5555555555555556,
              "#d8576b"
             ],
             [
              0.6666666666666666,
              "#ed7953"
             ],
             [
              0.7777777777777778,
              "#fb9f3a"
             ],
             [
              0.8888888888888888,
              "#fdca26"
             ],
             [
              1,
              "#f0f921"
             ]
            ],
            "type": "heatmap"
           }
          ],
          "heatmapgl": [
           {
            "colorbar": {
             "outlinewidth": 0,
             "ticks": ""
            },
            "colorscale": [
             [
              0,
              "#0d0887"
             ],
             [
              0.1111111111111111,
              "#46039f"
             ],
             [
              0.2222222222222222,
              "#7201a8"
             ],
             [
              0.3333333333333333,
              "#9c179e"
             ],
             [
              0.4444444444444444,
              "#bd3786"
             ],
             [
              0.5555555555555556,
              "#d8576b"
             ],
             [
              0.6666666666666666,
              "#ed7953"
             ],
             [
              0.7777777777777778,
              "#fb9f3a"
             ],
             [
              0.8888888888888888,
              "#fdca26"
             ],
             [
              1,
              "#f0f921"
             ]
            ],
            "type": "heatmapgl"
           }
          ],
          "histogram": [
           {
            "marker": {
             "pattern": {
              "fillmode": "overlay",
              "size": 10,
              "solidity": 0.2
             }
            },
            "type": "histogram"
           }
          ],
          "histogram2d": [
           {
            "colorbar": {
             "outlinewidth": 0,
             "ticks": ""
            },
            "colorscale": [
             [
              0,
              "#0d0887"
             ],
             [
              0.1111111111111111,
              "#46039f"
             ],
             [
              0.2222222222222222,
              "#7201a8"
             ],
             [
              0.3333333333333333,
              "#9c179e"
             ],
             [
              0.4444444444444444,
              "#bd3786"
             ],
             [
              0.5555555555555556,
              "#d8576b"
             ],
             [
              0.6666666666666666,
              "#ed7953"
             ],
             [
              0.7777777777777778,
              "#fb9f3a"
             ],
             [
              0.8888888888888888,
              "#fdca26"
             ],
             [
              1,
              "#f0f921"
             ]
            ],
            "type": "histogram2d"
           }
          ],
          "histogram2dcontour": [
           {
            "colorbar": {
             "outlinewidth": 0,
             "ticks": ""
            },
            "colorscale": [
             [
              0,
              "#0d0887"
             ],
             [
              0.1111111111111111,
              "#46039f"
             ],
             [
              0.2222222222222222,
              "#7201a8"
             ],
             [
              0.3333333333333333,
              "#9c179e"
             ],
             [
              0.4444444444444444,
              "#bd3786"
             ],
             [
              0.5555555555555556,
              "#d8576b"
             ],
             [
              0.6666666666666666,
              "#ed7953"
             ],
             [
              0.7777777777777778,
              "#fb9f3a"
             ],
             [
              0.8888888888888888,
              "#fdca26"
             ],
             [
              1,
              "#f0f921"
             ]
            ],
            "type": "histogram2dcontour"
           }
          ],
          "mesh3d": [
           {
            "colorbar": {
             "outlinewidth": 0,
             "ticks": ""
            },
            "type": "mesh3d"
           }
          ],
          "parcoords": [
           {
            "line": {
             "colorbar": {
              "outlinewidth": 0,
              "ticks": ""
             }
            },
            "type": "parcoords"
           }
          ],
          "pie": [
           {
            "automargin": true,
            "type": "pie"
           }
          ],
          "scatter": [
           {
            "fillpattern": {
             "fillmode": "overlay",
             "size": 10,
             "solidity": 0.2
            },
            "type": "scatter"
           }
          ],
          "scatter3d": [
           {
            "line": {
             "colorbar": {
              "outlinewidth": 0,
              "ticks": ""
             }
            },
            "marker": {
             "colorbar": {
              "outlinewidth": 0,
              "ticks": ""
             }
            },
            "type": "scatter3d"
           }
          ],
          "scattercarpet": [
           {
            "marker": {
             "colorbar": {
              "outlinewidth": 0,
              "ticks": ""
             }
            },
            "type": "scattercarpet"
           }
          ],
          "scattergeo": [
           {
            "marker": {
             "colorbar": {
              "outlinewidth": 0,
              "ticks": ""
             }
            },
            "type": "scattergeo"
           }
          ],
          "scattergl": [
           {
            "marker": {
             "colorbar": {
              "outlinewidth": 0,
              "ticks": ""
             }
            },
            "type": "scattergl"
           }
          ],
          "scattermapbox": [
           {
            "marker": {
             "colorbar": {
              "outlinewidth": 0,
              "ticks": ""
             }
            },
            "type": "scattermapbox"
           }
          ],
          "scatterpolar": [
           {
            "marker": {
             "colorbar": {
              "outlinewidth": 0,
              "ticks": ""
             }
            },
            "type": "scatterpolar"
           }
          ],
          "scatterpolargl": [
           {
            "marker": {
             "colorbar": {
              "outlinewidth": 0,
              "ticks": ""
             }
            },
            "type": "scatterpolargl"
           }
          ],
          "scatterternary": [
           {
            "marker": {
             "colorbar": {
              "outlinewidth": 0,
              "ticks": ""
             }
            },
            "type": "scatterternary"
           }
          ],
          "surface": [
           {
            "colorbar": {
             "outlinewidth": 0,
             "ticks": ""
            },
            "colorscale": [
             [
              0,
              "#0d0887"
             ],
             [
              0.1111111111111111,
              "#46039f"
             ],
             [
              0.2222222222222222,
              "#7201a8"
             ],
             [
              0.3333333333333333,
              "#9c179e"
             ],
             [
              0.4444444444444444,
              "#bd3786"
             ],
             [
              0.5555555555555556,
              "#d8576b"
             ],
             [
              0.6666666666666666,
              "#ed7953"
             ],
             [
              0.7777777777777778,
              "#fb9f3a"
             ],
             [
              0.8888888888888888,
              "#fdca26"
             ],
             [
              1,
              "#f0f921"
             ]
            ],
            "type": "surface"
           }
          ],
          "table": [
           {
            "cells": {
             "fill": {
              "color": "#EBF0F8"
             },
             "line": {
              "color": "white"
             }
            },
            "header": {
             "fill": {
              "color": "#C8D4E3"
             },
             "line": {
              "color": "white"
             }
            },
            "type": "table"
           }
          ]
         },
         "layout": {
          "annotationdefaults": {
           "arrowcolor": "#2a3f5f",
           "arrowhead": 0,
           "arrowwidth": 1
          },
          "autotypenumbers": "strict",
          "coloraxis": {
           "colorbar": {
            "outlinewidth": 0,
            "ticks": ""
           }
          },
          "colorscale": {
           "diverging": [
            [
             0,
             "#8e0152"
            ],
            [
             0.1,
             "#c51b7d"
            ],
            [
             0.2,
             "#de77ae"
            ],
            [
             0.3,
             "#f1b6da"
            ],
            [
             0.4,
             "#fde0ef"
            ],
            [
             0.5,
             "#f7f7f7"
            ],
            [
             0.6,
             "#e6f5d0"
            ],
            [
             0.7,
             "#b8e186"
            ],
            [
             0.8,
             "#7fbc41"
            ],
            [
             0.9,
             "#4d9221"
            ],
            [
             1,
             "#276419"
            ]
           ],
           "sequential": [
            [
             0,
             "#0d0887"
            ],
            [
             0.1111111111111111,
             "#46039f"
            ],
            [
             0.2222222222222222,
             "#7201a8"
            ],
            [
             0.3333333333333333,
             "#9c179e"
            ],
            [
             0.4444444444444444,
             "#bd3786"
            ],
            [
             0.5555555555555556,
             "#d8576b"
            ],
            [
             0.6666666666666666,
             "#ed7953"
            ],
            [
             0.7777777777777778,
             "#fb9f3a"
            ],
            [
             0.8888888888888888,
             "#fdca26"
            ],
            [
             1,
             "#f0f921"
            ]
           ],
           "sequentialminus": [
            [
             0,
             "#0d0887"
            ],
            [
             0.1111111111111111,
             "#46039f"
            ],
            [
             0.2222222222222222,
             "#7201a8"
            ],
            [
             0.3333333333333333,
             "#9c179e"
            ],
            [
             0.4444444444444444,
             "#bd3786"
            ],
            [
             0.5555555555555556,
             "#d8576b"
            ],
            [
             0.6666666666666666,
             "#ed7953"
            ],
            [
             0.7777777777777778,
             "#fb9f3a"
            ],
            [
             0.8888888888888888,
             "#fdca26"
            ],
            [
             1,
             "#f0f921"
            ]
           ]
          },
          "colorway": [
           "#636efa",
           "#EF553B",
           "#00cc96",
           "#ab63fa",
           "#FFA15A",
           "#19d3f3",
           "#FF6692",
           "#B6E880",
           "#FF97FF",
           "#FECB52"
          ],
          "font": {
           "color": "#2a3f5f"
          },
          "geo": {
           "bgcolor": "white",
           "lakecolor": "white",
           "landcolor": "#E5ECF6",
           "showlakes": true,
           "showland": true,
           "subunitcolor": "white"
          },
          "hoverlabel": {
           "align": "left"
          },
          "hovermode": "closest",
          "mapbox": {
           "style": "light"
          },
          "paper_bgcolor": "white",
          "plot_bgcolor": "#E5ECF6",
          "polar": {
           "angularaxis": {
            "gridcolor": "white",
            "linecolor": "white",
            "ticks": ""
           },
           "bgcolor": "#E5ECF6",
           "radialaxis": {
            "gridcolor": "white",
            "linecolor": "white",
            "ticks": ""
           }
          },
          "scene": {
           "xaxis": {
            "backgroundcolor": "#E5ECF6",
            "gridcolor": "white",
            "gridwidth": 2,
            "linecolor": "white",
            "showbackground": true,
            "ticks": "",
            "zerolinecolor": "white"
           },
           "yaxis": {
            "backgroundcolor": "#E5ECF6",
            "gridcolor": "white",
            "gridwidth": 2,
            "linecolor": "white",
            "showbackground": true,
            "ticks": "",
            "zerolinecolor": "white"
           },
           "zaxis": {
            "backgroundcolor": "#E5ECF6",
            "gridcolor": "white",
            "gridwidth": 2,
            "linecolor": "white",
            "showbackground": true,
            "ticks": "",
            "zerolinecolor": "white"
           }
          },
          "shapedefaults": {
           "line": {
            "color": "#2a3f5f"
           }
          },
          "ternary": {
           "aaxis": {
            "gridcolor": "white",
            "linecolor": "white",
            "ticks": ""
           },
           "baxis": {
            "gridcolor": "white",
            "linecolor": "white",
            "ticks": ""
           },
           "bgcolor": "#E5ECF6",
           "caxis": {
            "gridcolor": "white",
            "linecolor": "white",
            "ticks": ""
           }
          },
          "title": {
           "x": 0.05
          },
          "xaxis": {
           "automargin": true,
           "gridcolor": "white",
           "linecolor": "white",
           "ticks": "",
           "title": {
            "standoff": 15
           },
           "zerolinecolor": "white",
           "zerolinewidth": 2
          },
          "yaxis": {
           "automargin": true,
           "gridcolor": "white",
           "linecolor": "white",
           "ticks": "",
           "title": {
            "standoff": 15
           },
           "zerolinecolor": "white",
           "zerolinewidth": 2
          }
         }
        },
        "xaxis": {
         "anchor": "y",
         "domain": [
          0,
          1
         ],
         "title": {
          "text": ""
         }
        },
        "yaxis": {
         "anchor": "x",
         "domain": [
          0,
          1
         ],
         "tickformat": ".2%",
         "title": {
          "text": "ROI"
         }
        }
       }
      }
     },
     "metadata": {},
     "output_type": "display_data"
    }
   ],
   "source": [
    "color = [px.colors.qualitative.Plotly[1]]\n",
    "color = color + px.colors.qualitative.Pastel1[0:3]\n",
    "fig = px.line(\n",
    "    df[['ROR', '^DJI','^GSPC','^IXIC']],\n",
    "    color_discrete_sequence=color)\n",
    "\n",
    "fig.update_traces(mode=\"lines\", hovertemplate=None)\n",
    "fig.update_layout(xaxis_title=\"\", yaxis_title=\"ROI\", yaxis_tickformat = '.2%')\n",
    "#fig.update_xaxes(title='x', visible=False, showticklabels=False, row=1, col=1)\n",
    "fig.update_layout(hovermode=\"x\")\n",
    "fig.update_layout(legend_title_text='ROI')\n",
    "#fig.add_bar(y=Return[Return['return']>=0]['return'],x=Return[Return['return']>=0]['return'].index,marker={'color':'#EF553B'}, row=2, col=1,name='earn', showlegend=False)\n",
    "#fig.add_bar(y=Return[Return['return']<0]['return'],x=Return[Return['return']<0].index,marker={'color':'#00CC96'}, row=2, col=1,name='lost', showlegend=False)\n",
    "fig.show()"
   ]
  },
  {
   "cell_type": "code",
   "execution_count": null,
   "metadata": {},
   "outputs": [
    {
     "name": "stdout",
     "output_type": "stream",
     "text": [
      "[*********************100%***********************]  1 of 1 completed\n"
     ]
    }
   ],
   "source": [
    "df = yf.download('^IXIC')\n"
   ]
  },
  {
   "cell_type": "code",
   "execution_count": null,
   "metadata": {},
   "outputs": [
    {
     "data": {
      "text/html": [
       "<div>\n",
       "<style scoped>\n",
       "    .dataframe tbody tr th:only-of-type {\n",
       "        vertical-align: middle;\n",
       "    }\n",
       "\n",
       "    .dataframe tbody tr th {\n",
       "        vertical-align: top;\n",
       "    }\n",
       "\n",
       "    .dataframe thead th {\n",
       "        text-align: right;\n",
       "    }\n",
       "</style>\n",
       "<table border=\"1\" class=\"dataframe\">\n",
       "  <thead>\n",
       "    <tr style=\"text-align: right;\">\n",
       "      <th></th>\n",
       "      <th>Open</th>\n",
       "      <th>High</th>\n",
       "      <th>Low</th>\n",
       "      <th>Close</th>\n",
       "      <th>Adj Close</th>\n",
       "      <th>Volume</th>\n",
       "    </tr>\n",
       "    <tr>\n",
       "      <th>Date</th>\n",
       "      <th></th>\n",
       "      <th></th>\n",
       "      <th></th>\n",
       "      <th></th>\n",
       "      <th></th>\n",
       "      <th></th>\n",
       "    </tr>\n",
       "  </thead>\n",
       "  <tbody>\n",
       "    <tr>\n",
       "      <th>1971-02-05</th>\n",
       "      <td>100.000000</td>\n",
       "      <td>100.000000</td>\n",
       "      <td>100.000000</td>\n",
       "      <td>100.000000</td>\n",
       "      <td>100.000000</td>\n",
       "      <td>0</td>\n",
       "    </tr>\n",
       "    <tr>\n",
       "      <th>1971-02-08</th>\n",
       "      <td>100.839996</td>\n",
       "      <td>100.839996</td>\n",
       "      <td>100.839996</td>\n",
       "      <td>100.839996</td>\n",
       "      <td>100.839996</td>\n",
       "      <td>0</td>\n",
       "    </tr>\n",
       "    <tr>\n",
       "      <th>1971-02-09</th>\n",
       "      <td>100.760002</td>\n",
       "      <td>100.760002</td>\n",
       "      <td>100.760002</td>\n",
       "      <td>100.760002</td>\n",
       "      <td>100.760002</td>\n",
       "      <td>0</td>\n",
       "    </tr>\n",
       "    <tr>\n",
       "      <th>1971-02-10</th>\n",
       "      <td>100.690002</td>\n",
       "      <td>100.690002</td>\n",
       "      <td>100.690002</td>\n",
       "      <td>100.690002</td>\n",
       "      <td>100.690002</td>\n",
       "      <td>0</td>\n",
       "    </tr>\n",
       "    <tr>\n",
       "      <th>1971-02-11</th>\n",
       "      <td>101.449997</td>\n",
       "      <td>101.449997</td>\n",
       "      <td>101.449997</td>\n",
       "      <td>101.449997</td>\n",
       "      <td>101.449997</td>\n",
       "      <td>0</td>\n",
       "    </tr>\n",
       "    <tr>\n",
       "      <th>...</th>\n",
       "      <td>...</td>\n",
       "      <td>...</td>\n",
       "      <td>...</td>\n",
       "      <td>...</td>\n",
       "      <td>...</td>\n",
       "      <td>...</td>\n",
       "    </tr>\n",
       "    <tr>\n",
       "      <th>2023-03-09</th>\n",
       "      <td>11578.309570</td>\n",
       "      <td>11667.120117</td>\n",
       "      <td>11319.980469</td>\n",
       "      <td>11338.349609</td>\n",
       "      <td>11338.349609</td>\n",
       "      <td>5061790000</td>\n",
       "    </tr>\n",
       "    <tr>\n",
       "      <th>2023-03-10</th>\n",
       "      <td>11325.360352</td>\n",
       "      <td>11373.809570</td>\n",
       "      <td>11093.860352</td>\n",
       "      <td>11138.889648</td>\n",
       "      <td>11138.889648</td>\n",
       "      <td>6193500000</td>\n",
       "    </tr>\n",
       "    <tr>\n",
       "      <th>2023-03-13</th>\n",
       "      <td>11041.459961</td>\n",
       "      <td>11326.730469</td>\n",
       "      <td>10982.799805</td>\n",
       "      <td>11188.839844</td>\n",
       "      <td>11188.839844</td>\n",
       "      <td>6201490000</td>\n",
       "    </tr>\n",
       "    <tr>\n",
       "      <th>2023-03-14</th>\n",
       "      <td>11357.730469</td>\n",
       "      <td>11467.019531</td>\n",
       "      <td>11284.929688</td>\n",
       "      <td>11428.150391</td>\n",
       "      <td>11428.150391</td>\n",
       "      <td>5533120000</td>\n",
       "    </tr>\n",
       "    <tr>\n",
       "      <th>2023-03-15</th>\n",
       "      <td>11291.169922</td>\n",
       "      <td>11447.900391</td>\n",
       "      <td>11238.440430</td>\n",
       "      <td>11434.049805</td>\n",
       "      <td>11434.049805</td>\n",
       "      <td>5912430000</td>\n",
       "    </tr>\n",
       "  </tbody>\n",
       "</table>\n",
       "<p>13141 rows × 6 columns</p>\n",
       "</div>"
      ],
      "text/plain": [
       "                    Open          High           Low         Close  \\\n",
       "Date                                                                 \n",
       "1971-02-05    100.000000    100.000000    100.000000    100.000000   \n",
       "1971-02-08    100.839996    100.839996    100.839996    100.839996   \n",
       "1971-02-09    100.760002    100.760002    100.760002    100.760002   \n",
       "1971-02-10    100.690002    100.690002    100.690002    100.690002   \n",
       "1971-02-11    101.449997    101.449997    101.449997    101.449997   \n",
       "...                  ...           ...           ...           ...   \n",
       "2023-03-09  11578.309570  11667.120117  11319.980469  11338.349609   \n",
       "2023-03-10  11325.360352  11373.809570  11093.860352  11138.889648   \n",
       "2023-03-13  11041.459961  11326.730469  10982.799805  11188.839844   \n",
       "2023-03-14  11357.730469  11467.019531  11284.929688  11428.150391   \n",
       "2023-03-15  11291.169922  11447.900391  11238.440430  11434.049805   \n",
       "\n",
       "               Adj Close      Volume  \n",
       "Date                                  \n",
       "1971-02-05    100.000000           0  \n",
       "1971-02-08    100.839996           0  \n",
       "1971-02-09    100.760002           0  \n",
       "1971-02-10    100.690002           0  \n",
       "1971-02-11    101.449997           0  \n",
       "...                  ...         ...  \n",
       "2023-03-09  11338.349609  5061790000  \n",
       "2023-03-10  11138.889648  6193500000  \n",
       "2023-03-13  11188.839844  6201490000  \n",
       "2023-03-14  11428.150391  5533120000  \n",
       "2023-03-15  11434.049805  5912430000  \n",
       "\n",
       "[13141 rows x 6 columns]"
      ]
     },
     "execution_count": 17,
     "metadata": {},
     "output_type": "execute_result"
    }
   ],
   "source": [
    "df"
   ]
  },
  {
   "cell_type": "code",
   "execution_count": null,
   "metadata": {},
   "outputs": [
    {
     "data": {
      "text/html": [
       "<div>\n",
       "<style scoped>\n",
       "    .dataframe tbody tr th:only-of-type {\n",
       "        vertical-align: middle;\n",
       "    }\n",
       "\n",
       "    .dataframe tbody tr th {\n",
       "        vertical-align: top;\n",
       "    }\n",
       "\n",
       "    .dataframe thead th {\n",
       "        text-align: right;\n",
       "    }\n",
       "</style>\n",
       "<table border=\"1\" class=\"dataframe\">\n",
       "  <thead>\n",
       "    <tr style=\"text-align: right;\">\n",
       "      <th></th>\n",
       "      <th>Open</th>\n",
       "      <th>High</th>\n",
       "      <th>Low</th>\n",
       "      <th>Close</th>\n",
       "      <th>Adj Close</th>\n",
       "      <th>Volume</th>\n",
       "    </tr>\n",
       "    <tr>\n",
       "      <th>Date</th>\n",
       "      <th></th>\n",
       "      <th></th>\n",
       "      <th></th>\n",
       "      <th></th>\n",
       "      <th></th>\n",
       "      <th></th>\n",
       "    </tr>\n",
       "  </thead>\n",
       "  <tbody>\n",
       "    <tr>\n",
       "      <th>1971-02-05</th>\n",
       "      <td>100.000000</td>\n",
       "      <td>100.000000</td>\n",
       "      <td>100.000000</td>\n",
       "      <td>100.000000</td>\n",
       "      <td>100.000000</td>\n",
       "      <td>0</td>\n",
       "    </tr>\n",
       "    <tr>\n",
       "      <th>1971-02-08</th>\n",
       "      <td>100.839996</td>\n",
       "      <td>100.839996</td>\n",
       "      <td>100.839996</td>\n",
       "      <td>100.839996</td>\n",
       "      <td>100.839996</td>\n",
       "      <td>0</td>\n",
       "    </tr>\n",
       "    <tr>\n",
       "      <th>1971-02-09</th>\n",
       "      <td>100.760002</td>\n",
       "      <td>100.760002</td>\n",
       "      <td>100.760002</td>\n",
       "      <td>100.760002</td>\n",
       "      <td>100.760002</td>\n",
       "      <td>0</td>\n",
       "    </tr>\n",
       "    <tr>\n",
       "      <th>1971-02-10</th>\n",
       "      <td>100.690002</td>\n",
       "      <td>100.690002</td>\n",
       "      <td>100.690002</td>\n",
       "      <td>100.690002</td>\n",
       "      <td>100.690002</td>\n",
       "      <td>0</td>\n",
       "    </tr>\n",
       "    <tr>\n",
       "      <th>1971-02-11</th>\n",
       "      <td>101.449997</td>\n",
       "      <td>101.449997</td>\n",
       "      <td>101.449997</td>\n",
       "      <td>101.449997</td>\n",
       "      <td>101.449997</td>\n",
       "      <td>0</td>\n",
       "    </tr>\n",
       "    <tr>\n",
       "      <th>...</th>\n",
       "      <td>...</td>\n",
       "      <td>...</td>\n",
       "      <td>...</td>\n",
       "      <td>...</td>\n",
       "      <td>...</td>\n",
       "      <td>...</td>\n",
       "    </tr>\n",
       "    <tr>\n",
       "      <th>2023-03-09</th>\n",
       "      <td>11578.309570</td>\n",
       "      <td>11667.120117</td>\n",
       "      <td>11319.980469</td>\n",
       "      <td>11338.349609</td>\n",
       "      <td>11338.349609</td>\n",
       "      <td>5061790000</td>\n",
       "    </tr>\n",
       "    <tr>\n",
       "      <th>2023-03-10</th>\n",
       "      <td>11325.360352</td>\n",
       "      <td>11373.809570</td>\n",
       "      <td>11093.860352</td>\n",
       "      <td>11138.889648</td>\n",
       "      <td>11138.889648</td>\n",
       "      <td>6193500000</td>\n",
       "    </tr>\n",
       "    <tr>\n",
       "      <th>2023-03-13</th>\n",
       "      <td>11041.459961</td>\n",
       "      <td>11326.730469</td>\n",
       "      <td>10982.799805</td>\n",
       "      <td>11188.839844</td>\n",
       "      <td>11188.839844</td>\n",
       "      <td>6201490000</td>\n",
       "    </tr>\n",
       "    <tr>\n",
       "      <th>2023-03-14</th>\n",
       "      <td>11357.730469</td>\n",
       "      <td>11467.019531</td>\n",
       "      <td>11284.929688</td>\n",
       "      <td>11428.150391</td>\n",
       "      <td>11428.150391</td>\n",
       "      <td>5533120000</td>\n",
       "    </tr>\n",
       "    <tr>\n",
       "      <th>2023-03-15</th>\n",
       "      <td>11291.169922</td>\n",
       "      <td>11447.900391</td>\n",
       "      <td>11238.440430</td>\n",
       "      <td>11434.049805</td>\n",
       "      <td>11434.049805</td>\n",
       "      <td>5912430000</td>\n",
       "    </tr>\n",
       "  </tbody>\n",
       "</table>\n",
       "<p>13141 rows × 6 columns</p>\n",
       "</div>"
      ],
      "text/plain": [
       "                    Open          High           Low         Close  \\\n",
       "Date                                                                 \n",
       "1971-02-05    100.000000    100.000000    100.000000    100.000000   \n",
       "1971-02-08    100.839996    100.839996    100.839996    100.839996   \n",
       "1971-02-09    100.760002    100.760002    100.760002    100.760002   \n",
       "1971-02-10    100.690002    100.690002    100.690002    100.690002   \n",
       "1971-02-11    101.449997    101.449997    101.449997    101.449997   \n",
       "...                  ...           ...           ...           ...   \n",
       "2023-03-09  11578.309570  11667.120117  11319.980469  11338.349609   \n",
       "2023-03-10  11325.360352  11373.809570  11093.860352  11138.889648   \n",
       "2023-03-13  11041.459961  11326.730469  10982.799805  11188.839844   \n",
       "2023-03-14  11357.730469  11467.019531  11284.929688  11428.150391   \n",
       "2023-03-15  11291.169922  11447.900391  11238.440430  11434.049805   \n",
       "\n",
       "               Adj Close      Volume  \n",
       "Date                                  \n",
       "1971-02-05    100.000000           0  \n",
       "1971-02-08    100.839996           0  \n",
       "1971-02-09    100.760002           0  \n",
       "1971-02-10    100.690002           0  \n",
       "1971-02-11    101.449997           0  \n",
       "...                  ...         ...  \n",
       "2023-03-09  11338.349609  5061790000  \n",
       "2023-03-10  11138.889648  6193500000  \n",
       "2023-03-13  11188.839844  6201490000  \n",
       "2023-03-14  11428.150391  5533120000  \n",
       "2023-03-15  11434.049805  5912430000  \n",
       "\n",
       "[13141 rows x 6 columns]"
      ]
     },
     "execution_count": 18,
     "metadata": {},
     "output_type": "execute_result"
    }
   ],
   "source": [
    "df"
   ]
  },
  {
   "cell_type": "code",
   "execution_count": null,
   "metadata": {},
   "outputs": [],
   "source": [
    "df['close_1'] = df['Adj Close'].shift(1)"
   ]
  },
  {
   "cell_type": "code",
   "execution_count": null,
   "metadata": {},
   "outputs": [],
   "source": [
    "df['grow'] = (df['Adj Close'] - df['close_1'])/df['close_1']"
   ]
  },
  {
   "cell_type": "code",
   "execution_count": null,
   "metadata": {},
   "outputs": [
    {
     "data": {
      "text/plain": [
       "0.078737    1\n",
       "0.079364    1\n",
       "0.081215    1\n",
       "0.081228    1\n",
       "0.089212    1\n",
       "0.093460    1\n",
       "0.095338    1\n",
       "0.104769    1\n",
       "0.118059    1\n",
       "0.141732    1\n",
       "Name: grow, dtype: int64"
      ]
     },
     "execution_count": 21,
     "metadata": {},
     "output_type": "execute_result"
    }
   ],
   "source": [
    "df['grow'].value_counts(sort=True).sort_index().iloc[-10:]"
   ]
  },
  {
   "cell_type": "code",
   "execution_count": null,
   "metadata": {},
   "outputs": [
    {
     "data": {
      "text/html": [
       "<div>\n",
       "<style scoped>\n",
       "    .dataframe tbody tr th:only-of-type {\n",
       "        vertical-align: middle;\n",
       "    }\n",
       "\n",
       "    .dataframe tbody tr th {\n",
       "        vertical-align: top;\n",
       "    }\n",
       "\n",
       "    .dataframe thead th {\n",
       "        text-align: right;\n",
       "    }\n",
       "</style>\n",
       "<table border=\"1\" class=\"dataframe\">\n",
       "  <thead>\n",
       "    <tr style=\"text-align: right;\">\n",
       "      <th></th>\n",
       "      <th>Open</th>\n",
       "      <th>High</th>\n",
       "      <th>Low</th>\n",
       "      <th>Close</th>\n",
       "      <th>Adj Close</th>\n",
       "      <th>Volume</th>\n",
       "      <th>close_1</th>\n",
       "      <th>grow</th>\n",
       "    </tr>\n",
       "    <tr>\n",
       "      <th>Date</th>\n",
       "      <th></th>\n",
       "      <th></th>\n",
       "      <th></th>\n",
       "      <th></th>\n",
       "      <th></th>\n",
       "      <th></th>\n",
       "      <th></th>\n",
       "      <th></th>\n",
       "    </tr>\n",
       "  </thead>\n",
       "  <tbody>\n",
       "    <tr>\n",
       "      <th>2001-01-03</th>\n",
       "      <td>2254.560059</td>\n",
       "      <td>2618.030029</td>\n",
       "      <td>2251.709961</td>\n",
       "      <td>2616.689941</td>\n",
       "      <td>2616.689941</td>\n",
       "      <td>3188000000</td>\n",
       "      <td>2291.860107</td>\n",
       "      <td>0.141732</td>\n",
       "    </tr>\n",
       "    <tr>\n",
       "      <th>2008-10-13</th>\n",
       "      <td>1734.599976</td>\n",
       "      <td>1844.250000</td>\n",
       "      <td>1715.739990</td>\n",
       "      <td>1844.250000</td>\n",
       "      <td>1844.250000</td>\n",
       "      <td>2665690000</td>\n",
       "      <td>1649.510010</td>\n",
       "      <td>0.118059</td>\n",
       "    </tr>\n",
       "    <tr>\n",
       "      <th>2000-12-05</th>\n",
       "      <td>2702.719971</td>\n",
       "      <td>2889.800049</td>\n",
       "      <td>2694.409912</td>\n",
       "      <td>2889.800049</td>\n",
       "      <td>2889.800049</td>\n",
       "      <td>2474670000</td>\n",
       "      <td>2615.750000</td>\n",
       "      <td>0.104769</td>\n",
       "    </tr>\n",
       "    <tr>\n",
       "      <th>2008-10-28</th>\n",
       "      <td>1552.239990</td>\n",
       "      <td>1649.469971</td>\n",
       "      <td>1504.130005</td>\n",
       "      <td>1649.469971</td>\n",
       "      <td>1649.469971</td>\n",
       "      <td>2777540000</td>\n",
       "      <td>1505.900024</td>\n",
       "      <td>0.095338</td>\n",
       "    </tr>\n",
       "    <tr>\n",
       "      <th>2020-03-13</th>\n",
       "      <td>7610.390137</td>\n",
       "      <td>7875.930176</td>\n",
       "      <td>7219.089844</td>\n",
       "      <td>7874.879883</td>\n",
       "      <td>7874.879883</td>\n",
       "      <td>4701070000</td>\n",
       "      <td>7201.799805</td>\n",
       "      <td>0.093460</td>\n",
       "    </tr>\n",
       "    <tr>\n",
       "      <th>2001-04-05</th>\n",
       "      <td>1709.910034</td>\n",
       "      <td>1785.729980</td>\n",
       "      <td>1706.099976</td>\n",
       "      <td>1785.000000</td>\n",
       "      <td>1785.000000</td>\n",
       "      <td>2333000000</td>\n",
       "      <td>1638.800049</td>\n",
       "      <td>0.089212</td>\n",
       "    </tr>\n",
       "    <tr>\n",
       "      <th>2001-04-18</th>\n",
       "      <td>2005.060059</td>\n",
       "      <td>2129.310059</td>\n",
       "      <td>1995.910034</td>\n",
       "      <td>2079.439941</td>\n",
       "      <td>2079.439941</td>\n",
       "      <td>3195650000</td>\n",
       "      <td>1923.219971</td>\n",
       "      <td>0.081228</td>\n",
       "    </tr>\n",
       "    <tr>\n",
       "      <th>2020-03-24</th>\n",
       "      <td>7196.149902</td>\n",
       "      <td>7418.370117</td>\n",
       "      <td>7169.859863</td>\n",
       "      <td>7417.859863</td>\n",
       "      <td>7417.859863</td>\n",
       "      <td>4441080000</td>\n",
       "      <td>6860.669922</td>\n",
       "      <td>0.081215</td>\n",
       "    </tr>\n",
       "    <tr>\n",
       "      <th>2000-05-30</th>\n",
       "      <td>3286.540039</td>\n",
       "      <td>3460.239990</td>\n",
       "      <td>3286.540039</td>\n",
       "      <td>3459.479980</td>\n",
       "      <td>3459.479980</td>\n",
       "      <td>1457360000</td>\n",
       "      <td>3205.110107</td>\n",
       "      <td>0.079364</td>\n",
       "    </tr>\n",
       "    <tr>\n",
       "      <th>2000-10-13</th>\n",
       "      <td>3054.550049</td>\n",
       "      <td>3316.969971</td>\n",
       "      <td>3054.550049</td>\n",
       "      <td>3316.770020</td>\n",
       "      <td>3316.770020</td>\n",
       "      <td>2070750000</td>\n",
       "      <td>3074.679932</td>\n",
       "      <td>0.078737</td>\n",
       "    </tr>\n",
       "    <tr>\n",
       "      <th>2000-10-19</th>\n",
       "      <td>3330.250000</td>\n",
       "      <td>3423.449951</td>\n",
       "      <td>3314.889893</td>\n",
       "      <td>3418.600098</td>\n",
       "      <td>3418.600098</td>\n",
       "      <td>2343470000</td>\n",
       "      <td>3171.560059</td>\n",
       "      <td>0.077892</td>\n",
       "    </tr>\n",
       "    <tr>\n",
       "      <th>2002-05-08</th>\n",
       "      <td>1625.729980</td>\n",
       "      <td>1696.349976</td>\n",
       "      <td>1625.729980</td>\n",
       "      <td>1696.290039</td>\n",
       "      <td>1696.290039</td>\n",
       "      <td>2403240000</td>\n",
       "      <td>1573.819946</td>\n",
       "      <td>0.077817</td>\n",
       "    </tr>\n",
       "    <tr>\n",
       "      <th>2000-12-22</th>\n",
       "      <td>2397.669922</td>\n",
       "      <td>2517.929932</td>\n",
       "      <td>2397.669922</td>\n",
       "      <td>2517.020020</td>\n",
       "      <td>2517.020020</td>\n",
       "      <td>2235410000</td>\n",
       "      <td>2340.120117</td>\n",
       "      <td>0.075594</td>\n",
       "    </tr>\n",
       "    <tr>\n",
       "      <th>1987-10-21</th>\n",
       "      <td>343.700012</td>\n",
       "      <td>352.299988</td>\n",
       "      <td>343.700012</td>\n",
       "      <td>351.899994</td>\n",
       "      <td>351.899994</td>\n",
       "      <td>288100000</td>\n",
       "      <td>327.799988</td>\n",
       "      <td>0.073520</td>\n",
       "    </tr>\n",
       "    <tr>\n",
       "      <th>2022-11-10</th>\n",
       "      <td>10869.169922</td>\n",
       "      <td>11119.120117</td>\n",
       "      <td>10779.950195</td>\n",
       "      <td>11114.150391</td>\n",
       "      <td>11114.150391</td>\n",
       "      <td>6433000000</td>\n",
       "      <td>10353.169922</td>\n",
       "      <td>0.073502</td>\n",
       "    </tr>\n",
       "  </tbody>\n",
       "</table>\n",
       "</div>"
      ],
      "text/plain": [
       "                    Open          High           Low         Close  \\\n",
       "Date                                                                 \n",
       "2001-01-03   2254.560059   2618.030029   2251.709961   2616.689941   \n",
       "2008-10-13   1734.599976   1844.250000   1715.739990   1844.250000   \n",
       "2000-12-05   2702.719971   2889.800049   2694.409912   2889.800049   \n",
       "2008-10-28   1552.239990   1649.469971   1504.130005   1649.469971   \n",
       "2020-03-13   7610.390137   7875.930176   7219.089844   7874.879883   \n",
       "2001-04-05   1709.910034   1785.729980   1706.099976   1785.000000   \n",
       "2001-04-18   2005.060059   2129.310059   1995.910034   2079.439941   \n",
       "2020-03-24   7196.149902   7418.370117   7169.859863   7417.859863   \n",
       "2000-05-30   3286.540039   3460.239990   3286.540039   3459.479980   \n",
       "2000-10-13   3054.550049   3316.969971   3054.550049   3316.770020   \n",
       "2000-10-19   3330.250000   3423.449951   3314.889893   3418.600098   \n",
       "2002-05-08   1625.729980   1696.349976   1625.729980   1696.290039   \n",
       "2000-12-22   2397.669922   2517.929932   2397.669922   2517.020020   \n",
       "1987-10-21    343.700012    352.299988    343.700012    351.899994   \n",
       "2022-11-10  10869.169922  11119.120117  10779.950195  11114.150391   \n",
       "\n",
       "               Adj Close      Volume       close_1      grow  \n",
       "Date                                                          \n",
       "2001-01-03   2616.689941  3188000000   2291.860107  0.141732  \n",
       "2008-10-13   1844.250000  2665690000   1649.510010  0.118059  \n",
       "2000-12-05   2889.800049  2474670000   2615.750000  0.104769  \n",
       "2008-10-28   1649.469971  2777540000   1505.900024  0.095338  \n",
       "2020-03-13   7874.879883  4701070000   7201.799805  0.093460  \n",
       "2001-04-05   1785.000000  2333000000   1638.800049  0.089212  \n",
       "2001-04-18   2079.439941  3195650000   1923.219971  0.081228  \n",
       "2020-03-24   7417.859863  4441080000   6860.669922  0.081215  \n",
       "2000-05-30   3459.479980  1457360000   3205.110107  0.079364  \n",
       "2000-10-13   3316.770020  2070750000   3074.679932  0.078737  \n",
       "2000-10-19   3418.600098  2343470000   3171.560059  0.077892  \n",
       "2002-05-08   1696.290039  2403240000   1573.819946  0.077817  \n",
       "2000-12-22   2517.020020  2235410000   2340.120117  0.075594  \n",
       "1987-10-21    351.899994   288100000    327.799988  0.073520  \n",
       "2022-11-10  11114.150391  6433000000  10353.169922  0.073502  "
      ]
     },
     "execution_count": 22,
     "metadata": {},
     "output_type": "execute_result"
    }
   ],
   "source": [
    "df = df.sort_values('grow',ascending=False)\n",
    "df.iloc[:15]"
   ]
  }
 ],
 "metadata": {
  "kernelspec": {
   "display_name": "Python 3",
   "language": "python",
   "name": "python3"
  },
  "language_info": {
   "codemirror_mode": {
    "name": "ipython",
    "version": 3
   },
   "file_extension": ".py",
   "mimetype": "text/x-python",
   "name": "python",
   "nbconvert_exporter": "python",
   "pygments_lexer": "ipython3",
   "version": "3.10.10"
  },
  "orig_nbformat": 4,
  "vscode": {
   "interpreter": {
    "hash": "66eba28a75a64fbe1a9b9c30d27f7c856726c51cbbef86297708eae4ce175db0"
   }
  }
 },
 "nbformat": 4,
 "nbformat_minor": 2
}
